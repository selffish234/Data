{
 "cells": [
  {
   "cell_type": "markdown",
   "metadata": {
    "id": "i4WEOSGz9570"
   },
   "source": [
    "# 실습과제3\n",
    "\n",
    "보스턴 주택 데이터셋을 활용하여 Linear Regression을 학습시키시오.\n",
    "1. 데이터를 시각화 하시오.\n",
    "2. 회귀 계수, MSE, RMSE를 산출하시오\n",
    "3. 어떤 변수가 가격에 어떠한 영향을 미치고 있는지 간략히 서술 하시오."
   ]
  },
  {
   "cell_type": "code",
   "execution_count": 2,
   "metadata": {
    "executionInfo": {
     "elapsed": 10,
     "status": "ok",
     "timestamp": 1648025351585,
     "user": {
      "displayName": "이병한",
      "photoUrl": "https://lh3.googleusercontent.com/a/default-user=s64",
      "userId": "17139807818283072330"
     },
     "user_tz": -540
    },
    "id": "Kc3Wkg3y9wDs"
   },
   "outputs": [],
   "source": [
    "%matplotlib inline\n",
    "import matplotlib as mpl\n",
    "import matplotlib.pyplot as plt"
   ]
  },
  {
   "cell_type": "code",
   "execution_count": 3,
   "metadata": {
    "executionInfo": {
     "elapsed": 1213,
     "status": "ok",
     "timestamp": 1648025352791,
     "user": {
      "displayName": "이병한",
      "photoUrl": "https://lh3.googleusercontent.com/a/default-user=s64",
      "userId": "17139807818283072330"
     },
     "user_tz": -540
    },
    "id": "3bYy7AjF9x1D"
   },
   "outputs": [],
   "source": [
    "import pandas as pd\n",
    "import numpy as np\n",
    "import seaborn as sns"
   ]
  },
  {
   "cell_type": "code",
   "execution_count": 4,
   "metadata": {
    "colab": {
     "base_uri": "https://localhost:8080/"
    },
    "executionInfo": {
     "elapsed": 381,
     "status": "ok",
     "timestamp": 1648025353168,
     "user": {
      "displayName": "이병한",
      "photoUrl": "https://lh3.googleusercontent.com/a/default-user=s64",
      "userId": "17139807818283072330"
     },
     "user_tz": -540
    },
    "id": "FFYc3r199yCS",
    "outputId": "ba86b03d-3fff-4c59-c903-402df71b76f3"
   },
   "outputs": [],
   "source": [
    "from sklearn.datasets import load_boston\n",
    "boston = load_boston()"
   ]
  },
  {
   "cell_type": "markdown",
   "metadata": {
    "id": "Dq-fdo0u_0i_"
   },
   "source": [
    "# 데이터 시각화"
   ]
  },
  {
   "cell_type": "code",
   "execution_count": null,
   "metadata": {},
   "outputs": [],
   "source": [
    "df = #데이터 프레임\n",
    "df[\"y\"] = #target"
   ]
  },
  {
   "cell_type": "code",
   "execution_count": 5,
   "metadata": {
    "id": "EYX-GDtf9zML"
   },
   "outputs": [
    {
     "data": {
      "image/png": "[encoded data removed]",
      "text/plain": [
       "<Figure size 1152x576 with 10 Axes>"
      ]
     },
     "metadata": {
      "needs_background": "light"
     },
     "output_type": "display_data"
    }
   ],
   "source": [
    "fig, axs = plt.subplots(figsize = (16, 8), ncols = 5, nrows = 2)\n",
    "\n",
    "\"\"\"\n",
    "for i, feature in data:\n",
    "    row = int(i/5)\n",
    "    col = i%5\n",
    "    sns.regplot(data = df, x = feature, y = \"y\" , ax = axs[row][col])\n",
    "\"\"\"\n",
    "# row 행, col 열\n",
    "# axs[row][col] 어디에 해당 plot을 위치시킬지에 대한 것입니다."
   ]
  },
  {
   "cell_type": "markdown",
   "metadata": {
    "id": "5y6lemPK_2Dm"
   },
   "source": [
    "# 모델 학습"
   ]
  },
  {
   "cell_type": "code",
   "execution_count": null,
   "metadata": {
    "id": "FC3s929f_8qH"
   },
   "outputs": [],
   "source": []
  },
  {
   "cell_type": "markdown",
   "metadata": {
    "id": "ojzBXFdd_9F-"
   },
   "source": [
    "# 회귀계수 및 MSE, RMSE"
   ]
  },
  {
   "cell_type": "code",
   "execution_count": null,
   "metadata": {
    "id": "OwAEyBcY__1K"
   },
   "outputs": [],
   "source": []
  },
  {
   "cell_type": "markdown",
   "metadata": {
    "id": "MklH6_dkAD43"
   },
   "source": [
    "#변수들에 대한 간략한 설명"
   ]
  }
 ],
 "metadata": {
  "colab": {
   "authorship_tag": "ABX9TyN5LuMUGdntAkEGpomqHtY2",
   "name": "실습과제3.ipynb",
   "provenance": []
  },
  "kernelspec": {
   "display_name": "Python 3",
   "language": "python",
   "name": "python3"
  },
  "language_info": {
   "codemirror_mode": {
    "name": "ipython",
    "version": 3
   },
   "file_extension": ".py",
   "mimetype": "text/x-python",
   "name": "python",
   "nbconvert_exporter": "python",
   "pygments_lexer": "ipython3",
   "version": "3.8.5"
  }
 },
 "nbformat": 4,
 "nbformat_minor": 1
}
