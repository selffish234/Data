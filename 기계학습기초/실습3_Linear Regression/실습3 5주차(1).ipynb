{
 "cells": [
  {
   "cell_type": "markdown",
   "metadata": {
    "id": "RdmK5jlpGRHv"
   },
   "source": [
    "# 1. Linear Regression\n",
    "#####  - poly regression\n",
    "#####  - Regularized regression\n"
   ]
  },
  {
   "cell_type": "code",
   "execution_count": 2,
   "metadata": {
    "ExecuteTime": {
     "end_time": "2023-10-17T13:30:55.733970Z",
     "start_time": "2023-10-17T13:30:50.651259Z"
    },
    "id": "Pss49vNKcUCl"
   },
   "outputs": [],
   "source": [
    "%matplotlib inline\n",
    "import matplotlib as mpl\n",
    "import matplotlib.pyplot as plt\n",
    "import seaborn as sns"
   ]
  },
  {
   "cell_type": "markdown",
   "metadata": {
    "id": "93CvzE1AcGBZ"
   },
   "source": [
    "# **Linear Regression**"
   ]
  },
  {
   "cell_type": "markdown",
   "metadata": {
    "id": "WpqBjRWqxuWg"
   },
   "source": [
    "### 아이스크림 판매량 예측\n"
   ]
  },
  {
   "cell_type": "code",
   "execution_count": 3,
   "metadata": {
    "ExecuteTime": {
     "end_time": "2023-10-17T13:30:55.749492Z",
     "start_time": "2023-10-17T13:30:55.737757Z"
    },
    "id": "mC4GSRLMyLF6"
   },
   "outputs": [],
   "source": [
    "temperature = [30,32,34,36]\n",
    "sale = [10,20,30,40]"
   ]
  },
  {
   "cell_type": "code",
   "execution_count": 4,
   "metadata": {
    "ExecuteTime": {
     "end_time": "2023-10-17T13:30:56.060645Z",
     "start_time": "2023-10-17T13:30:55.752477Z"
    },
    "colab": {
     "base_uri": "https://localhost:8080/",
     "height": 448
    },
    "id": "kqhFrboiy8-i",
    "outputId": "7eedaa18-a2e9-4e75-ac44-0d16fef76657"
   },
   "outputs": [
    {
     "data": {
      "text/plain": [
       "<AxesSubplot:>"
      ]
     },
     "execution_count": 4,
     "metadata": {},
     "output_type": "execute_result"
    },
    {
     "data": {
      "image/png": "[encoded data removed]",
      "text/plain": [
       "<Figure size 432x288 with 1 Axes>"
      ]
     },
     "metadata": {
      "needs_background": "light"
     },
     "output_type": "display_data"
    }
   ],
   "source": [
    "sns.scatterplot(x = temperature, y = sale)"
   ]
  },
  {
   "cell_type": "markdown",
   "metadata": {
    "id": "FvDaL_7h1pF-"
   },
   "source": [
    "## 수식\n",
    "\n",
    "#연립 방정식으로 풀 수 있다.\\\n",
    "$ 30 * x_1 + b = 10 $ \\\n",
    "$ 32 * x_1 + b = 20 $ \\\n",
    "$ 34 * x_1 + b = 30 $ \\\n",
    "$ 38 * x_1 + b = 40 $ \n",
    "\n",
    "$ sale = 5 * temperature - 140 $\n",
    "\n"
   ]
  },
  {
   "cell_type": "markdown",
   "metadata": {
    "id": "pojWzS8bv5WB"
   },
   "source": [
    "\n",
    "## mean square error (object function or loss function)\n",
    "$\n",
    "\\||y-\\mathbf{x}𝚹||^2 .\n",
    "$\n",
    "\n",
    "## 편미분\n",
    "$\n",
    "(-2)\\mathbf{x}^T(y-\\mathbf{x}\\hat{𝚯}) = 0.\n",
    "$\n",
    "\n",
    "$\n",
    "\\mathbf{x}^T\\mathbf{x}\\hat{𝚯} = \\mathbf{x}^Ty .\n",
    "$\n",
    "\n",
    "$\n",
    "\\hat{𝚯} = (\\mathbf{x}^T\\mathbf{x})^{-1}\\mathbf{x}^Ty .\n",
    "$"
   ]
  },
  {
   "cell_type": "code",
   "execution_count": 5,
   "metadata": {
    "ExecuteTime": {
     "end_time": "2023-10-17T13:30:56.075849Z",
     "start_time": "2023-10-17T13:30:56.064833Z"
    },
    "id": "2veFOw1mbdWk"
   },
   "outputs": [],
   "source": [
    "import numpy as np\n",
    "\n",
    "X = 2 * np.random.rand(100, 1)\n",
    "y = 4 + 3 * X + np.random.randn(100, 1)"
   ]
  },
  {
   "cell_type": "code",
   "execution_count": 6,
   "metadata": {
    "ExecuteTime": {
     "end_time": "2023-10-17T13:30:57.121230Z",
     "start_time": "2023-10-17T13:30:56.078304Z"
    },
    "colab": {
     "base_uri": "https://localhost:8080/",
     "height": 287
    },
    "id": "XUkHfQB8cFHE",
    "outputId": "86df716c-08a5-4ba3-e555-6bbea1f284ff"
   },
   "outputs": [
    {
     "data": {
      "image/png": "[encoded data removed]",
      "text/plain": [
       "<Figure size 432x288 with 1 Axes>"
      ]
     },
     "metadata": {
      "needs_background": "light"
     },
     "output_type": "display_data"
    }
   ],
   "source": [
    "plt.plot(X, y, \"b.\")\n",
    "plt.xlabel(\"$x_1$\", fontsize=18)\n",
    "plt.ylabel(\"$y$\", rotation=0, fontsize=18)\n",
    "plt.axis([0, 2, 0, 15])\n",
    "plt.show()"
   ]
  },
  {
   "cell_type": "code",
   "execution_count": 7,
   "metadata": {
    "ExecuteTime": {
     "end_time": "2023-10-17T13:30:57.152421Z",
     "start_time": "2023-10-17T13:30:57.124597Z"
    },
    "id": "tj8X4rFWcXq0"
   },
   "outputs": [],
   "source": [
    "X_b = np.c_[np.ones((100, 1)), X]  # add x0 = 1 to each instance\n",
    "theta_best = np.linalg.inv(X_b.T.dot(X_b)).dot(X_b.T).dot(y)"
   ]
  },
  {
   "cell_type": "code",
   "execution_count": 8,
   "metadata": {
    "ExecuteTime": {
     "end_time": "2023-10-17T13:30:57.167924Z",
     "start_time": "2023-10-17T13:30:57.155613Z"
    },
    "colab": {
     "base_uri": "https://localhost:8080/"
    },
    "id": "Jx7Kp8_icb3I",
    "outputId": "fe3fb34c-81ce-493d-bab3-66162bfa01f9"
   },
   "outputs": [
    {
     "data": {
      "text/plain": [
       "array([[3.99590157],\n",
       "       [3.06527004]])"
      ]
     },
     "execution_count": 8,
     "metadata": {},
     "output_type": "execute_result"
    }
   ],
   "source": [
    "theta_best"
   ]
  },
  {
   "cell_type": "code",
   "execution_count": 9,
   "metadata": {
    "ExecuteTime": {
     "end_time": "2023-10-17T13:30:57.183679Z",
     "start_time": "2023-10-17T13:30:57.171232Z"
    },
    "colab": {
     "base_uri": "https://localhost:8080/"
    },
    "id": "q7Pnuz36cdQW",
    "outputId": "7a4e9ab9-3785-4da8-c43e-34ba564267dc"
   },
   "outputs": [
    {
     "data": {
      "text/plain": [
       "array([[ 3.99590157],\n",
       "       [10.12644164]])"
      ]
     },
     "execution_count": 9,
     "metadata": {},
     "output_type": "execute_result"
    }
   ],
   "source": [
    "X_new = np.array([[0], [2]])\n",
    "X_new_b = np.c_[np.ones((2, 1)), X_new]  # add x0 = 1 to each instance\n",
    "y_predict = X_new_b.dot(theta_best)\n",
    "y_predict"
   ]
  },
  {
   "cell_type": "code",
   "execution_count": 10,
   "metadata": {
    "ExecuteTime": {
     "end_time": "2023-10-17T13:30:57.199426Z",
     "start_time": "2023-10-17T13:30:57.186385Z"
    },
    "colab": {
     "base_uri": "https://localhost:8080/"
    },
    "id": "-OFMaFJvGRH9",
    "outputId": "808a8394-32cb-45d9-9646-802e6defb767"
   },
   "outputs": [
    {
     "data": {
      "text/plain": [
       "array([[0],\n",
       "       [2]])"
      ]
     },
     "execution_count": 10,
     "metadata": {},
     "output_type": "execute_result"
    }
   ],
   "source": [
    "X_new"
   ]
  },
  {
   "cell_type": "code",
   "execution_count": 11,
   "metadata": {
    "ExecuteTime": {
     "end_time": "2023-10-17T13:30:57.617176Z",
     "start_time": "2023-10-17T13:30:57.204116Z"
    },
    "colab": {
     "base_uri": "https://localhost:8080/",
     "height": 287
    },
    "id": "fdlndwQQcmVa",
    "outputId": "59206b70-fd89-4f81-ba45-8c06efc0be57"
   },
   "outputs": [
    {
     "data": {
      "image/png": "[encoded data removed]",
      "text/plain": [
       "<Figure size 432x288 with 1 Axes>"
      ]
     },
     "metadata": {
      "needs_background": "light"
     },
     "output_type": "display_data"
    }
   ],
   "source": [
    "plt.plot(X_new, y_predict, \"r-\", linewidth=2, label=\"Predictions\")\n",
    "plt.plot(X, y, \"b.\")\n",
    "plt.xlabel(\"$x_1$\", fontsize=18)\n",
    "plt.ylabel(\"$y$\", rotation=0, fontsize=18)\n",
    "plt.legend(loc=\"upper left\", fontsize=14)\n",
    "plt.axis([0, 2, 0, 15])\n",
    "plt.show()"
   ]
  },
  {
   "cell_type": "code",
   "execution_count": 12,
   "metadata": {
    "ExecuteTime": {
     "end_time": "2023-10-17T13:30:58.006185Z",
     "start_time": "2023-10-17T13:30:57.621449Z"
    },
    "colab": {
     "base_uri": "https://localhost:8080/"
    },
    "id": "TVK2Fd60ctDf",
    "outputId": "a862a333-7af3-4ac1-f498-789efc4a593b"
   },
   "outputs": [
    {
     "data": {
      "text/plain": [
       "(array([3.99590157]), array([[3.06527004]]))"
      ]
     },
     "execution_count": 12,
     "metadata": {},
     "output_type": "execute_result"
    }
   ],
   "source": [
    "from sklearn.linear_model import LinearRegression\n",
    "\n",
    "lin_reg = LinearRegression()\n",
    "lin_reg.fit(X, y)\n",
    "lin_reg.intercept_, lin_reg.coef_"
   ]
  },
  {
   "cell_type": "code",
   "execution_count": 13,
   "metadata": {
    "ExecuteTime": {
     "end_time": "2023-10-17T13:31:03.351327Z",
     "start_time": "2023-10-17T13:31:03.343343Z"
    },
    "colab": {
     "base_uri": "https://localhost:8080/"
    },
    "id": "khBNHW3PcwB7",
    "outputId": "a55095cb-bb12-4509-d465-378e938fe8b0"
   },
   "outputs": [
    {
     "data": {
      "text/plain": [
       "array([[ 3.99590157],\n",
       "       [10.12644164]])"
      ]
     },
     "execution_count": 13,
     "metadata": {},
     "output_type": "execute_result"
    }
   ],
   "source": [
    "lin_reg.predict(X_new)"
   ]
  },
  {
   "cell_type": "code",
   "execution_count": 14,
   "metadata": {
    "ExecuteTime": {
     "end_time": "2023-10-17T13:31:03.692667Z",
     "start_time": "2023-10-17T13:31:03.680589Z"
    },
    "colab": {
     "base_uri": "https://localhost:8080/"
    },
    "id": "0GNWvfCdcx4f",
    "outputId": "52d310aa-5a3e-4f62-dd2c-4f20ccefba22"
   },
   "outputs": [
    {
     "data": {
      "text/plain": [
       "array([[3.99590157],\n",
       "       [3.06527004]])"
      ]
     },
     "execution_count": 14,
     "metadata": {},
     "output_type": "execute_result"
    }
   ],
   "source": [
    "theta_best_svd, residuals, rank, s = np.linalg.lstsq(X_b, y, rcond=1e-6)\n",
    "theta_best_svd"
   ]
  },
  {
   "cell_type": "code",
   "execution_count": 15,
   "metadata": {
    "ExecuteTime": {
     "end_time": "2023-10-17T13:31:03.954421Z",
     "start_time": "2023-10-17T13:31:03.937260Z"
    },
    "colab": {
     "base_uri": "https://localhost:8080/"
    },
    "id": "VkKrgmi3czUF",
    "outputId": "128ae27b-3a1c-447a-e740-dd9bf0f05e7b"
   },
   "outputs": [
    {
     "data": {
      "text/plain": [
       "array([[3.99590157],\n",
       "       [3.06527004]])"
      ]
     },
     "execution_count": 15,
     "metadata": {},
     "output_type": "execute_result"
    }
   ],
   "source": [
    "np.linalg.pinv(X_b).dot(y)"
   ]
  },
  {
   "cell_type": "markdown",
   "metadata": {
    "id": "yope0Eu6c5xa"
   },
   "source": [
    "# **Polynomial Regression**(비선형)"
   ]
  },
  {
   "cell_type": "code",
   "execution_count": 16,
   "metadata": {
    "ExecuteTime": {
     "end_time": "2023-10-17T13:31:05.333802Z",
     "start_time": "2023-10-17T13:31:05.311518Z"
    },
    "id": "bSRLUnr0c-iE"
   },
   "outputs": [
    {
     "name": "stdout",
     "output_type": "stream",
     "text": [
      "[[-2.04864154]\n",
      " [ 2.49630815]\n",
      " [ 1.5016502 ]\n",
      " [ 1.13829298]\n",
      " [ 2.06914121]\n",
      " [-0.05924071]\n",
      " [ 1.61110405]\n",
      " [-1.10207187]\n",
      " [-1.7567181 ]\n",
      " [ 0.79012921]\n",
      " [-2.49438893]\n",
      " [ 2.19487626]\n",
      " [ 0.09119713]\n",
      " [-2.85179719]\n",
      " [-0.50291454]\n",
      " [ 2.74966057]\n",
      " [-0.37795779]\n",
      " [ 2.30319442]\n",
      " [-0.73830084]\n",
      " [-1.1671218 ]\n",
      " [ 1.4662105 ]\n",
      " [ 1.4673275 ]\n",
      " [ 0.25512476]\n",
      " [-1.34269729]\n",
      " [-0.02717801]\n",
      " [ 0.73531721]\n",
      " [-0.24549779]\n",
      " [-0.68226212]\n",
      " [ 1.71148161]\n",
      " [ 1.59087447]\n",
      " [ 1.22870774]\n",
      " [ 2.76546147]\n",
      " [ 2.59505614]\n",
      " [ 0.58278263]\n",
      " [ 1.30805816]\n",
      " [ 2.28588559]\n",
      " [-1.90977203]\n",
      " [-0.27754546]\n",
      " [-0.59551318]\n",
      " [-0.36823499]\n",
      " [-1.55199398]\n",
      " [ 1.95815817]\n",
      " [ 1.32312265]\n",
      " [ 2.2950424 ]\n",
      " [-0.0469822 ]\n",
      " [ 2.90688749]\n",
      " [-1.78240307]\n",
      " [-1.98171827]\n",
      " [ 2.18449323]\n",
      " [-0.94263354]\n",
      " [ 2.70867318]\n",
      " [-2.36352534]\n",
      " [ 1.60465085]\n",
      " [-0.43372148]\n",
      " [-1.61808805]\n",
      " [-0.48859925]\n",
      " [ 0.21846696]\n",
      " [ 1.66276709]\n",
      " [-2.33456929]\n",
      " [-2.58135068]\n",
      " [-2.85596207]\n",
      " [ 0.25108614]\n",
      " [ 0.40604567]\n",
      " [ 1.31452385]\n",
      " [-0.88088194]\n",
      " [ 1.89678321]\n",
      " [ 1.53629065]\n",
      " [ 2.79792889]\n",
      " [-1.02321295]\n",
      " [ 2.25835095]\n",
      " [-2.5793978 ]\n",
      " [ 2.14862249]\n",
      " [ 0.77094403]\n",
      " [ 0.96643429]\n",
      " [-2.35712337]\n",
      " [ 0.47123539]\n",
      " [ 2.36809931]\n",
      " [-0.74918022]\n",
      " [ 2.26734954]\n",
      " [ 1.70303434]\n",
      " [ 0.15846343]\n",
      " [ 0.79000666]\n",
      " [ 2.55429006]\n",
      " [-1.60335135]\n",
      " [ 0.60175713]\n",
      " [-0.91070407]\n",
      " [ 0.20787977]\n",
      " [ 0.60765347]\n",
      " [-1.44350728]\n",
      " [ 1.29831057]\n",
      " [-2.92189754]\n",
      " [ 2.25410268]\n",
      " [ 0.58400328]\n",
      " [-2.45581196]\n",
      " [ 0.1028176 ]\n",
      " [ 2.63407379]\n",
      " [ 2.23834615]\n",
      " [-2.47203597]\n",
      " [-1.42400868]\n",
      " [ 2.14512156]]\n"
     ]
    }
   ],
   "source": [
    "m = 100\n",
    "X = 6 * np.random.rand(m, 1) - 3\n",
    "print(X)\n",
    "y = 0.5 * X**2 + X + 2 + np.random.randn(m, 1)"
   ]
  },
  {
   "cell_type": "code",
   "execution_count": null,
   "metadata": {
    "colab": {
     "base_uri": "https://localhost:8080/",
     "height": 291
    },
    "id": "Me1MHimcdC2o",
    "outputId": "1f95f146-e529-4269-fe52-190c2562c205"
   },
   "outputs": [
    {
     "data": {
      "image/png": "[encoded data removed]",
      "text/plain": [
       "<Figure size 432x288 with 1 Axes>"
      ]
     },
     "metadata": {
      "needs_background": "light"
     },
     "output_type": "display_data"
    }
   ],
   "source": [
    "plt.plot(X, y, \"b.\")\n",
    "plt.xlabel(\"$x_1$\", fontsize=18)\n",
    "plt.ylabel(\"$y$\", rotation=0, fontsize=18)\n",
    "plt.axis([-3, 3, 0, 10])\n",
    "plt.show()"
   ]
  },
  {
   "cell_type": "code",
   "execution_count": null,
   "metadata": {
    "colab": {
     "base_uri": "https://localhost:8080/"
    },
    "id": "yV783mtVdEei",
    "outputId": "c96d9ae2-2177-4753-c647-9f58dbedb982"
   },
   "outputs": [
    {
     "data": {
      "text/plain": [
       "array([-2.93187813])"
      ]
     },
     "execution_count": 24,
     "metadata": {},
     "output_type": "execute_result"
    }
   ],
   "source": [
    "from sklearn.preprocessing import PolynomialFeatures\n",
    "poly_features = PolynomialFeatures(degree=2, include_bias=False)\n",
    "X_poly = poly_features.fit_transform(X)\n",
    "X[0]"
   ]
  },
  {
   "cell_type": "code",
   "execution_count": null,
   "metadata": {
    "colab": {
     "base_uri": "https://localhost:8080/"
    },
    "id": "4INeHr_ddGNr",
    "outputId": "1a2afa4f-279f-4a4d-c411-deeede6aeeba"
   },
   "outputs": [
    {
     "data": {
      "text/plain": [
       "array([-2.93187813,  8.59590938])"
      ]
     },
     "execution_count": 25,
     "metadata": {},
     "output_type": "execute_result"
    }
   ],
   "source": [
    "X_poly[0]"
   ]
  },
  {
   "cell_type": "code",
   "execution_count": null,
   "metadata": {
    "colab": {
     "base_uri": "https://localhost:8080/"
    },
    "id": "rtdtbGfidIIh",
    "outputId": "c3119747-4026-4f0a-cf8d-1fa4d5d42da3"
   },
   "outputs": [
    {
     "data": {
      "text/plain": [
       "(array([1.9326696]), array([[0.99165946, 0.48476612]]))"
      ]
     },
     "execution_count": 26,
     "metadata": {},
     "output_type": "execute_result"
    }
   ],
   "source": [
    "lin_reg = LinearRegression()\n",
    "lin_reg.fit(X_poly, y)\n",
    "lin_reg.intercept_, lin_reg.coef_"
   ]
  },
  {
   "cell_type": "code",
   "execution_count": null,
   "metadata": {
    "colab": {
     "base_uri": "https://localhost:8080/",
     "height": 291
    },
    "id": "IsysTOLmdJ8v",
    "outputId": "23aa0f90-9125-4fe8-ebbb-d8f7350a29b5"
   },
   "outputs": [
    {
     "data": {
      "image/png": "[encoded data removed]",
      "text/plain": [
       "<Figure size 432x288 with 1 Axes>"
      ]
     },
     "metadata": {
      "needs_background": "light"
     },
     "output_type": "display_data"
    }
   ],
   "source": [
    "X_new=np.linspace(-3, 3, 100).reshape(100, 1)\n",
    "X_new_poly = poly_features.transform(X_new)\n",
    "y_new = lin_reg.predict(X_new_poly)\n",
    "plt.plot(X, y, \"b.\")\n",
    "plt.plot(X_new, y_new, \"r-\", linewidth=2, label=\"Predictions\")\n",
    "plt.xlabel(\"$x_1$\", fontsize=18)\n",
    "plt.ylabel(\"$y$\", rotation=0, fontsize=18)\n",
    "plt.legend(loc=\"upper left\", fontsize=14)\n",
    "plt.axis([-3, 3, 0, 10])\n",
    "plt.show()"
   ]
  },
  {
   "cell_type": "code",
   "execution_count": null,
   "metadata": {
    "colab": {
     "base_uri": "https://localhost:8080/",
     "height": 291
    },
    "id": "GNglGk56dMDH",
    "outputId": "b9ff15a4-5bdb-4d3b-aa06-c56a470d2561"
   },
   "outputs": [
    {
     "data": {
      "image/png": "[encoded data removed]",
      "text/plain": [
       "<Figure size 432x288 with 1 Axes>"
      ]
     },
     "metadata": {
      "needs_background": "light"
     },
     "output_type": "display_data"
    }
   ],
   "source": [
    "from sklearn.preprocessing import StandardScaler\n",
    "from sklearn.pipeline import Pipeline\n",
    "\n",
    "for style, width, degree in ((\"g-\", 1, 300), (\"b--\", 2, 2), (\"r-+\", 2, 1)):\n",
    "    polybig_features = PolynomialFeatures(degree=degree, include_bias=False)\n",
    "    std_scaler = StandardScaler()\n",
    "    lin_reg = LinearRegression()\n",
    "    polynomial_regression = Pipeline([\n",
    "            (\"poly_features\", polybig_features),\n",
    "            (\"std_scaler\", std_scaler),\n",
    "            (\"lin_reg\", lin_reg),\n",
    "        ])\n",
    "    polynomial_regression.fit(X, y)\n",
    "    y_newbig = polynomial_regression.predict(X_new)\n",
    "    plt.plot(X_new, y_newbig, style, label=str(degree), linewidth=width)\n",
    "\n",
    "plt.plot(X, y, \"b.\", linewidth=3)\n",
    "plt.legend(loc=\"upper left\")\n",
    "plt.xlabel(\"$x_1$\", fontsize=18)\n",
    "plt.ylabel(\"$y$\", rotation=0, fontsize=18)\n",
    "plt.axis([-3, 3, 0, 10])\n",
    "plt.show()"
   ]
  },
  {
   "cell_type": "code",
   "execution_count": null,
   "metadata": {
    "id": "oFSGGzOMpC6k"
   },
   "outputs": [],
   "source": [
    "from sklearn.metrics import mean_squared_error\n",
    "from sklearn.model_selection import train_test_split\n",
    "\n",
    "def plot_learning_curves(model, X, y):\n",
    "    X_train, X_val, y_train, y_val = train_test_split(X, y, test_size=0.2, random_state=10)\n",
    "    train_errors, val_errors = [], []\n",
    "    for m in range(1, len(X_train) + 1):\n",
    "        model.fit(X_train[:m], y_train[:m])\n",
    "        y_train_predict = model.predict(X_train[:m])\n",
    "        y_val_predict = model.predict(X_val)\n",
    "        train_errors.append(mean_squared_error(y_train[:m], y_train_predict))\n",
    "        val_errors.append(mean_squared_error(y_val, y_val_predict))\n",
    "\n",
    "    plt.plot(np.sqrt(train_errors), \"r-+\", linewidth=2, label=\"train\")\n",
    "    plt.plot(np.sqrt(val_errors), \"b-\", linewidth=3, label=\"val\")"
   ]
  },
  {
   "cell_type": "code",
   "execution_count": null,
   "metadata": {
    "colab": {
     "base_uri": "https://localhost:8080/",
     "height": 287
    },
    "id": "6AKt-E2uiYv_",
    "outputId": "2c205c08-bfef-4011-9663-b527314f368d"
   },
   "outputs": [
    {
     "data": {
      "image/png": "[encoded data removed]",
      "text/plain": [
       "<Figure size 432x288 with 1 Axes>"
      ]
     },
     "metadata": {
      "needs_background": "light"
     },
     "output_type": "display_data"
    }
   ],
   "source": [
    "plot_learning_curves(polynomial_regression,X,y)"
   ]
  },
  {
   "cell_type": "markdown",
   "metadata": {
    "id": "CwOp3hyLdWhh"
   },
   "source": [
    "# **Regularized Linear Models**"
   ]
  },
  {
   "cell_type": "markdown",
   "metadata": {
    "id": "FO2qQSi358-4"
   },
   "source": [
    "### 4.5.1 릿지 회귀 (Ridge Regression)\n",
    "\n",
    "**릿지 회귀**(또는 티호노프 규제)는 규제(regularization)가 추가된 선형 회귀 모델이다. 규제항(regularization term) $\\lambda \\sum_{i=1}^{n}{w_{i}^{2}}$ 이 비용함수(loss function)에 추가된다.\n",
    "\n",
    "따라서, 모델(알고리즘)을 데이터에 적합 시키는 것뿐만 아니라 모델의 가중치가 가능한 작게 유지되도록 한다. 규제항은 학습에만 사용되며 테스트 시에는 규제항이 사용되지 않는다.\n",
    "\n",
    "$$\n",
    "J(w) = \\text{MSE}(w) + \\lambda \\sum_{i=1}^{n}{w_{i}^{2}}\n",
    "$$\n",
    "\n",
    "위의 식에서 $\\lambda$는 하이퍼파라미터이며, 모델을 얼마나 많이 규제할지 조절한다. $\\lambda = 0$이면 릿지 회귀는 일반 선형 회귀와 같아지며, $\\lambda$가 커지게되면 모든 가중치가 거의 0에 가까워져, 결국 데이터의 평균을 지나는 선이 된다.\n",
    "\n",
    "릿지 회귀는 입력 특성의 스케일에 민감하기 때문에 데이터 스케일을 맞춰주는것이 중요하다."
   ]
  },
  {
   "cell_type": "code",
   "execution_count": null,
   "metadata": {
    "id": "psMCzT7WdSm1"
   },
   "outputs": [],
   "source": [
    "np.random.seed(42)\n",
    "m = 20\n",
    "X = 3 * np.random.rand(m, 1)\n",
    "y = 1 + 0.5 * X + np.random.randn(m, 1) / 1.5\n",
    "X_new = np.linspace(0, 3, 100).reshape(100, 1)"
   ]
  },
  {
   "cell_type": "code",
   "execution_count": null,
   "metadata": {
    "colab": {
     "base_uri": "https://localhost:8080/"
    },
    "id": "9anNmkP_daWv",
    "outputId": "716d6cf3-7b3d-49d9-83ee-6d1ab695b5f8"
   },
   "outputs": [
    {
     "data": {
      "text/plain": [
       "array([[1.55071465]])"
      ]
     },
     "execution_count": 23,
     "metadata": {},
     "output_type": "execute_result"
    }
   ],
   "source": [
    "from sklearn.linear_model import Ridge\n",
    "ridge_reg = Ridge(alpha=1, solver=\"cholesky\", random_state=42)\n",
    "ridge_reg.fit(X, y)\n",
    "ridge_reg.predict([[1.5]])"
   ]
  },
  {
   "cell_type": "code",
   "execution_count": null,
   "metadata": {
    "colab": {
     "base_uri": "https://localhost:8080/"
    },
    "id": "bbeKbD_WdbS6",
    "outputId": "8b6d6647-0547-432e-da3a-9920a3bc746f"
   },
   "outputs": [
    {
     "data": {
      "text/plain": [
       "array([[1.5507201]])"
      ]
     },
     "execution_count": 24,
     "metadata": {},
     "output_type": "execute_result"
    }
   ],
   "source": [
    "ridge_reg = Ridge(alpha=1, solver=\"sag\", random_state=42)\n",
    "ridge_reg.fit(X, y)\n",
    "ridge_reg.predict([[1.5]])"
   ]
  },
  {
   "cell_type": "code",
   "execution_count": null,
   "metadata": {
    "colab": {
     "base_uri": "https://localhost:8080/",
     "height": 291
    },
    "id": "0hB6VK7RdcdT",
    "outputId": "f6a3a6a4-aec5-4074-ef9a-4768bd10684e"
   },
   "outputs": [
    {
     "data": {
      "image/png": "[encoded data removed]",
      "text/plain": [
       "<Figure size 576x288 with 2 Axes>"
      ]
     },
     "metadata": {
      "needs_background": "light"
     },
     "output_type": "display_data"
    }
   ],
   "source": [
    "from sklearn.linear_model import Ridge\n",
    "from sklearn.pipeline import Pipeline\n",
    "from sklearn.preprocessing import StandardScaler\n",
    "\n",
    "def plot_model(model_class, polynomial, alphas, **model_kargs):\n",
    "    for alpha, style in zip(alphas, (\"b-\", \"g--\", \"r:\")):\n",
    "        model = model_class(alpha, **model_kargs) if alpha > 0 else LinearRegression()\n",
    "        if polynomial:\n",
    "            model = Pipeline([\n",
    "                    (\"poly_features\", PolynomialFeatures(degree=10, include_bias=False)),\n",
    "                    (\"std_scaler\", StandardScaler()),\n",
    "                    (\"regul_reg\", model),\n",
    "                ])\n",
    "        model.fit(X, y)\n",
    "        y_new_regul = model.predict(X_new)\n",
    "        lw = 2 if alpha > 0 else 1\n",
    "        plt.plot(X_new, y_new_regul, style, linewidth=lw, label=r\"$\\alpha = {}$\".format(alpha))\n",
    "    plt.plot(X, y, \"b.\", linewidth=3)\n",
    "    plt.legend(loc=\"upper left\", fontsize=15)\n",
    "    plt.xlabel(\"$x_1$\", fontsize=18)\n",
    "    plt.axis([0, 3, 0, 4])\n",
    "\n",
    "plt.figure(figsize=(8,4))\n",
    "plt.subplot(121)\n",
    "plot_model(Ridge, polynomial=False, alphas=(0, 10, 100), random_state=42)\n",
    "plt.ylabel(\"$y$\", rotation=0, fontsize=18)\n",
    "plt.subplot(122)\n",
    "plot_model(Ridge, polynomial=True, alphas=(0, 10**-5, 1), random_state=42)\n",
    "\n",
    "\n",
    "plt.show()"
   ]
  }
 ],
 "metadata": {
  "colab": {
   "provenance": []
  },
  "kernelspec": {
   "display_name": "Python 3 (ipykernel)",
   "language": "python",
   "name": "python3"
  },
  "language_info": {
   "codemirror_mode": {
    "name": "ipython",
    "version": 3
   },
   "file_extension": ".py",
   "mimetype": "text/x-python",
   "name": "python",
   "nbconvert_exporter": "python",
   "pygments_lexer": "ipython3",
   "version": "3.9.12"
  },
  "toc": {
   "base_numbering": 1,
   "nav_menu": {},
   "number_sections": true,
   "sideBar": true,
   "skip_h1_title": false,
   "title_cell": "Table of Contents",
   "title_sidebar": "Contents",
   "toc_cell": false,
   "toc_position": {},
   "toc_section_display": true,
   "toc_window_display": false
  }
 },
 "nbformat": 4,
 "nbformat_minor": 1
}
