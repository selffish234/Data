{
 "cells": [
  {
   "cell_type": "markdown",
   "metadata": {
    "id": "i0F5uTSdrAlc"
   },
   "source": [
    "#실습 과제 4"
   ]
  },
  {
   "cell_type": "markdown",
   "metadata": {
    "id": "QFd44ds_rXgO"
   },
   "source": [
    "# 밑에 코드에서 주어진 데이터를 사용하여 문제 1과 문제 2를 푸시오."
   ]
  },
  {
   "cell_type": "code",
   "execution_count": 33,
   "metadata": {
    "ExecuteTime": {
     "end_time": "2023-11-02T10:02:55.224675Z",
     "start_time": "2023-11-02T10:02:55.199854Z"
    },
    "id": "mLU-SV2Gq5eh"
   },
   "outputs": [],
   "source": [
    "#모든 ramdom state는 42로 고정하시오.\n",
    "\n",
    "from sklearn.datasets import load_wine\n",
    "from sklearn.model_selection import train_test_split\n",
    "from sklearn.metrics import accuracy_score\n",
    "\n",
    "data = load_wine()\n",
    "X_train, X_test, y_train, y_test = train_test_split(data.data, data.target, test_size= 0.2, random_state = 42)\n",
    "X_hold, X_test, y_hold, y_test = train_test_split(X_test, y_test, test_size= 0.5, random_state = 42)"
   ]
  },
  {
   "cell_type": "markdown",
   "metadata": {
    "id": "aDCbOZV-rFrn"
   },
   "source": [
    "# 문제 1\n",
    "# 2가지 LogisticRegression classifier를 만들고 해당 모델들의 train dataset에 대한 accuracy와 holdout validation set의 accuracy를 비교하시오.\n"
   ]
  },
  {
   "cell_type": "markdown",
   "metadata": {},
   "source": [
    "### 첫번째 모델은 regularization(penalty)를 적용하지 않은 모델"
   ]
  },
  {
   "cell_type": "code",
   "execution_count": 2,
   "metadata": {
    "ExecuteTime": {
     "end_time": "2023-11-02T09:49:19.408122Z",
     "start_time": "2023-11-02T09:49:19.205929Z"
    },
    "id": "MrnvC_yOrDoc"
   },
   "outputs": [],
   "source": [
    "from sklearn.linear_model import LogisticRegression"
   ]
  },
  {
   "cell_type": "code",
   "execution_count": 61,
   "metadata": {
    "ExecuteTime": {
     "end_time": "2023-11-02T10:21:28.947317Z",
     "start_time": "2023-11-02T10:21:28.860106Z"
    }
   },
   "outputs": [
    {
     "name": "stdout",
     "output_type": "stream",
     "text": [
      "LogisticRegression 모델 (penalty=none) - 훈련 세트 정확도: 96.47887323943662\n",
      "LogisticRegression 모델 (penalty=none) - 검증 세트 정확도: 94.44444444444444\n",
      "LogisticRegression 모델 (penalty=none) - 테스트 세트 정확도: 100.0\n"
     ]
    },
    {
     "name": "stderr",
     "output_type": "stream",
     "text": [
      "C:\\Users\\grupi\\anaconda3\\lib\\site-packages\\sklearn\\linear_model\\_logistic.py:814: ConvergenceWarning: lbfgs failed to converge (status=1):\n",
      "STOP: TOTAL NO. of ITERATIONS REACHED LIMIT.\n",
      "\n",
      "Increase the number of iterations (max_iter) or scale the data as shown in:\n",
      "    https://scikit-learn.org/stable/modules/preprocessing.html\n",
      "Please also refer to the documentation for alternative solver options:\n",
      "    https://scikit-learn.org/stable/modules/linear_model.html#logistic-regression\n",
      "  n_iter_i = _check_optimize_result(\n"
     ]
    }
   ],
   "source": [
    "lr1 = LogisticRegression(penalty='none')\n",
    "lr1.fit(X_train, y_train)\n",
    "\n",
    "\n",
    "train_accuracy_model1 = accuracy_score(y_train, lr1.predict(X_train))\n",
    "\n",
    "\n",
    "valid_accuracy_model1 = accuracy_score(y_hold, lr1.predict(X_hold))\n",
    "\n",
    "\n",
    "test_accuracy_model1 = accuracy_score(y_test, lr1.predict(X_test))\n",
    "\n",
    "# 결과 출력\n",
    "print(\"LogisticRegression 모델 (penalty=none) - 훈련 세트 정확도:\",train_accuracy_model1 * 100)\n",
    "print(\"LogisticRegression 모델 (penalty=none) - 검증 세트 정확도:\",valid_accuracy_model1 * 100)\n",
    "print(\"LogisticRegression 모델 (penalty=none) - 테스트 세트 정확도:\",test_accuracy_model1 * 100)\n"
   ]
  },
  {
   "cell_type": "markdown",
   "metadata": {},
   "source": [
    "### 두번째 모델은 L2 regularization(penalty)를 적용한 모델"
   ]
  },
  {
   "cell_type": "code",
   "execution_count": 66,
   "metadata": {
    "ExecuteTime": {
     "end_time": "2023-11-02T10:23:26.859197Z",
     "start_time": "2023-11-02T10:23:26.708572Z"
    }
   },
   "outputs": [
    {
     "name": "stdout",
     "output_type": "stream",
     "text": [
      "LogisticRegression 모델 (C = 100) - 훈련 세트 정확도: 96.47887323943662\n",
      "LogisticRegression 모델 (C = 100) - 검증 세트 정확도: 94.44444444444444\n",
      "LogisticRegression 모델 (C = 100) - 테스트 세트 정확도: 100.0\n",
      "LogisticRegression 모델 (penalty=l2, C = 100) - 훈련 세트 정확도: 95.77464788732394\n",
      "LogisticRegression 모델 (penalty=l2, C = 100) - 검증 세트 정확도: 94.44444444444444\n",
      "LogisticRegression 모델 (penalty=l2, C = 100) - 테스트 세트 정확도: 94.44444444444444\n"
     ]
    },
    {
     "name": "stderr",
     "output_type": "stream",
     "text": [
      "C:\\Users\\grupi\\anaconda3\\lib\\site-packages\\sklearn\\linear_model\\_logistic.py:1483: UserWarning: Setting penalty='none' will ignore the C and l1_ratio parameters\n",
      "  warnings.warn(\n",
      "C:\\Users\\grupi\\anaconda3\\lib\\site-packages\\sklearn\\linear_model\\_logistic.py:814: ConvergenceWarning: lbfgs failed to converge (status=1):\n",
      "STOP: TOTAL NO. of ITERATIONS REACHED LIMIT.\n",
      "\n",
      "Increase the number of iterations (max_iter) or scale the data as shown in:\n",
      "    https://scikit-learn.org/stable/modules/preprocessing.html\n",
      "Please also refer to the documentation for alternative solver options:\n",
      "    https://scikit-learn.org/stable/modules/linear_model.html#logistic-regression\n",
      "  n_iter_i = _check_optimize_result(\n",
      "C:\\Users\\grupi\\anaconda3\\lib\\site-packages\\sklearn\\linear_model\\_logistic.py:814: ConvergenceWarning: lbfgs failed to converge (status=1):\n",
      "STOP: TOTAL NO. of ITERATIONS REACHED LIMIT.\n",
      "\n",
      "Increase the number of iterations (max_iter) or scale the data as shown in:\n",
      "    https://scikit-learn.org/stable/modules/preprocessing.html\n",
      "Please also refer to the documentation for alternative solver options:\n",
      "    https://scikit-learn.org/stable/modules/linear_model.html#logistic-regression\n",
      "  n_iter_i = _check_optimize_result(\n"
     ]
    }
   ],
   "source": [
    "lr2 = LogisticRegression(penalty = \"none\", C = 100)\n",
    "lr2.fit(X_train, y_train)\n",
    "\n",
    "lr3 = LogisticRegression(penalty = \"l2\", C = 100)\n",
    "lr3.fit(X_train, y_train)\n",
    "\n",
    "train_accuracy_model2 = accuracy_score(y_train, lr2.predict(X_train))\n",
    "train_accuracy_model3 = accuracy_score(y_train, lr3.predict(X_train))\n",
    "valid_accuracy_model2 = accuracy_score(y_hold, lr2.predict(X_hold))\n",
    "valid_accuracy_model3 = accuracy_score(y_hold, lr3.predict(X_hold))\n",
    "test_accuracy_model2 = accuracy_score(y_test, lr2.predict(X_test))\n",
    "test_accuracy_model3 = accuracy_score(y_test, lr3.predict(X_test))\n",
    "\n",
    "\n",
    "\n",
    "print(\"LogisticRegression 모델 (C = 100) - 훈련 세트 정확도:\",train_accuracy_model2 * 100)\n",
    "print(\"LogisticRegression 모델 (C = 100) - 검증 세트 정확도:\",valid_accuracy_model2 * 100)\n",
    "print(\"LogisticRegression 모델 (C = 100) - 테스트 세트 정확도:\",test_accuracy_model2 * 100)\n",
    "print(\"LogisticRegression 모델 (penalty=l2, C = 100) - 훈련 세트 정확도:\",train_accuracy_model3 * 100)\n",
    "print(\"LogisticRegression 모델 (penalty=l2, C = 100) - 검증 세트 정확도:\",valid_accuracy_model3 * 100)\n",
    "print(\"LogisticRegression 모델 (penalty=l2, C = 100) - 테스트 세트 정확도:\",test_accuracy_model3 * 100)"
   ]
  },
  {
   "cell_type": "markdown",
   "metadata": {
    "id": "akYAONRxrLHX"
   },
   "source": [
    "# 문제 2\n",
    "## 주어진 파라미터를 이용하여 SVM classifier를 학습시키고 train dataset에 대한 accuracy와 holdout validation에 대한 accuracy를 출력하시오.\n",
    "## 해당 결과에 나타나는 현상에 대해서 서술하고 그러한 현상을 극복하기 위한 방법에 대해 간략히 서술하시오."
   ]
  },
  {
   "cell_type": "code",
   "execution_count": 38,
   "metadata": {
    "ExecuteTime": {
     "end_time": "2023-11-02T10:10:55.059615Z",
     "start_time": "2023-11-02T10:10:55.052352Z"
    },
    "id": "goKnZCylrIE4"
   },
   "outputs": [],
   "source": [
    "from sklearn.svm import SVC"
   ]
  },
  {
   "cell_type": "code",
   "execution_count": null,
   "metadata": {
    "id": "W4pKPaesrPcD"
   },
   "outputs": [],
   "source": [
    "gamma = 5\n",
    "C = 1000"
   ]
  },
  {
   "cell_type": "code",
   "execution_count": 68,
   "metadata": {
    "ExecuteTime": {
     "end_time": "2023-11-02T10:27:55.597563Z",
     "start_time": "2023-11-02T10:27:55.562107Z"
    }
   },
   "outputs": [
    {
     "name": "stdout",
     "output_type": "stream",
     "text": [
      "SVM 모델 - 훈련 세트 정확도: 1.0\n",
      "SVM 모델 - 검증 세트 정확도: 0.7222222222222222\n"
     ]
    }
   ],
   "source": [
    "svc1 = SVC(C = 1000, gamma = 5)\n",
    "svc1.fit(X_train, y_train)\n",
    "svc2 = SVC()\n",
    "svc2.fit(X_hold, y_hold)\n",
    "\n",
    "\n",
    "svc1_accuracy = accuracy_score(y_train, svc1.predict(X_train))\n",
    "svc2_accuracy = accuracy_score(y_hold, svc2.predict(X_hold))\n",
    "print(\"SVM 모델 - 훈련 세트 정확도:\",svc1_accuracy)\n",
    "print(\"SVM 모델 - 검증 세트 정확도:\",svc2_accuracy)"
   ]
  },
  {
   "cell_type": "markdown",
   "metadata": {
    "id": "943SRIlJDZBd"
   },
   "source": [
    "# 문제 3\n",
    "## 문제 1번과 2번에서 학습한 모델들의 각 holdout validation set의 accuracy를 비교하고 어떤 모델을 final 모델로 사용하는 것이 적절한 것인지 설명하시오."
   ]
  },
  {
   "cell_type": "code",
   "execution_count": 69,
   "metadata": {
    "ExecuteTime": {
     "end_time": "2023-11-02T10:28:37.843415Z",
     "start_time": "2023-11-02T10:28:37.830505Z"
    },
    "id": "gh51WGCfrRV9"
   },
   "outputs": [
    {
     "name": "stdout",
     "output_type": "stream",
     "text": [
      "LogisticRegression 모델 (penalty=none) - 검증 세트 정확도: 94.44444444444444\n",
      "LogisticRegression 모델 (C = 100) - 검증 세트 정확도: 94.44444444444444\n",
      "LogisticRegression 모델 (penalty=l2, C = 100) - 검증 세트 정확도: 94.44444444444444\n",
      "SVM 모델 - 검증 세트 정확도: 0.7222222222222222\n"
     ]
    }
   ],
   "source": [
    "print(\"LogisticRegression 모델 (penalty=none) - 검증 세트 정확도:\",valid_accuracy_model1 * 100)\n",
    "print(\"LogisticRegression 모델 (C = 100) - 검증 세트 정확도:\",valid_accuracy_model2 * 100)\n",
    "print(\"LogisticRegression 모델 (penalty=l2, C = 100) - 검증 세트 정확도:\",valid_accuracy_model3 * 100)\n",
    "print(\"SVM 모델 - 검증 세트 정확도:\",svc2_accuracy)"
   ]
  },
  {
   "cell_type": "markdown",
   "metadata": {},
   "source": [
    "### 답안: SVM 보다는 LogisticRegression을 사용하는 것이 holdout validation set의 accuracy를 비교했을때 더 정확도가 높다. 또한 LogisticRegression내에서는 penalty적용하거나 하지 않거나의 차이가 없는 데이터 셋이기 때문에 이 데이터에 한해서 무엇이든 사용해도 된다."
   ]
  }
 ],
 "metadata": {
  "colab": {
   "provenance": []
  },
  "kernelspec": {
   "display_name": "Python 3 (ipykernel)",
   "language": "python",
   "name": "python3"
  },
  "language_info": {
   "codemirror_mode": {
    "name": "ipython",
    "version": 3
   },
   "file_extension": ".py",
   "mimetype": "text/x-python",
   "name": "python",
   "nbconvert_exporter": "python",
   "pygments_lexer": "ipython3",
   "version": "3.9.12"
  },
  "toc": {
   "base_numbering": 1,
   "nav_menu": {},
   "number_sections": true,
   "sideBar": true,
   "skip_h1_title": false,
   "title_cell": "Table of Contents",
   "title_sidebar": "Contents",
   "toc_cell": false,
   "toc_position": {},
   "toc_section_display": true,
   "toc_window_display": false
  }
 },
 "nbformat": 4,
 "nbformat_minor": 1
}
