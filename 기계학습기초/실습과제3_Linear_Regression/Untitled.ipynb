{
 "cells": [
  {
   "cell_type": "code",
   "execution_count": 3,
   "id": "0337b348",
   "metadata": {
    "ExecuteTime": {
     "end_time": "2023-10-23T06:59:41.294925Z",
     "start_time": "2023-10-23T06:59:41.287716Z"
    }
   },
   "outputs": [],
   "source": [
    "%matplotlib inline\n",
    "import matplotlib as mpl\n",
    "import matplotlib.pyplot as plt\n",
    "import pandas as pd\n",
    "import numpy as np\n",
    "import seaborn as sns"
   ]
  },
  {
   "cell_type": "code",
   "execution_count": 9,
   "id": "2d793cb8",
   "metadata": {
    "ExecuteTime": {
     "end_time": "2023-10-23T07:00:23.454849Z",
     "start_time": "2023-10-23T07:00:23.437329Z"
    },
    "scrolled": true
   },
   "outputs": [
    {
     "data": {
      "text/plain": [
       "['CRIM',\n",
       " 'ZN',\n",
       " 'INDUS',\n",
       " 'CHAS',\n",
       " 'NOX',\n",
       " 'RM',\n",
       " 'AGE',\n",
       " 'DIS',\n",
       " 'RAD',\n",
       " 'TAX',\n",
       " 'PTRATIO',\n",
       " 'B',\n",
       " 'LSTAT',\n",
       " 'target']"
      ]
     },
     "execution_count": 9,
     "metadata": {},
     "output_type": "execute_result"
    }
   ],
   "source": [
    "boston = pd.read_csv(\"boston.csv\")\n",
    "boston.columns.tolist()"
   ]
  },
  {
   "cell_type": "code",
   "execution_count": 12,
   "id": "35205724",
   "metadata": {
    "ExecuteTime": {
     "end_time": "2023-10-23T07:02:30.057256Z",
     "start_time": "2023-10-23T07:02:30.044305Z"
    }
   },
   "outputs": [],
   "source": [
    "df = boston"
   ]
  },
  {
   "cell_type": "code",
   "execution_count": 13,
   "id": "21a3f182",
   "metadata": {
    "ExecuteTime": {
     "end_time": "2023-10-23T07:02:31.202126Z",
     "start_time": "2023-10-23T07:02:31.192112Z"
    }
   },
   "outputs": [],
   "source": [
    "from sklearn.preprocessing import StandardScaler\n",
    "from sklearn.model_selection import train_test_split\n",
    "from sklearn.linear_model import LinearRegression\n",
    "selected_column = \"RM\"\n",
    "X = df[selected_column].values\n",
    "selected_column2 = \"target\"\n",
    "y  = df[selected_column2].values\n",
    "#y = boston[\"target\"]"
   ]
  },
  {
   "cell_type": "code",
   "execution_count": 14,
   "id": "ba8adc4e",
   "metadata": {
    "ExecuteTime": {
     "end_time": "2023-10-23T07:02:33.439524Z",
     "start_time": "2023-10-23T07:02:33.434472Z"
    }
   },
   "outputs": [],
   "source": [
    "X, test_input, y, test_target = train_test_split(X, y, random_state = 42)"
   ]
  },
  {
   "cell_type": "code",
   "execution_count": 15,
   "id": "d62ca1cb",
   "metadata": {
    "ExecuteTime": {
     "end_time": "2023-10-23T07:04:06.806763Z",
     "start_time": "2023-10-23T07:04:06.799906Z"
    }
   },
   "outputs": [],
   "source": [
    "X = X.reshape(-1, 1)\n",
    "test_input = test_input.reshape(-1, 1) "
   ]
  },
  {
   "cell_type": "code",
   "execution_count": 17,
   "id": "80969d89",
   "metadata": {
    "ExecuteTime": {
     "end_time": "2023-10-23T07:05:26.814648Z",
     "start_time": "2023-10-23T07:05:26.794982Z"
    }
   },
   "outputs": [
    {
     "name": "stdout",
     "output_type": "stream",
     "text": [
      "-35.92697627454079 [9.30417153]\n"
     ]
    }
   ],
   "source": [
    "lr = LinearRegression()\n",
    "lr.fit(X, y)\n",
    "print(lr.intercept_, lr.coef_)"
   ]
  },
  {
   "cell_type": "code",
   "execution_count": null,
   "id": "ac6fec4a",
   "metadata": {},
   "outputs": [],
   "source": []
  }
 ],
 "metadata": {
  "kernelspec": {
   "display_name": "Python 3 (ipykernel)",
   "language": "python",
   "name": "python3"
  },
  "language_info": {
   "codemirror_mode": {
    "name": "ipython",
    "version": 3
   },
   "file_extension": ".py",
   "mimetype": "text/x-python",
   "name": "python",
   "nbconvert_exporter": "python",
   "pygments_lexer": "ipython3",
   "version": "3.9.12"
  },
  "toc": {
   "base_numbering": 1,
   "nav_menu": {},
   "number_sections": true,
   "sideBar": true,
   "skip_h1_title": false,
   "title_cell": "Table of Contents",
   "title_sidebar": "Contents",
   "toc_cell": false,
   "toc_position": {},
   "toc_section_display": true,
   "toc_window_display": false
  }
 },
 "nbformat": 4,
 "nbformat_minor": 5
}
