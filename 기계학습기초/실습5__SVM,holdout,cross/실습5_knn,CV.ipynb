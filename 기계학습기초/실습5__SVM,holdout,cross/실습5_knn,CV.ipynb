{
 "cells": [
  {
   "cell_type": "code",
   "execution_count": 5,
   "metadata": {
    "id": "pKNeHfHshiZ2"
   },
   "outputs": [],
   "source": [
    "import pandas as pd\n",
    "import numpy as np\n",
    "import matplotlib.pyplot as plt\n",
    "import seaborn as sns\n",
    "from matplotlib.colors import ListedColormap"
   ]
  },
  {
   "cell_type": "code",
   "execution_count": 6,
   "metadata": {
    "id": "kVyqGd4dlIRf"
   },
   "outputs": [],
   "source": [
    "from sklearn import datasets\n",
    "from sklearn.model_selection import train_test_split"
   ]
  },
  {
   "cell_type": "markdown",
   "metadata": {
    "id": "wqIfPwCqrHLZ"
   },
   "source": [
    "# K Near-Neighbors Classifier(KNN)"
   ]
  },
  {
   "cell_type": "code",
   "execution_count": 7,
   "metadata": {
    "id": "-AbSMRT_lXxX"
   },
   "outputs": [],
   "source": [
    "iris = datasets.load_iris()\n",
    "\n",
    "X = iris.data[:, :2]\n",
    "y = iris.target\n",
    "X_train, X_test, y_train, y_test = train_test_split(X, y, test_size= 0.2, random_state = 42)"
   ]
  },
  {
   "cell_type": "code",
   "execution_count": null,
   "metadata": {
    "id": "xa17CEwWiwZP"
   },
   "outputs": [],
   "source": [
    "from sklearn.neighbors import KNeighborsClassifier\n",
    "knn_clf = KNeighborsClassifier(weights='uniform', n_neighbors=4, metric = \"manhattan\")\n",
    "knn_clf.fit(X_train, y_train)"
   ]
  },
  {
   "cell_type": "code",
   "execution_count": 9,
   "metadata": {
    "id": "XCrZz_iGk7cF"
   },
   "outputs": [],
   "source": [
    "y_knn_pred = knn_clf.predict(X_test)"
   ]
  },
  {
   "cell_type": "code",
   "execution_count": null,
   "metadata": {
    "id": "t-f3mNTUk9LR"
   },
   "outputs": [],
   "source": [
    "from sklearn.metrics import accuracy_score\n",
    "accuracy_score(y_test, y_knn_pred)"
   ]
  },
  {
   "cell_type": "markdown",
   "metadata": {
    "id": "yIvg14E9o_J_"
   },
   "source": [
    "## Distance and Kneighbors"
   ]
  },
  {
   "cell_type": "code",
   "execution_count": null,
   "metadata": {
    "id": "b-Uc6E8C1WMM"
   },
   "outputs": [],
   "source": [
    "knn_clf.kneighbors(X_test)"
   ]
  },
  {
   "cell_type": "code",
   "execution_count": null,
   "metadata": {
    "id": "bQiomWrZMlV1"
   },
   "outputs": [],
   "source": [
    "y_knn_pred[16]"
   ]
  },
  {
   "cell_type": "code",
   "execution_count": null,
   "metadata": {
    "id": "Kusgwp5r1Yqx"
   },
   "outputs": [],
   "source": [
    "for i, idx in enumerate(knn_clf.kneighbors(X_test)[1]):\n",
    "  print(i, y_train[idx])"
   ]
  },
  {
   "cell_type": "code",
   "execution_count": null,
   "metadata": {
    "id": "X_LUUjox3lXr"
   },
   "outputs": [],
   "source": [
    "print(\"NN distance : \", knn_clf.kneighbors(X_test)[0][16])\n",
    "print(\"NN index : \", knn_clf.kneighbors(X_test)[1][16])\n",
    "print(\"vote : \",y_train[knn_clf.kneighbors(X_test)[1][16]])\n",
    "print(\"pred : \",y_knn_pred[16])\n",
    "print(\"gt : \",y_train[16])"
   ]
  },
  {
   "cell_type": "code",
   "execution_count": null,
   "metadata": {
    "id": "shiCSTPvogni"
   },
   "outputs": [],
   "source": [
    "print(f\"X1: {X_train[:, 0].min()} ~ {X_train[:, 0].max()}\")\n",
    "print(f\"X2: {X_train[:, 1].min()} ~ {X_train[:, 1].max()}\")"
   ]
  },
  {
   "cell_type": "code",
   "execution_count": 16,
   "metadata": {
    "id": "ifHHTKBwsg8v"
   },
   "outputs": [],
   "source": [
    "def vis_db(clf, X, y , axes = [4, 8, 1.5, 4.5]):\n",
    "  x1s = np.linspace(axes[0], axes[1], 100)\n",
    "  x2s = np.linspace(axes[2], axes[3], 100)\n",
    "  x1, x2 = np.meshgrid(x1s, x2s)\n",
    "  X_new = np.c_[x1.ravel(), x2.ravel()]\n",
    "  y_pred = clf.predict(X_new).reshape(x1.shape)\n",
    "  custom_cmap = ListedColormap(['#fafab0','#9898ff','#a0faa0'])\n",
    "  plt.figure(figsize=(10,8))\n",
    "  plt.contourf(x1, x2, y_pred, alpha=0.3, cmap=custom_cmap)\n",
    "  sns.scatterplot(x = X[:, 0], y = X[:, 1], hue = y)"
   ]
  },
  {
   "cell_type": "code",
   "execution_count": null,
   "metadata": {
    "id": "FQZhfzbXphgI"
   },
   "outputs": [],
   "source": [
    "vis_db(knn_clf, X_train, y_train)"
   ]
  },
  {
   "cell_type": "code",
   "execution_count": null,
   "metadata": {
    "id": "UmZFT1N7sTWS"
   },
   "outputs": [],
   "source": [
    "knn_clf_wight_euclidean = KNeighborsClassifier(weights='distance', metric =\"euclidean\",n_neighbors=1)\n",
    "knn_clf_wight_euclidean.fit(X_train, y_train)\n",
    "vis_db(knn_clf_wight_euclidean, X_train, y_train)"
   ]
  },
  {
   "cell_type": "markdown",
   "metadata": {
    "id": "_tGvbD2hqMc7"
   },
   "source": [
    "## Finding optimal K"
   ]
  },
  {
   "cell_type": "code",
   "execution_count": 21,
   "metadata": {
    "id": "to6mgME75OM8"
   },
   "outputs": [],
   "source": [
    "acc = []\n",
    "for k in range(1, 100):\n",
    "  knn_clf = KNeighborsClassifier(weights='uniform', n_neighbors= k)\n",
    "  knn_clf.fit(X_train, y_train)\n",
    "  acc.append(knn_clf.score(X_test, y_test))"
   ]
  },
  {
   "cell_type": "code",
   "execution_count": null,
   "metadata": {
    "id": "--l9A55Z5pIl"
   },
   "outputs": [],
   "source": [
    "plt.figure(figsize=(12,6))\n",
    "sns.lineplot(x = range(1,100), y = acc)"
   ]
  },
  {
   "cell_type": "markdown",
   "metadata": {
    "id": "2Da6o1EOrCAw"
   },
   "source": [
    "# Cross validation"
   ]
  },
  {
   "cell_type": "code",
   "execution_count": 33,
   "metadata": {
    "id": "FKKyy44anGrt"
   },
   "outputs": [],
   "source": [
    "from sklearn.model_selection import cross_val_score\n",
    "knn_clf = KNeighborsClassifier(weights='uniform', n_neighbors=5, metric = \"manhattan\")\n",
    "knn_cv = cross_val_score(knn_clf, X_train, y_train, cv=10)"
   ]
  },
  {
   "cell_type": "code",
   "execution_count": null,
   "metadata": {
    "id": "BvKzp9k_qf8U"
   },
   "outputs": [],
   "source": [
    "for f, s in enumerate(knn_cv):\n",
    "  print(f\"{f} fold : {s}\")\n",
    "print(f\"mean : {knn_cv.mean()}\")"
   ]
  },
  {
   "cell_type": "code",
   "execution_count": null,
   "metadata": {
    "id": "8IF6X5pkn24u"
   },
   "outputs": [],
   "source": [
    "plt.figure(figsize = ( 10, 5))\n",
    "sns.boxplot(x = knn_cv, orient = \"Vertical\")\n",
    "plt.xlabel(\"acc\", fontsize = 20)\n",
    "plt.xticks(fontsize = 15)"
   ]
  },
  {
   "cell_type": "code",
   "execution_count": 44,
   "metadata": {
    "id": "fk5jy3FG6e7f"
   },
   "outputs": [],
   "source": [
    "acc = []\n",
    "for k in range(1, 50):\n",
    "  knn_clf = KNeighborsClassifier(weights='uniform', n_neighbors= k)\n",
    "  score = cross_val_score(knn_clf, X_train, y_train, cv=5)\n",
    "  acc.append(score.mean())"
   ]
  },
  {
   "cell_type": "code",
   "execution_count": null,
   "metadata": {
    "id": "qqGX9aYy6sPl"
   },
   "outputs": [],
   "source": [
    "plt.figure(figsize=(12,6))\n",
    "sns.lineplot(x = range(1,50), y = acc)\n",
    "plt.xlabel(\"k\",fontsize = 20)\n",
    "plt.ylabel(\"acc\", fontsize = 20)"
   ]
  },
  {
   "cell_type": "code",
   "execution_count": null,
   "metadata": {
    "id": "lzivsgpXrwcZ"
   },
   "outputs": [],
   "source": [
    "np.argsort(acc)[::-1]"
   ]
  },
  {
   "cell_type": "markdown",
   "metadata": {
    "id": "Ul2dC9HXxOqJ"
   },
   "source": [
    "# Scaler Pipe Line"
   ]
  },
  {
   "cell_type": "code",
   "execution_count": 54,
   "metadata": {
    "id": "KSzBo1EM-4hw"
   },
   "outputs": [],
   "source": [
    "from sklearn.preprocessing import StandardScaler\n",
    "from sklearn.pipeline import Pipeline\n",
    "std_scaler = StandardScaler()\n",
    "std_scaler.fit(X)\n",
    "x_scaled = std_scaler.transform(X)"
   ]
  },
  {
   "cell_type": "code",
   "execution_count": null,
   "metadata": {
    "id": "oY3S7WJZ_Odi"
   },
   "outputs": [],
   "source": [
    "sns.distplot(X[:,0])"
   ]
  },
  {
   "cell_type": "code",
   "execution_count": null,
   "metadata": {
    "id": "b3zoI-PH_K8g"
   },
   "outputs": [],
   "source": [
    "sns.distplot(x_scaled[:,0])"
   ]
  },
  {
   "cell_type": "code",
   "execution_count": 105,
   "metadata": {
    "id": "9Hunyw6GuacA"
   },
   "outputs": [],
   "source": [
    "acc_scaled = []\n",
    "for k in range(1, 100):\n",
    "\n",
    "  std_scaler = StandardScaler()\n",
    "  knn = KNeighborsClassifier(weights='uniform', n_neighbors=k)\n",
    "  Knn_pipe = Pipeline([\n",
    "          (\"std_scaler\", std_scaler),\n",
    "          (\"knn\", knn),\n",
    "      ])\n",
    "\n",
    "  score_scaled = cross_val_score(Knn_pipe, X_train, y_train, cv=10)\n",
    "  acc_scaled.append(score_scaled.mean())"
   ]
  },
  {
   "cell_type": "code",
   "execution_count": 106,
   "metadata": {
    "colab": {
     "base_uri": "https://localhost:8080/",
     "height": 574
    },
    "id": "p1NNSi1r676n",
    "outputId": "fef6bbe8-e443-4d63-e73e-9b2a4aa9f7a1"
   },
   "outputs": [
    {
     "data": {
      "text/plain": [
       "Text(0, 0.5, 'acc')"
      ]
     },
     "execution_count": 106,
     "metadata": {},
     "output_type": "execute_result"
    },
    {
     "data": {
      "image/png": "[encoded data removed]",
      "text/plain": [
       "<Figure size 1200x600 with 1 Axes>"
      ]
     },
     "metadata": {},
     "output_type": "display_data"
    }
   ],
   "source": [
    "plt.figure(figsize=(12,6))\n",
    "sns.lineplot(x = range(1,100), y = acc_scaled)\n",
    "plt.xlabel(\"k\",fontsize = 20)\n",
    "plt.ylabel(\"acc\", fontsize = 20)"
   ]
  },
  {
   "cell_type": "markdown",
   "metadata": {
    "id": "YIa4DvdQzAUx"
   },
   "source": [
    "# breast cancer data"
   ]
  },
  {
   "cell_type": "code",
   "execution_count": 88,
   "metadata": {
    "id": "tjlYl-XNxeKg"
   },
   "outputs": [],
   "source": [
    "from sklearn.datasets import load_breast_cancer\n",
    "data = load_breast_cancer(as_frame=True)"
   ]
  },
  {
   "cell_type": "code",
   "execution_count": null,
   "metadata": {
    "id": "JDh0pmT0yf9T"
   },
   "outputs": [],
   "source": [
    "data.data.head()"
   ]
  },
  {
   "cell_type": "code",
   "execution_count": null,
   "metadata": {
    "id": "YEUGCUE74ztn"
   },
   "outputs": [],
   "source": [
    "data.data.columns"
   ]
  },
  {
   "cell_type": "code",
   "execution_count": null,
   "metadata": {
    "id": "1iOcCK594pLN"
   },
   "outputs": [],
   "source": [
    "data.data.describe()"
   ]
  },
  {
   "cell_type": "code",
   "execution_count": 94,
   "metadata": {
    "id": "agZ98oAEzzfo"
   },
   "outputs": [],
   "source": [
    "X_train, X_test, y_train, y_test = train_test_split(data.data, data.target, test_size= 0.2, random_state = 42)"
   ]
  },
  {
   "cell_type": "code",
   "execution_count": 95,
   "metadata": {
    "id": "pJd-3wPmzQWL"
   },
   "outputs": [],
   "source": [
    "std_scaler = StandardScaler()\n",
    "knn = KNeighborsClassifier(weights='uniform', n_neighbors=20)"
   ]
  },
  {
   "cell_type": "code",
   "execution_count": null,
   "metadata": {
    "id": "qRcVpeW-ztGP"
   },
   "outputs": [],
   "source": [
    "knn_cv = cross_val_score(knn, data.data, data.target, cv=10)\n",
    "knn_cv.mean()"
   ]
  },
  {
   "cell_type": "code",
   "execution_count": 97,
   "metadata": {
    "id": "luFAkxKG8usK"
   },
   "outputs": [],
   "source": [
    "acc = []\n",
    "for k in range(1, 100):\n",
    "  knn = KNeighborsClassifier(weights='uniform', n_neighbors=k)\n",
    "  score = cross_val_score(knn, X_train, y_train, cv=10)\n",
    "  acc.append(score.mean())"
   ]
  },
  {
   "cell_type": "code",
   "execution_count": null,
   "metadata": {
    "id": "0wIgVjvB86om"
   },
   "outputs": [],
   "source": [
    "plt.figure(figsize=(12,6))\n",
    "sns.lineplot(x = range(1,100), y = acc)\n",
    "plt.xlabel(\"k\",fontsize = 20)\n",
    "plt.ylabel(\"acc\", fontsize = 20)"
   ]
  },
  {
   "cell_type": "code",
   "execution_count": 99,
   "metadata": {
    "id": "mesS6LCQ0zdj"
   },
   "outputs": [],
   "source": [
    "from sklearn.preprocessing import StandardScaler\n",
    "from sklearn.pipeline import Pipeline\n",
    "acc_scaled = []\n",
    "models = []\n",
    "for k in range(1, 100):\n",
    "  knn = KNeighborsClassifier(weights='uniform', n_neighbors=k)\n",
    "  Knn_pipe = Pipeline([\n",
    "          (\"std_scaler\", std_scaler),\n",
    "          (\"knn\", knn),\n",
    "      ])\n",
    "\n",
    "  score = cross_val_score(Knn_pipe,  X_train, y_train, cv=10)\n",
    "  models.append(Knn_pipe)\n",
    "  acc_scaled.append(score.mean())"
   ]
  },
  {
   "cell_type": "code",
   "execution_count": null,
   "metadata": {
    "id": "FJHBNjIK8Eh4"
   },
   "outputs": [],
   "source": [
    "plt.figure(figsize=(12,6))\n",
    "sns.lineplot(x = range(1,100), y = acc, label = \"no scaled\")\n",
    "sns.lineplot(x = range(1,100), y = acc_scaled, label = \"std scaled\")\n",
    "plt.title(\"scaled vs no scaled\", fontsize = 30)\n",
    "plt.xlabel(\"k\",fontsize = 20)\n",
    "plt.ylabel(\"acc\", fontsize = 20)"
   ]
  },
  {
   "cell_type": "code",
   "execution_count": 101,
   "metadata": {
    "id": "jRVUvjggNayb"
   },
   "outputs": [],
   "source": [
    "best_k = np.argmax(np.array(acc_scaled))"
   ]
  },
  {
   "cell_type": "code",
   "execution_count": null,
   "metadata": {
    "id": "nMsP-vtFwJvP"
   },
   "outputs": [],
   "source": [
    "print(f\"best K : {best_k}\")"
   ]
  },
  {
   "cell_type": "code",
   "execution_count": null,
   "metadata": {
    "id": "8cscWYtI5qRp"
   },
   "outputs": [],
   "source": [
    "models[best_k].fit(X_train,y_train)"
   ]
  },
  {
   "cell_type": "code",
   "execution_count": null,
   "metadata": {
    "id": "ulUuDyLR5-H7"
   },
   "outputs": [],
   "source": [
    "#@title\n",
    "models[best_k].score(X_test,y_test)"
   ]
  }
 ],
 "metadata": {
  "colab": {
   "provenance": []
  },
  "kernelspec": {
   "display_name": "Python 3 (ipykernel)",
   "language": "python",
   "name": "python3"
  },
  "language_info": {
   "codemirror_mode": {
    "name": "ipython",
    "version": 3
   },
   "file_extension": ".py",
   "mimetype": "text/x-python",
   "name": "python",
   "nbconvert_exporter": "python",
   "pygments_lexer": "ipython3",
   "version": "3.9.12"
  },
  "toc": {
   "base_numbering": 1,
   "nav_menu": {},
   "number_sections": true,
   "sideBar": true,
   "skip_h1_title": false,
   "title_cell": "Table of Contents",
   "title_sidebar": "Contents",
   "toc_cell": false,
   "toc_position": {},
   "toc_section_display": true,
   "toc_window_display": false
  }
 },
 "nbformat": 4,
 "nbformat_minor": 1
}
