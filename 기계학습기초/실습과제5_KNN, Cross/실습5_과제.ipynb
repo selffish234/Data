{
 "cells": [
  {
   "cell_type": "code",
   "execution_count": 4,
   "metadata": {
    "ExecuteTime": {
     "end_time": "2023-11-09T12:14:30.934118Z",
     "start_time": "2023-11-09T12:14:30.927065Z"
    }
   },
   "outputs": [],
   "source": [
    "import pandas as pd\n",
    "import numpy as np\n",
    "import matplotlib.pyplot as plt\n",
    "import seaborn as sns\n",
    "from matplotlib.colors import ListedColormap"
   ]
  },
  {
   "cell_type": "code",
   "execution_count": 5,
   "metadata": {
    "ExecuteTime": {
     "end_time": "2023-11-09T12:14:32.211256Z",
     "start_time": "2023-11-09T12:14:30.940142Z"
    }
   },
   "outputs": [],
   "source": [
    "from sklearn import datasets\n",
    "from sklearn.model_selection import train_test_split"
   ]
  },
  {
   "cell_type": "code",
   "execution_count": 6,
   "metadata": {
    "ExecuteTime": {
     "end_time": "2023-11-09T12:14:32.226388Z",
     "start_time": "2023-11-09T12:14:32.215708Z"
    },
    "id": "a-mgrwkmcWRv"
   },
   "outputs": [],
   "source": [
    "from sklearn.datasets import load_wine"
   ]
  },
  {
   "cell_type": "code",
   "execution_count": 7,
   "metadata": {
    "ExecuteTime": {
     "end_time": "2023-11-09T12:14:32.272406Z",
     "start_time": "2023-11-09T12:14:32.230209Z"
    },
    "id": "duRY_upTcZKO"
   },
   "outputs": [],
   "source": [
    "data = load_wine(as_frame=True)"
   ]
  },
  {
   "cell_type": "markdown",
   "metadata": {
    "id": "rzu7IKAecnPf"
   },
   "source": [
    "# 1. k = 1일 때 항상 train dataset에 대한 accurcy를 제시하고 그 이유에 대해 설명하시오"
   ]
  },
  {
   "cell_type": "code",
   "execution_count": 8,
   "metadata": {
    "ExecuteTime": {
     "end_time": "2023-11-09T12:14:32.288045Z",
     "start_time": "2023-11-09T12:14:32.276605Z"
    },
    "id": "ukKEyfjrca5k"
   },
   "outputs": [],
   "source": [
    "X_train, X_test, y_train, y_test = train_test_split(data.data, data.target, test_size= 0.2, random_state = 42)"
   ]
  },
  {
   "cell_type": "code",
   "execution_count": 9,
   "metadata": {
    "ExecuteTime": {
     "end_time": "2023-11-09T12:14:32.756057Z",
     "start_time": "2023-11-09T12:14:32.293215Z"
    }
   },
   "outputs": [],
   "source": [
    "from sklearn.neighbors import KNeighborsClassifier"
   ]
  },
  {
   "cell_type": "code",
   "execution_count": 10,
   "metadata": {
    "ExecuteTime": {
     "end_time": "2023-11-09T12:14:32.771932Z",
     "start_time": "2023-11-09T12:14:32.762880Z"
    }
   },
   "outputs": [],
   "source": [
    "knn_clf1 = KNeighborsClassifier(weights='uniform', n_neighbors=1, metric = \"manhattan\")"
   ]
  },
  {
   "cell_type": "code",
   "execution_count": 11,
   "metadata": {
    "ExecuteTime": {
     "end_time": "2023-11-09T12:14:32.802955Z",
     "start_time": "2023-11-09T12:14:32.774857Z"
    }
   },
   "outputs": [
    {
     "data": {
      "text/plain": [
       "KNeighborsClassifier(metric='manhattan', n_neighbors=1)"
      ]
     },
     "execution_count": 11,
     "metadata": {},
     "output_type": "execute_result"
    }
   ],
   "source": [
    "knn_clf1.fit(X_train, y_train)"
   ]
  },
  {
   "cell_type": "code",
   "execution_count": 12,
   "metadata": {
    "ExecuteTime": {
     "end_time": "2023-11-09T12:14:32.834259Z",
     "start_time": "2023-11-09T12:14:32.805468Z"
    }
   },
   "outputs": [],
   "source": [
    "y_train_pred = knn_clf1.predict(X_train)"
   ]
  },
  {
   "cell_type": "code",
   "execution_count": 13,
   "metadata": {
    "ExecuteTime": {
     "end_time": "2023-11-09T12:14:32.865381Z",
     "start_time": "2023-11-09T12:14:32.838763Z"
    },
    "id": "LGaWBk_iccu6"
   },
   "outputs": [
    {
     "data": {
      "text/plain": [
       "1.0"
      ]
     },
     "execution_count": 13,
     "metadata": {},
     "output_type": "execute_result"
    }
   ],
   "source": [
    "from sklearn.metrics import accuracy_score\n",
    "accuracy_score(y_train, y_train_pred)"
   ]
  },
  {
   "cell_type": "markdown",
   "metadata": {},
   "source": [
    "##  \n",
    "k 값이 1인 경우, 예측을 수행할 때 주어진 데이터 포인트와 가장 가까운 이웃 데이터 포인트 하나만을  \n",
    "고려하여 예측을 수행합니다. 이때, 해당 데이터 포인트는 그 자신이므로 정확하게 일치하게 됩니다.  \n",
    "따라서 k가 1인 경우에는 항상 가장 가까운 이웃 데이터 포인트가 자기 자신이므로 정확도 (accuracy)는  \n",
    "1.0이 된다."
   ]
  },
  {
   "cell_type": "markdown",
   "metadata": {
    "id": "eLBk2_97ctCT"
   },
   "source": [
    "# 2. k = train dataset의 수와 동일할 때 Knn이 어떻게 예측하는지 정확도를 제시하고 그러한 이유에 대해서 설명하시오"
   ]
  },
  {
   "cell_type": "code",
   "execution_count": 14,
   "metadata": {
    "ExecuteTime": {
     "end_time": "2023-11-09T12:14:32.881095Z",
     "start_time": "2023-11-09T12:14:32.868878Z"
    },
    "id": "RmpBWqkJcgz4"
   },
   "outputs": [],
   "source": [
    "k = len(X_train)"
   ]
  },
  {
   "cell_type": "code",
   "execution_count": 15,
   "metadata": {
    "ExecuteTime": {
     "end_time": "2023-11-09T12:14:32.896708Z",
     "start_time": "2023-11-09T12:14:32.884828Z"
    }
   },
   "outputs": [],
   "source": [
    "knn_clf2 = KNeighborsClassifier(weights='uniform', n_neighbors=k, metric=\"manhattan\")"
   ]
  },
  {
   "cell_type": "code",
   "execution_count": 16,
   "metadata": {
    "ExecuteTime": {
     "end_time": "2023-11-09T12:14:32.927092Z",
     "start_time": "2023-11-09T12:14:32.902219Z"
    }
   },
   "outputs": [
    {
     "data": {
      "text/plain": [
       "KNeighborsClassifier(metric='manhattan', n_neighbors=142)"
      ]
     },
     "execution_count": 16,
     "metadata": {},
     "output_type": "execute_result"
    }
   ],
   "source": [
    "knn_clf2.fit(X_train, y_train)"
   ]
  },
  {
   "cell_type": "code",
   "execution_count": 17,
   "metadata": {
    "ExecuteTime": {
     "end_time": "2023-11-09T12:14:32.942987Z",
     "start_time": "2023-11-09T12:14:32.928640Z"
    }
   },
   "outputs": [],
   "source": [
    "y_train_pred2 = knn_clf2.predict(X_train)"
   ]
  },
  {
   "cell_type": "code",
   "execution_count": 18,
   "metadata": {
    "ExecuteTime": {
     "end_time": "2023-11-09T12:14:32.958850Z",
     "start_time": "2023-11-09T12:14:32.944633Z"
    }
   },
   "outputs": [
    {
     "data": {
      "text/plain": [
       "0.4014084507042254"
      ]
     },
     "execution_count": 18,
     "metadata": {},
     "output_type": "execute_result"
    }
   ],
   "source": [
    "accuracy_score(y_train, y_train_pred2)"
   ]
  },
  {
   "cell_type": "code",
   "execution_count": 19,
   "metadata": {
    "ExecuteTime": {
     "end_time": "2023-11-09T12:14:32.989870Z",
     "start_time": "2023-11-09T12:14:32.964787Z"
    }
   },
   "outputs": [
    {
     "name": "stdout",
     "output_type": "stream",
     "text": [
      "레이블 2의 빈도: 40개\n",
      "레이블 1의 빈도: 57개\n",
      "레이블 0의 빈도: 45개\n"
     ]
    },
    {
     "data": {
      "text/plain": [
       "142"
      ]
     },
     "execution_count": 19,
     "metadata": {},
     "output_type": "execute_result"
    }
   ],
   "source": [
    "from collections import Counter\n",
    "\n",
    "label_counts = Counter(y_train)\n",
    "\n",
    "for label, count in label_counts.items():\n",
    "    print(f\"레이블 {label}의 빈도: {count}개\")\n",
    "len(y_train)"
   ]
  },
  {
   "cell_type": "code",
   "execution_count": 20,
   "metadata": {
    "ExecuteTime": {
     "end_time": "2023-11-09T12:14:33.021398Z",
     "start_time": "2023-11-09T12:14:32.995694Z"
    }
   },
   "outputs": [
    {
     "data": {
      "text/plain": [
       "0.4014084507042254"
      ]
     },
     "execution_count": 20,
     "metadata": {},
     "output_type": "execute_result"
    }
   ],
   "source": [
    "57/142"
   ]
  },
  {
   "cell_type": "markdown",
   "metadata": {},
   "source": [
    "## \n",
    "이유 : knn은 가까운거리에 k개의 인스턴스의 클래스를 다수결에 의해서 특정 인스턴스의 클래스를 결정한다.  \n",
    "k = train dataset의 수와 동일할때 accurcy는 train dataset을 구성하고있는 전체 인스턴스들의 클래스중에서  가장 많은 수를 차지하는 클래스의 비율이 된다.  \n",
    "y_train 레이블 2의 빈도: 40개, 레이블 1의 빈도: 57개, 레이블 0의 빈도: 45개  \n",
    "57/142 = 0.4014...."
   ]
  },
  {
   "cell_type": "markdown",
   "metadata": {
    "id": "eNdyEzsmcxJH"
   },
   "source": [
    "# 3. Cross validation을 활용하여 1 ~ 50 까지 k에 대한 train dataset의 정확도의 변화를 그래프로 시각화하시오 (Cross validation은 5로 고정) "
   ]
  },
  {
   "cell_type": "code",
   "execution_count": 21,
   "metadata": {
    "ExecuteTime": {
     "end_time": "2023-11-09T12:14:39.210445Z",
     "start_time": "2023-11-09T12:14:37.578483Z"
    },
    "id": "x8iFMDI0cv_J",
    "scrolled": true
   },
   "outputs": [
    {
     "name": "stdout",
     "output_type": "stream",
     "text": [
      "K=1, 평균 정확도: 0.809365\n",
      "K=2, 평균 정확도: 0.747937\n",
      "K=3, 평균 정확도: 0.759048\n",
      "K=4, 평균 정확도: 0.731111\n",
      "K=5, 평균 정확도: 0.719365\n",
      "K=6, 평균 정확도: 0.747619\n",
      "K=7, 평균 정확도: 0.764444\n",
      "K=8, 평균 정확도: 0.708413\n",
      "K=9, 평균 정확도: 0.775556\n",
      "K=10, 평균 정확도: 0.764127\n",
      "K=11, 평균 정확도: 0.747302\n",
      "K=12, 평균 정확도: 0.775556\n",
      "K=13, 평균 정확도: 0.758571\n",
      "K=14, 평균 정확도: 0.764444\n",
      "K=15, 평균 정확도: 0.770000\n",
      "K=16, 평균 정확도: 0.753175\n",
      "K=17, 평균 정확도: 0.747302\n",
      "K=18, 평균 정확도: 0.742063\n",
      "K=19, 평균 정확도: 0.736190\n",
      "K=20, 평균 정확도: 0.725238\n",
      "K=21, 평균 정확도: 0.725079\n",
      "K=22, 평균 정확도: 0.708413\n",
      "K=23, 평균 정확도: 0.736190\n",
      "K=24, 평균 정확도: 0.725079\n",
      "K=25, 평균 정확도: 0.719524\n",
      "K=26, 평균 정확도: 0.713810\n",
      "K=27, 평균 정확도: 0.725079\n",
      "K=28, 평균 정확도: 0.725238\n",
      "K=29, 평균 정확도: 0.730794\n",
      "K=30, 평균 정확도: 0.725238\n",
      "K=31, 평균 정확도: 0.719683\n",
      "K=32, 평균 정확도: 0.719841\n",
      "K=33, 평균 정확도: 0.730952\n",
      "K=34, 평균 정확도: 0.725397\n",
      "K=35, 평균 정확도: 0.730952\n",
      "K=36, 평균 정확도: 0.719841\n",
      "K=37, 평균 정확도: 0.725397\n",
      "K=38, 평균 정확도: 0.719841\n",
      "K=39, 평균 정확도: 0.713968\n",
      "K=40, 평균 정확도: 0.719841\n",
      "K=41, 평균 정확도: 0.714127\n",
      "K=42, 평균 정확도: 0.714286\n",
      "K=43, 평균 정확도: 0.719841\n",
      "K=44, 평균 정확도: 0.720000\n",
      "K=45, 평균 정확도: 0.731270\n",
      "K=46, 평균 정확도: 0.731270\n",
      "K=47, 평균 정확도: 0.731270\n",
      "K=48, 평균 정확도: 0.736825\n",
      "K=49, 평균 정확도: 0.731111\n",
      "K=50, 평균 정확도: 0.742381\n"
     ]
    }
   ],
   "source": [
    "from sklearn.model_selection import cross_val_score\n",
    "X, y = data.data, data.target\n",
    "knn = KNeighborsClassifier(weights='uniform', metric = \"manhattan\")\n",
    "\n",
    "# K 값 후보 리스트\n",
    "k_values = list(range(1, 51))\n",
    "acc = []\n",
    "# 교차 검증 수행\n",
    "for k in k_values:\n",
    "    knn.n_neighbors = k  # KNN 모델의 이웃 수(k) 설정\n",
    "    scores = cross_val_score(knn, data.data, data.target, cv=5)  # 5-Fold Cross Validation\n",
    "    mean_accuracy = scores.mean()\n",
    "    acc.append(mean_accuracy)\n",
    "    print(f\"K={k}, 평균 정확도: {mean_accuracy:f}\")\n"
   ]
  },
  {
   "cell_type": "code",
   "execution_count": 22,
   "metadata": {
    "ExecuteTime": {
     "end_time": "2023-11-09T12:14:53.244583Z",
     "start_time": "2023-11-09T12:14:52.836533Z"
    },
    "scrolled": true
   },
   "outputs": [
    {
     "data": {
      "image/png": "[encoded data removed]",
      "text/plain": [
       "<Figure size 864x432 with 1 Axes>"
      ]
     },
     "metadata": {
      "needs_background": "light"
     },
     "output_type": "display_data"
    }
   ],
   "source": [
    "# 결과 시각화\n",
    "plt.figure(figsize=(12, 6))\n",
    "sns.lineplot(x=k_values, y=acc, marker=\"o\")\n",
    "plt.xlabel(\"k\",fontsize = 20)\n",
    "plt.ylabel(\"acc\", fontsize = 20)\n",
    "# plt.xticks(k_values)\n",
    "plt.show()"
   ]
  },
  {
   "cell_type": "code",
   "execution_count": 23,
   "metadata": {
    "ExecuteTime": {
     "end_time": "2023-11-09T12:15:12.360798Z",
     "start_time": "2023-11-09T12:15:12.345056Z"
    }
   },
   "outputs": [],
   "source": [
    "sort_acc = np.argsort(acc)[::-1]"
   ]
  },
  {
   "cell_type": "code",
   "execution_count": 24,
   "metadata": {
    "ExecuteTime": {
     "end_time": "2023-11-09T12:15:12.672044Z",
     "start_time": "2023-11-09T12:15:12.651205Z"
    }
   },
   "outputs": [
    {
     "name": "stdout",
     "output_type": "stream",
     "text": [
      "확률이 높은 K 순서: [1, 9, 12, 15, 7, 14, 10, 3, 13, 16, 2, 6, 17, 11, 50, 18, 48, 19, 23, 47, 46, 45, 49, 4, 35, 33, 29, 34, 37, 20, 28, 30, 24, 27, 21, 44, 43, 40, 32, 38, 36, 31, 25, 5, 42, 41, 39, 26, 8, 22]\n"
     ]
    }
   ],
   "source": [
    "sort_acc_index = []\n",
    "for i in sort_acc:\n",
    "    sort_acc_index.append(i+1)\n",
    "print(f\"확률이 높은 K 순서: {sort_acc_index[:]}\")"
   ]
  },
  {
   "cell_type": "markdown",
   "metadata": {
    "id": "Q6hSdFJKcyUz"
   },
   "source": [
    "# 4. 다양하게 하이퍼 파라미터와 scaler 등을 조절하여 최고의 성능을 제시하시오. (Cross validation의 수는 5로 고정) , 하이퍼파라미터와 test set에 대한 정확도 제시"
   ]
  },
  {
   "cell_type": "code",
   "execution_count": 27,
   "metadata": {
    "ExecuteTime": {
     "end_time": "2023-11-09T12:17:15.757082Z",
     "start_time": "2023-11-09T12:17:15.730857Z"
    }
   },
   "outputs": [],
   "source": [
    "from sklearn.preprocessing import StandardScaler\n",
    "from sklearn.pipeline import Pipeline\n",
    "std_scaler = StandardScaler()\n",
    "std_scaler.fit(X_train)\n",
    "x_scaled = std_scaler.transform(X_train)"
   ]
  },
  {
   "cell_type": "code",
   "execution_count": 28,
   "metadata": {
    "ExecuteTime": {
     "end_time": "2023-11-09T12:17:17.776455Z",
     "start_time": "2023-11-09T12:17:17.755404Z"
    }
   },
   "outputs": [
    {
     "data": {
      "text/plain": [
       "array([[ 1.66529275, -0.60840587,  1.21896194, ..., -1.65632857,\n",
       "        -0.87940904, -0.24860607],\n",
       "       [-0.54952506,  2.7515415 ,  1.00331502, ..., -0.58463272,\n",
       "        -1.25462095, -0.72992237],\n",
       "       [-0.74531007, -1.14354109, -0.93750727, ...,  0.35845962,\n",
       "         0.2462267 , -0.24860607],\n",
       "       ...,\n",
       "       [ 1.714239  , -0.44172441,  0.06884503, ...,  1.04434496,\n",
       "         0.56585166,  2.69572196],\n",
       "       [-0.35374006, -0.7399965 , -0.36244882, ...,  0.01551695,\n",
       "        -0.74044166, -0.79631083],\n",
       "       [-0.78201975,  0.06709269,  0.35637426, ..., -0.67036839,\n",
       "         1.09392769, -0.98551793]])"
      ]
     },
     "execution_count": 28,
     "metadata": {},
     "output_type": "execute_result"
    }
   ],
   "source": [
    "x_scaled"
   ]
  },
  {
   "cell_type": "code",
   "execution_count": 30,
   "metadata": {
    "ExecuteTime": {
     "end_time": "2023-11-09T12:17:56.006130Z",
     "start_time": "2023-11-09T12:17:48.548213Z"
    }
   },
   "outputs": [
    {
     "name": "stdout",
     "output_type": "stream",
     "text": [
      "K=1, 평균 정확도: 0.795320\n",
      "K=2, 평균 정확도: 0.732759\n",
      "K=3, 평균 정확도: 0.704680\n",
      "K=4, 평균 정확도: 0.712069\n",
      "K=5, 평균 정확도: 0.718227\n",
      "K=6, 평균 정확도: 0.738670\n",
      "K=7, 평균 정확도: 0.732266\n",
      "K=8, 평균 정확도: 0.746305\n",
      "K=9, 평균 정확도: 0.739163\n",
      "K=10, 평균 정확도: 0.725616\n",
      "K=11, 평균 정확도: 0.732266\n",
      "K=12, 평균 정확도: 0.746798\n",
      "K=13, 평균 정확도: 0.732759\n",
      "K=14, 평균 정확도: 0.739901\n",
      "K=15, 평균 정확도: 0.732512\n",
      "K=16, 평균 정확도: 0.718719\n",
      "K=17, 평균 정확도: 0.725616\n",
      "K=18, 평균 정확도: 0.725616\n",
      "K=19, 평균 정확도: 0.697291\n",
      "K=20, 평균 정확도: 0.718473\n",
      "K=21, 평균 정확도: 0.711084\n",
      "K=22, 평균 정확도: 0.704433\n",
      "K=23, 평균 정확도: 0.711576\n",
      "K=24, 평균 정확도: 0.711576\n",
      "K=25, 평균 정확도: 0.711576\n",
      "K=26, 평균 정확도: 0.718719\n",
      "K=27, 평균 정확도: 0.711576\n",
      "K=28, 평균 정확도: 0.718473\n",
      "K=29, 평균 정확도: 0.704433\n",
      "K=30, 평균 정확도: 0.704433\n",
      "K=31, 평균 정확도: 0.704433\n",
      "K=32, 평균 정확도: 0.697537\n",
      "K=33, 평균 정확도: 0.704680\n",
      "K=34, 평균 정확도: 0.690394\n",
      "K=35, 평균 정확도: 0.711576\n",
      "K=36, 평균 정확도: 0.718966\n",
      "K=37, 평균 정확도: 0.711823\n",
      "K=38, 평균 정확도: 0.704680\n",
      "K=39, 평균 정확도: 0.711823\n",
      "K=40, 평균 정확도: 0.711823\n",
      "K=41, 평균 정확도: 0.711823\n",
      "K=42, 평균 정확도: 0.718966\n",
      "K=43, 평균 정확도: 0.732759\n",
      "K=44, 평균 정확도: 0.711823\n",
      "K=45, 평균 정확도: 0.697783\n",
      "K=46, 평균 정확도: 0.697783\n",
      "K=47, 평균 정확도: 0.697783\n",
      "K=48, 평균 정확도: 0.718719\n",
      "K=49, 평균 정확도: 0.711823\n",
      "K=50, 평균 정확도: 0.718719\n",
      "K=51, 평균 정확도: 0.704680\n",
      "K=52, 평균 정확도: 0.704680\n",
      "K=53, 평균 정확도: 0.697537\n",
      "K=54, 평균 정확도: 0.704680\n",
      "K=55, 평균 정확도: 0.697783\n",
      "K=56, 평균 정확도: 0.697537\n",
      "K=57, 평균 정확도: 0.726108\n",
      "K=58, 평균 정확도: 0.712069\n",
      "K=59, 평균 정확도: 0.719704\n",
      "K=60, 평균 정확도: 0.712562\n",
      "K=61, 평균 정확도: 0.705419\n",
      "K=62, 평균 정확도: 0.712562\n",
      "K=63, 평균 정확도: 0.712562\n",
      "K=64, 평균 정확도: 0.719458\n",
      "K=65, 평균 정확도: 0.719458\n",
      "K=66, 평균 정확도: 0.698522\n",
      "K=67, 평균 정확도: 0.705172\n",
      "K=68, 평균 정확도: 0.719212\n",
      "K=69, 평균 정확도: 0.698276\n",
      "K=70, 평균 정확도: 0.718966\n",
      "K=71, 평균 정확도: 0.676601\n",
      "K=72, 평균 정확도: 0.669951\n",
      "K=73, 평균 정확도: 0.669951\n",
      "K=74, 평균 정확도: 0.662562\n",
      "K=75, 평균 정확도: 0.655665\n",
      "K=76, 평균 정확도: 0.655419\n",
      "K=77, 평균 정확도: 0.648276\n",
      "K=78, 평균 정확도: 0.662315\n",
      "K=79, 평균 정확도: 0.669212\n",
      "K=80, 평균 정확도: 0.655172\n",
      "K=81, 평균 정확도: 0.662069\n",
      "K=82, 평균 정확도: 0.662069\n",
      "K=83, 평균 정확도: 0.668966\n",
      "K=84, 평균 정확도: 0.661823\n",
      "K=85, 평균 정확도: 0.661823\n",
      "K=86, 평균 정확도: 0.661823\n",
      "K=87, 평균 정확도: 0.654680\n",
      "K=88, 평균 정확도: 0.647783\n",
      "K=89, 평균 정확도: 0.647537\n",
      "K=90, 평균 정확도: 0.647537\n",
      "K=91, 평균 정확도: 0.647537\n",
      "K=92, 평균 정확도: 0.640640\n",
      "K=93, 평균 정확도: 0.640640\n",
      "K=94, 평균 정확도: 0.640887\n",
      "K=95, 평균 정확도: 0.648030\n",
      "K=96, 평균 정확도: 0.641133\n",
      "K=97, 평균 정확도: 0.648030\n",
      "K=98, 평균 정확도: 0.634236\n",
      "K=99, 평균 정확도: 0.627094\n",
      "K=100, 평균 정확도: 0.627094\n",
      "K=101, 평균 정확도: 0.627094\n",
      "K=102, 평균 정확도: 0.633990\n",
      "K=103, 평균 정확도: 0.626847\n",
      "K=104, 평균 정확도: 0.591133\n",
      "K=105, 평균 정확도: 0.401232\n",
      "K=106, 평균 정확도: 0.401232\n",
      "K=107, 평균 정확도: 0.401232\n",
      "K=108, 평균 정확도: 0.401232\n",
      "K=109, 평균 정확도: 0.401232\n",
      "K=110, 평균 정확도: 0.401232\n",
      "K=111, 평균 정확도: 0.401232\n",
      "K=112, 평균 정확도: 0.401232\n",
      "K=113, 평균 정확도: 0.401232\n"
     ]
    }
   ],
   "source": [
    "from sklearn.model_selection import cross_val_score\n",
    "knn = KNeighborsClassifier(weights='uniform', metric = \"manhattan\")\n",
    "\n",
    "# K 값 후보 리스트\n",
    "k_values = list(range(1, 114))\n",
    "acc = []\n",
    "# 교차 검증 수행\n",
    "for k in k_values:\n",
    "    knn.n_neighbors = k  # KNN 모델의 이웃 수(k) 설정\n",
    "    scores = cross_val_score(knn, X_train, y_train, cv=5)  # 5-Fold Cross Validation\n",
    "    mean_accuracy = scores.mean()\n",
    "    acc.append(mean_accuracy)\n",
    "    print(f\"K={k}, 평균 정확도: {mean_accuracy:f}\")\n"
   ]
  },
  {
   "cell_type": "code",
   "execution_count": 31,
   "metadata": {
    "ExecuteTime": {
     "end_time": "2023-11-09T12:18:01.311920Z",
     "start_time": "2023-11-09T12:17:56.009632Z"
    }
   },
   "outputs": [
    {
     "name": "stdout",
     "output_type": "stream",
     "text": [
      "K=1, 평균 정확도: 0.950493\n",
      "K=2, 평균 정확도: 0.943842\n",
      "K=3, 평균 정확도: 0.950739\n",
      "K=4, 평균 정확도: 0.950493\n",
      "K=5, 평균 정확도: 0.957882\n",
      "K=6, 평균 정확도: 0.950985\n",
      "K=7, 평균 정확도: 0.950739\n",
      "K=8, 평균 정확도: 0.943842\n",
      "K=9, 평균 정확도: 0.943842\n",
      "K=10, 평균 정확도: 0.936946\n",
      "K=11, 평균 정확도: 0.950739\n",
      "K=12, 평균 정확도: 0.943596\n",
      "K=13, 평균 정확도: 0.943842\n",
      "K=14, 평균 정확도: 0.957635\n",
      "K=15, 평균 정확도: 0.957882\n",
      "K=16, 평균 정확도: 0.950739\n",
      "K=17, 평균 정확도: 0.957882\n",
      "K=18, 평균 정확도: 0.957882\n",
      "K=19, 평균 정확도: 0.957882\n",
      "K=20, 평균 정확도: 0.957882\n",
      "K=21, 평균 정확도: 0.965025\n",
      "K=22, 평균 정확도: 0.957882\n",
      "K=23, 평균 정확도: 0.965025\n",
      "K=24, 평균 정확도: 0.957882\n",
      "K=25, 평균 정확도: 0.957882\n",
      "K=26, 평균 정확도: 0.957882\n",
      "K=27, 평균 정확도: 0.957882\n",
      "K=28, 평균 정확도: 0.957882\n",
      "K=29, 평균 정확도: 0.957882\n",
      "K=30, 평균 정확도: 0.950739\n",
      "K=31, 평균 정확도: 0.950985\n",
      "K=32, 평균 정확도: 0.950739\n",
      "K=33, 평균 정확도: 0.950739\n",
      "K=34, 평균 정확도: 0.950739\n",
      "K=35, 평균 정확도: 0.943842\n",
      "K=36, 평균 정확도: 0.957635\n",
      "K=37, 평균 정확도: 0.957882\n",
      "K=38, 평균 정확도: 0.957635\n",
      "K=39, 평균 정확도: 0.957882\n",
      "K=40, 평균 정확도: 0.964778\n",
      "K=41, 평균 정확도: 0.957882\n",
      "K=42, 평균 정확도: 0.964778\n",
      "K=43, 평균 정확도: 0.957882\n",
      "K=44, 평균 정확도: 0.964778\n",
      "K=45, 평균 정확도: 0.957882\n",
      "K=46, 평균 정확도: 0.964778\n",
      "K=47, 평균 정확도: 0.964778\n",
      "K=48, 평균 정확도: 0.964778\n",
      "K=49, 평균 정확도: 0.964778\n",
      "K=50, 평균 정확도: 0.957882\n",
      "K=51, 평균 정확도: 0.957882\n",
      "K=52, 평균 정확도: 0.950739\n",
      "K=53, 평균 정확도: 0.957882\n",
      "K=54, 평균 정확도: 0.950739\n",
      "K=55, 평균 정확도: 0.943842\n",
      "K=56, 평균 정확도: 0.943842\n",
      "K=57, 평균 정확도: 0.950985\n",
      "K=58, 평균 정확도: 0.957882\n",
      "K=59, 평균 정확도: 0.950985\n",
      "K=60, 평균 정확도: 0.936700\n",
      "K=61, 평균 정확도: 0.936700\n",
      "K=62, 평균 정확도: 0.950739\n",
      "K=63, 평균 정확도: 0.950739\n",
      "K=64, 평균 정확도: 0.951232\n",
      "K=65, 평균 정확도: 0.958128\n",
      "K=66, 평균 정확도: 0.958128\n",
      "K=67, 평균 정확도: 0.958128\n",
      "K=68, 평균 정확도: 0.958128\n",
      "K=69, 평균 정확도: 0.950985\n",
      "K=70, 평균 정확도: 0.950739\n",
      "K=71, 평균 정확도: 0.929557\n",
      "K=72, 평균 정확도: 0.922660\n",
      "K=73, 평균 정확도: 0.908621\n",
      "K=74, 평균 정확도: 0.887192\n",
      "K=75, 평균 정확도: 0.866010\n",
      "K=76, 평균 정확도: 0.845074\n",
      "K=77, 평균 정확도: 0.817488\n",
      "K=78, 평균 정확도: 0.803202\n",
      "K=79, 평균 정확도: 0.761330\n",
      "K=80, 평균 정확도: 0.726355\n",
      "K=81, 평균 정확도: 0.698276\n",
      "K=82, 평균 정확도: 0.684483\n",
      "K=83, 평균 정확도: 0.655911\n",
      "K=84, 평균 정확도: 0.634483\n",
      "K=85, 평균 정확도: 0.605911\n",
      "K=86, 평균 정확도: 0.591626\n",
      "K=87, 평균 정확도: 0.570690\n",
      "K=88, 평균 정확도: 0.542365\n",
      "K=89, 평균 정확도: 0.506897\n",
      "K=90, 평균 정확도: 0.499754\n",
      "K=91, 평균 정확도: 0.492857\n",
      "K=92, 평균 정확도: 0.464778\n",
      "K=93, 평균 정확도: 0.436207\n",
      "K=94, 평균 정확도: 0.429310\n",
      "K=95, 평균 정확도: 0.401232\n",
      "K=96, 평균 정확도: 0.401232\n",
      "K=97, 평균 정확도: 0.401232\n",
      "K=98, 평균 정확도: 0.401232\n",
      "K=99, 평균 정확도: 0.401232\n",
      "K=100, 평균 정확도: 0.401232\n",
      "K=101, 평균 정확도: 0.401232\n",
      "K=102, 평균 정확도: 0.401232\n",
      "K=103, 평균 정확도: 0.401232\n",
      "K=104, 평균 정확도: 0.401232\n",
      "K=105, 평균 정확도: 0.401232\n",
      "K=106, 평균 정확도: 0.401232\n",
      "K=107, 평균 정확도: 0.401232\n",
      "K=108, 평균 정확도: 0.401232\n",
      "K=109, 평균 정확도: 0.401232\n",
      "K=110, 평균 정확도: 0.401232\n",
      "K=111, 평균 정확도: 0.401232\n",
      "K=112, 평균 정확도: 0.401232\n",
      "K=113, 평균 정확도: 0.401232\n"
     ]
    }
   ],
   "source": [
    "acc_scaled = []\n",
    "models = []\n",
    "for k in range(1, 114):\n",
    "\n",
    "    std_scaler = StandardScaler()\n",
    "    knn = KNeighborsClassifier(weights='uniform', n_neighbors=k)\n",
    "    Knn_pipe = Pipeline([\n",
    "          (\"std_scaler\", std_scaler),\n",
    "          (\"knn\", knn),\n",
    "      ])\n",
    "\n",
    "    scores_scaled = cross_val_score(Knn_pipe, x_scaled, y_train, cv=5)\n",
    "    mean_scaled_accuracy = scores_scaled.mean()\n",
    "    acc_scaled.append(mean_scaled_accuracy)\n",
    "    models.append(Knn_pipe)\n",
    "    print(f\"K={k}, 평균 정확도: {mean_scaled_accuracy:f}\")"
   ]
  },
  {
   "cell_type": "code",
   "execution_count": 32,
   "metadata": {
    "ExecuteTime": {
     "end_time": "2023-11-09T12:18:30.767078Z",
     "start_time": "2023-11-09T12:18:30.492507Z"
    }
   },
   "outputs": [
    {
     "data": {
      "text/plain": [
       "Text(0, 0.5, 'acc')"
      ]
     },
     "execution_count": 32,
     "metadata": {},
     "output_type": "execute_result"
    },
    {
     "data": {
      "image/png": "[encoded data removed]",
      "text/plain": [
       "<Figure size 864x432 with 1 Axes>"
      ]
     },
     "metadata": {
      "needs_background": "light"
     },
     "output_type": "display_data"
    }
   ],
   "source": [
    "plt.figure(figsize=(12,6))\n",
    "sns.lineplot(x = range(1,114), y = acc_scaled)\n",
    "plt.xlabel(\"k\",fontsize = 20)\n",
    "plt.ylabel(\"acc\", fontsize = 20)"
   ]
  },
  {
   "cell_type": "code",
   "execution_count": 33,
   "metadata": {
    "ExecuteTime": {
     "end_time": "2023-11-09T12:18:36.496737Z",
     "start_time": "2023-11-09T12:18:36.111932Z"
    }
   },
   "outputs": [
    {
     "data": {
      "text/plain": [
       "Text(0, 0.5, 'acc')"
      ]
     },
     "execution_count": 33,
     "metadata": {},
     "output_type": "execute_result"
    },
    {
     "data": {
      "image/png": "[encoded data removed]",
      "text/plain": [
       "<Figure size 864x432 with 1 Axes>"
      ]
     },
     "metadata": {
      "needs_background": "light"
     },
     "output_type": "display_data"
    }
   ],
   "source": [
    "plt.figure(figsize=(12,6))\n",
    "sns.lineplot(x = range(1,114), y = acc, label = \"no scaled\")\n",
    "sns.lineplot(x = range(1,114), y = acc_scaled, label = \"std scaled\")\n",
    "plt.title(\"scaled vs no scaled\", fontsize = 30)\n",
    "plt.xlabel(\"k\",fontsize = 20)\n",
    "plt.ylabel(\"acc\", fontsize = 20)"
   ]
  },
  {
   "cell_type": "code",
   "execution_count": 36,
   "metadata": {
    "ExecuteTime": {
     "end_time": "2023-11-09T12:18:48.606224Z",
     "start_time": "2023-11-09T12:18:48.597860Z"
    }
   },
   "outputs": [],
   "source": [
    "best_k = np.argmax(np.array(acc_scaled))"
   ]
  },
  {
   "cell_type": "code",
   "execution_count": 37,
   "metadata": {
    "ExecuteTime": {
     "end_time": "2023-11-09T12:18:49.023542Z",
     "start_time": "2023-11-09T12:18:49.010689Z"
    }
   },
   "outputs": [
    {
     "name": "stdout",
     "output_type": "stream",
     "text": [
      "best K : 20\n"
     ]
    }
   ],
   "source": [
    "print(f\"best K : {best_k}\")"
   ]
  },
  {
   "cell_type": "code",
   "execution_count": 38,
   "metadata": {
    "ExecuteTime": {
     "end_time": "2023-11-09T12:18:49.723428Z",
     "start_time": "2023-11-09T12:18:49.700242Z"
    }
   },
   "outputs": [
    {
     "data": {
      "text/plain": [
       "Pipeline(steps=[('std_scaler', StandardScaler()),\n",
       "                ('knn', KNeighborsClassifier(n_neighbors=21))])"
      ]
     },
     "execution_count": 38,
     "metadata": {},
     "output_type": "execute_result"
    }
   ],
   "source": [
    "models[best_k].fit(X_train,y_train)"
   ]
  },
  {
   "cell_type": "code",
   "execution_count": 39,
   "metadata": {
    "ExecuteTime": {
     "end_time": "2023-11-09T12:18:50.513942Z",
     "start_time": "2023-11-09T12:18:50.497796Z"
    }
   },
   "outputs": [
    {
     "data": {
      "text/plain": [
       "0.9444444444444444"
      ]
     },
     "execution_count": 39,
     "metadata": {},
     "output_type": "execute_result"
    }
   ],
   "source": [
    "models[best_k].score(X_test,y_test)"
   ]
  },
  {
   "cell_type": "code",
   "execution_count": null,
   "metadata": {},
   "outputs": [],
   "source": []
  }
 ],
 "metadata": {
  "colab": {
   "provenance": []
  },
  "kernelspec": {
   "display_name": "Python 3 (ipykernel)",
   "language": "python",
   "name": "python3"
  },
  "language_info": {
   "codemirror_mode": {
    "name": "ipython",
    "version": 3
   },
   "file_extension": ".py",
   "mimetype": "text/x-python",
   "name": "python",
   "nbconvert_exporter": "python",
   "pygments_lexer": "ipython3",
   "version": "3.9.12"
  },
  "toc": {
   "base_numbering": 1,
   "nav_menu": {},
   "number_sections": true,
   "sideBar": true,
   "skip_h1_title": false,
   "title_cell": "Table of Contents",
   "title_sidebar": "Contents",
   "toc_cell": false,
   "toc_position": {},
   "toc_section_display": true,
   "toc_window_display": false
  }
 },
 "nbformat": 4,
 "nbformat_minor": 1
}
