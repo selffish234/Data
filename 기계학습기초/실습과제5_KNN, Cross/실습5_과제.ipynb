{
  "nbformat": 4,
  "nbformat_minor": 0,
  "metadata": {
    "colab": {
      "provenance": []
    },
    "kernelspec": {
      "name": "python3",
      "display_name": "Python 3"
    },
    "language_info": {
      "name": "python"
    }
  },
  "cells": [
    {
      "cell_type": "code",
      "execution_count": null,
      "metadata": {
        "id": "a-mgrwkmcWRv"
      },
      "outputs": [],
      "source": [
        "from sklearn.datasets import load_wine"
      ]
    },
    {
      "cell_type": "code",
      "source": [
        "data = load_wine(as_frame=True)"
      ],
      "metadata": {
        "id": "duRY_upTcZKO"
      },
      "execution_count": null,
      "outputs": []
    },
    {
      "cell_type": "markdown",
      "source": [
        "# 1. k = 1일 때 항상 train dataset에 대한 accurcy를 제시하고 그 이유에 대해 설명하시오"
      ],
      "metadata": {
        "id": "rzu7IKAecnPf"
      }
    },
    {
      "cell_type": "code",
      "source": [
        "X_train, X_test, y_train, y_test = train_test_split(data.data, data.target, test_size= 0.2, random_state = 42)"
      ],
      "metadata": {
        "id": "ukKEyfjrca5k"
      },
      "execution_count": null,
      "outputs": []
    },
    {
      "cell_type": "code",
      "source": [
        "#accuracy_score(y_train, y_train_pred)"
      ],
      "metadata": {
        "id": "LGaWBk_iccu6"
      },
      "execution_count": null,
      "outputs": []
    },
    {
      "cell_type": "markdown",
      "source": [
        "#2. k = train dataset의 수와 동일할 때 Knn이 어떻게 예측하는지 정확도를 제시하고 그러한 이유에 대해서 설명하시오"
      ],
      "metadata": {
        "id": "eLBk2_97ctCT"
      }
    },
    {
      "cell_type": "code",
      "source": [
        "# k = len(X_train)\n",
        "\n",
        "#accuracy_score(y_test, y_test_pred)"
      ],
      "metadata": {
        "id": "RmpBWqkJcgz4"
      },
      "execution_count": null,
      "outputs": []
    },
    {
      "cell_type": "markdown",
      "source": [
        "# 3. Cross validation을 활용하여 1 ~ 50 까지 k에 대한 train dataset의 정확도의 변화를 그래프로 시각화하시오 (Cross validation은 5로 고정) "
      ],
      "metadata": {
        "id": "eNdyEzsmcxJH"
      }
    },
    {
      "cell_type": "code",
      "source": [],
      "metadata": {
        "id": "x8iFMDI0cv_J"
      },
      "execution_count": null,
      "outputs": []
    },
    {
      "cell_type": "markdown",
      "source": [
        "# 4. 다양하게 하이퍼 파라미터와 scaler 등을 조절하여 최고의 성능을 제시하시오. (Cross validation의 수는 5로 고정) , 하이퍼파라미터와 test set에 대한 정확도 제시"
      ],
      "metadata": {
        "id": "Q6hSdFJKcyUz"
      }
    },
    {
      "cell_type": "code",
      "source": [],
      "metadata": {
        "id": "2ap3QwZ4c1L3"
      },
      "execution_count": null,
      "outputs": []
    }
  ]
}