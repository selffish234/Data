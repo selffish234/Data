{
 "cells": [
  {
   "cell_type": "code",
   "execution_count": 1,
   "metadata": {
    "ExecuteTime": {
     "end_time": "2023-11-07T15:23:50.176730Z",
     "start_time": "2023-11-07T15:23:48.221243Z"
    }
   },
   "outputs": [],
   "source": [
    "import pandas as pd\n",
    "import numpy as np\n",
    "import matplotlib.pyplot as plt\n",
    "import seaborn as sns\n",
    "from matplotlib.colors import ListedColormap"
   ]
  },
  {
   "cell_type": "code",
   "execution_count": 2,
   "metadata": {
    "ExecuteTime": {
     "end_time": "2023-11-07T15:23:50.347332Z",
     "start_time": "2023-11-07T15:23:50.177929Z"
    }
   },
   "outputs": [],
   "source": [
    "from sklearn import datasets\n",
    "from sklearn.model_selection import train_test_split"
   ]
  },
  {
   "cell_type": "code",
   "execution_count": 3,
   "metadata": {
    "ExecuteTime": {
     "end_time": "2023-11-07T15:23:50.362670Z",
     "start_time": "2023-11-07T15:23:50.349364Z"
    },
    "id": "a-mgrwkmcWRv"
   },
   "outputs": [],
   "source": [
    "from sklearn.datasets import load_wine"
   ]
  },
  {
   "cell_type": "code",
   "execution_count": 4,
   "metadata": {
    "ExecuteTime": {
     "end_time": "2023-11-07T15:23:50.393681Z",
     "start_time": "2023-11-07T15:23:50.364811Z"
    },
    "id": "duRY_upTcZKO"
   },
   "outputs": [],
   "source": [
    "data = load_wine(as_frame=True)"
   ]
  },
  {
   "cell_type": "markdown",
   "metadata": {
    "id": "rzu7IKAecnPf"
   },
   "source": [
    "# 1. k = 1일 때 항상 train dataset에 대한 accurcy를 제시하고 그 이유에 대해 설명하시오"
   ]
  },
  {
   "cell_type": "code",
   "execution_count": 5,
   "metadata": {
    "ExecuteTime": {
     "end_time": "2023-11-07T15:23:50.409069Z",
     "start_time": "2023-11-07T15:23:50.395489Z"
    },
    "id": "ukKEyfjrca5k"
   },
   "outputs": [],
   "source": [
    "X_train, X_test, y_train, y_test = train_test_split(data.data, data.target, test_size= 0.2, random_state = 42)"
   ]
  },
  {
   "cell_type": "code",
   "execution_count": 6,
   "metadata": {
    "ExecuteTime": {
     "end_time": "2023-11-07T15:23:50.502967Z",
     "start_time": "2023-11-07T15:23:50.411458Z"
    }
   },
   "outputs": [],
   "source": [
    "from sklearn.neighbors import KNeighborsClassifier"
   ]
  },
  {
   "cell_type": "code",
   "execution_count": 7,
   "metadata": {
    "ExecuteTime": {
     "end_time": "2023-11-07T15:23:50.518815Z",
     "start_time": "2023-11-07T15:23:50.504560Z"
    }
   },
   "outputs": [],
   "source": [
    "knn_clf1 = KNeighborsClassifier(weights='uniform', n_neighbors=1, metric = \"manhattan\")"
   ]
  },
  {
   "cell_type": "code",
   "execution_count": 8,
   "metadata": {
    "ExecuteTime": {
     "end_time": "2023-11-07T15:23:50.549906Z",
     "start_time": "2023-11-07T15:23:50.520711Z"
    }
   },
   "outputs": [
    {
     "data": {
      "text/plain": [
       "KNeighborsClassifier(metric='manhattan', n_neighbors=1)"
      ]
     },
     "execution_count": 8,
     "metadata": {},
     "output_type": "execute_result"
    }
   ],
   "source": [
    "knn_clf1.fit(X_train, y_train)"
   ]
  },
  {
   "cell_type": "code",
   "execution_count": 9,
   "metadata": {
    "ExecuteTime": {
     "end_time": "2023-11-07T15:23:50.566038Z",
     "start_time": "2023-11-07T15:23:50.551906Z"
    }
   },
   "outputs": [],
   "source": [
    "y_train_pred = knn_clf1.predict(X_train)"
   ]
  },
  {
   "cell_type": "code",
   "execution_count": 10,
   "metadata": {
    "ExecuteTime": {
     "end_time": "2023-11-07T15:23:50.581287Z",
     "start_time": "2023-11-07T15:23:50.568189Z"
    },
    "id": "LGaWBk_iccu6"
   },
   "outputs": [
    {
     "data": {
      "text/plain": [
       "1.0"
      ]
     },
     "execution_count": 10,
     "metadata": {},
     "output_type": "execute_result"
    }
   ],
   "source": [
    "from sklearn.metrics import accuracy_score\n",
    "accuracy_score(y_train, y_train_pred)"
   ]
  },
  {
   "cell_type": "markdown",
   "metadata": {},
   "source": [
    "##  \n",
    "k 값이 1인 경우, 예측을 수행할 때 주어진 데이터 포인트와 가장 가까운 이웃 데이터 포인트 하나만을  \n",
    "고려하여 예측을 수행합니다. 이때, 해당 데이터 포인트는 그 자신이므로 정확하게 일치하게 됩니다.  \n",
    "따라서 k가 1인 경우에는 항상 가장 가까운 이웃 데이터 포인트가 자기 자신이므로 정확도 (accuracy)는  \n",
    "1.0이 된다."
   ]
  },
  {
   "cell_type": "markdown",
   "metadata": {
    "id": "eLBk2_97ctCT"
   },
   "source": [
    "# 2. k = train dataset의 수와 동일할 때 Knn이 어떻게 예측하는지 정확도를 제시하고 그러한 이유에 대해서 설명하시오"
   ]
  },
  {
   "cell_type": "code",
   "execution_count": 13,
   "metadata": {
    "ExecuteTime": {
     "end_time": "2023-11-07T15:24:42.974272Z",
     "start_time": "2023-11-07T15:24:42.957448Z"
    },
    "id": "RmpBWqkJcgz4"
   },
   "outputs": [],
   "source": [
    "k = len(X_train)"
   ]
  },
  {
   "cell_type": "code",
   "execution_count": 14,
   "metadata": {
    "ExecuteTime": {
     "end_time": "2023-11-07T15:24:43.360893Z",
     "start_time": "2023-11-07T15:24:43.346206Z"
    }
   },
   "outputs": [],
   "source": [
    "knn_clf2 = KNeighborsClassifier(weights='uniform', n_neighbors=k, metric=\"manhattan\")"
   ]
  },
  {
   "cell_type": "code",
   "execution_count": 15,
   "metadata": {
    "ExecuteTime": {
     "end_time": "2023-11-07T15:24:43.932865Z",
     "start_time": "2023-11-07T15:24:43.909327Z"
    }
   },
   "outputs": [
    {
     "data": {
      "text/plain": [
       "KNeighborsClassifier(metric='manhattan', n_neighbors=142)"
      ]
     },
     "execution_count": 15,
     "metadata": {},
     "output_type": "execute_result"
    }
   ],
   "source": [
    "knn_clf2.fit(X_train, y_train)"
   ]
  },
  {
   "cell_type": "code",
   "execution_count": 16,
   "metadata": {
    "ExecuteTime": {
     "end_time": "2023-11-07T15:24:44.817056Z",
     "start_time": "2023-11-07T15:24:44.786893Z"
    }
   },
   "outputs": [],
   "source": [
    "y_train_pred2 = knn_clf2.predict(X_train)"
   ]
  },
  {
   "cell_type": "code",
   "execution_count": 17,
   "metadata": {
    "ExecuteTime": {
     "end_time": "2023-11-07T15:24:45.232576Z",
     "start_time": "2023-11-07T15:24:45.208614Z"
    }
   },
   "outputs": [
    {
     "data": {
      "text/plain": [
       "0.4014084507042254"
      ]
     },
     "execution_count": 17,
     "metadata": {},
     "output_type": "execute_result"
    }
   ],
   "source": [
    "accuracy_score(y_train, y_train_pred2)"
   ]
  },
  {
   "cell_type": "code",
   "execution_count": 18,
   "metadata": {
    "ExecuteTime": {
     "end_time": "2023-11-07T15:24:46.084597Z",
     "start_time": "2023-11-07T15:24:46.054469Z"
    }
   },
   "outputs": [
    {
     "name": "stdout",
     "output_type": "stream",
     "text": [
      "레이블 2의 빈도: 40개\n",
      "레이블 1의 빈도: 57개\n",
      "레이블 0의 빈도: 45개\n"
     ]
    },
    {
     "data": {
      "text/plain": [
       "142"
      ]
     },
     "execution_count": 18,
     "metadata": {},
     "output_type": "execute_result"
    }
   ],
   "source": [
    "from collections import Counter\n",
    "\n",
    "label_counts = Counter(y_train)\n",
    "\n",
    "for label, count in label_counts.items():\n",
    "    print(f\"레이블 {label}의 빈도: {count}개\")\n",
    "len(y_train)"
   ]
  },
  {
   "cell_type": "code",
   "execution_count": 19,
   "metadata": {
    "ExecuteTime": {
     "end_time": "2023-11-07T15:24:46.980333Z",
     "start_time": "2023-11-07T15:24:46.961448Z"
    }
   },
   "outputs": [
    {
     "data": {
      "text/plain": [
       "0.4014084507042254"
      ]
     },
     "execution_count": 19,
     "metadata": {},
     "output_type": "execute_result"
    }
   ],
   "source": [
    "57/142"
   ]
  },
  {
   "cell_type": "markdown",
   "metadata": {},
   "source": [
    "## \n",
    "이유 : knn은 가까운거리에 k개의 인스턴스의 클래스를 다수결에 의해서 특정 인스턴스의 클래스를 결정한다.  \n",
    "k = train dataset의 수와 동일할때 accurcy는 train dataset을 구성하고있는 전체 인스턴스들의 클래스중에서  가장 많은 수를 차지하는 클래스의 비율이 된다.  \n",
    "y_train 레이블 2의 빈도: 40개, 레이블 1의 빈도: 57개, 레이블 0의 빈도: 45개  \n",
    "57/142 = 0.4014...."
   ]
  },
  {
   "cell_type": "markdown",
   "metadata": {
    "id": "eNdyEzsmcxJH"
   },
   "source": [
    "# 3. Cross validation을 활용하여 1 ~ 50 까지 k에 대한 train dataset의 정확도의 변화를 그래프로 시각화하시오 (Cross validation은 5로 고정) "
   ]
  },
  {
   "cell_type": "code",
   "execution_count": 20,
   "metadata": {
    "ExecuteTime": {
     "end_time": "2023-11-07T15:24:52.101764Z",
     "start_time": "2023-11-07T15:24:49.281853Z"
    },
    "id": "x8iFMDI0cv_J",
    "scrolled": true
   },
   "outputs": [
    {
     "name": "stdout",
     "output_type": "stream",
     "text": [
      "K=1, 평균 정확도: 0.809365\n",
      "K=2, 평균 정확도: 0.747937\n",
      "K=3, 평균 정확도: 0.759048\n",
      "K=4, 평균 정확도: 0.731111\n",
      "K=5, 평균 정확도: 0.719365\n",
      "K=6, 평균 정확도: 0.747619\n",
      "K=7, 평균 정확도: 0.764444\n",
      "K=8, 평균 정확도: 0.708413\n",
      "K=9, 평균 정확도: 0.775556\n",
      "K=10, 평균 정확도: 0.764127\n",
      "K=11, 평균 정확도: 0.747302\n",
      "K=12, 평균 정확도: 0.775556\n",
      "K=13, 평균 정확도: 0.758571\n",
      "K=14, 평균 정확도: 0.764444\n",
      "K=15, 평균 정확도: 0.770000\n",
      "K=16, 평균 정확도: 0.753175\n",
      "K=17, 평균 정확도: 0.747302\n",
      "K=18, 평균 정확도: 0.742063\n",
      "K=19, 평균 정확도: 0.736190\n",
      "K=20, 평균 정확도: 0.725238\n",
      "K=21, 평균 정확도: 0.725079\n",
      "K=22, 평균 정확도: 0.708413\n",
      "K=23, 평균 정확도: 0.736190\n",
      "K=24, 평균 정확도: 0.725079\n",
      "K=25, 평균 정확도: 0.719524\n",
      "K=26, 평균 정확도: 0.713810\n",
      "K=27, 평균 정확도: 0.725079\n",
      "K=28, 평균 정확도: 0.725238\n",
      "K=29, 평균 정확도: 0.730794\n",
      "K=30, 평균 정확도: 0.725238\n",
      "K=31, 평균 정확도: 0.719683\n",
      "K=32, 평균 정확도: 0.719841\n",
      "K=33, 평균 정확도: 0.730952\n",
      "K=34, 평균 정확도: 0.725397\n",
      "K=35, 평균 정확도: 0.730952\n",
      "K=36, 평균 정확도: 0.719841\n",
      "K=37, 평균 정확도: 0.725397\n",
      "K=38, 평균 정확도: 0.719841\n",
      "K=39, 평균 정확도: 0.713968\n",
      "K=40, 평균 정확도: 0.719841\n",
      "K=41, 평균 정확도: 0.714127\n",
      "K=42, 평균 정확도: 0.714286\n",
      "K=43, 평균 정확도: 0.719841\n",
      "K=44, 평균 정확도: 0.720000\n",
      "K=45, 평균 정확도: 0.731270\n",
      "K=46, 평균 정확도: 0.731270\n",
      "K=47, 평균 정확도: 0.731270\n",
      "K=48, 평균 정확도: 0.736825\n",
      "K=49, 평균 정확도: 0.731111\n",
      "K=50, 평균 정확도: 0.742381\n"
     ]
    }
   ],
   "source": [
    "from sklearn.model_selection import cross_val_score\n",
    "X, y = data.data, data.target\n",
    "knn = KNeighborsClassifier(weights='uniform', metric = \"manhattan\")\n",
    "\n",
    "# K 값 후보 리스트\n",
    "k_values = list(range(1, 51))\n",
    "acc = []\n",
    "# 교차 검증 수행\n",
    "for k in k_values:\n",
    "    knn.n_neighbors = k  # KNN 모델의 이웃 수(k) 설정\n",
    "    scores = cross_val_score(knn, data.data, data.target, cv=5)  # 5-Fold Cross Validation\n",
    "    mean_accuracy = scores.mean()\n",
    "    acc.append(mean_accuracy)\n",
    "    print(f\"K={k}, 평균 정확도: {mean_accuracy:f}\")\n"
   ]
  },
  {
   "cell_type": "code",
   "execution_count": 21,
   "metadata": {
    "ExecuteTime": {
     "end_time": "2023-11-07T15:24:52.520863Z",
     "start_time": "2023-11-07T15:24:52.105809Z"
    },
    "scrolled": true
   },
   "outputs": [
    {
     "data": {
      "image/png": "[encoded data removed]",
      "text/plain": [
       "<Figure size 864x432 with 1 Axes>"
      ]
     },
     "metadata": {
      "needs_background": "light"
     },
     "output_type": "display_data"
    }
   ],
   "source": [
    "# 결과 시각화\n",
    "plt.figure(figsize=(12, 6))\n",
    "sns.lineplot(x=k_values, y=acc, marker=\"o\")\n",
    "plt.xlabel(\"k\",fontsize = 20)\n",
    "plt.ylabel(\"acc\", fontsize = 20)\n",
    "# plt.xticks(k_values)\n",
    "plt.show()"
   ]
  },
  {
   "cell_type": "code",
   "execution_count": 22,
   "metadata": {
    "ExecuteTime": {
     "end_time": "2023-11-07T15:24:52.536556Z",
     "start_time": "2023-11-07T15:24:52.524346Z"
    }
   },
   "outputs": [],
   "source": [
    "sort_acc = np.argsort(acc)[::-1]"
   ]
  },
  {
   "cell_type": "code",
   "execution_count": 23,
   "metadata": {
    "ExecuteTime": {
     "end_time": "2023-11-07T15:24:52.552386Z",
     "start_time": "2023-11-07T15:24:52.542700Z"
    }
   },
   "outputs": [
    {
     "name": "stdout",
     "output_type": "stream",
     "text": [
      "확률이 높은 K 순서: [1, 9, 12, 15, 7, 14, 10, 3, 13, 16, 2, 6, 17, 11, 50, 18, 48, 19, 23, 47, 46, 45, 49, 4, 35, 33, 29, 34, 37, 20, 28, 30, 24, 27, 21, 44, 43, 40, 32, 38, 36, 31, 25, 5, 42, 41, 39, 26, 8, 22]\n"
     ]
    }
   ],
   "source": [
    "sort_acc_index = []\n",
    "for i in sort_acc:\n",
    "    sort_acc_index.append(i+1)\n",
    "print(f\"확률이 높은 K 순서: {sort_acc_index[:]}\")"
   ]
  },
  {
   "cell_type": "markdown",
   "metadata": {
    "id": "Q6hSdFJKcyUz"
   },
   "source": [
    "# 4. 다양하게 하이퍼 파라미터와 scaler 등을 조절하여 최고의 성능을 제시하시오. (Cross validation의 수는 5로 고정) , 하이퍼파라미터와 test set에 대한 정확도 제시"
   ]
  },
  {
   "cell_type": "code",
   "execution_count": 25,
   "metadata": {
    "ExecuteTime": {
     "end_time": "2023-11-07T15:24:52.614630Z",
     "start_time": "2023-11-07T15:24:52.587425Z"
    }
   },
   "outputs": [],
   "source": [
    "from sklearn.preprocessing import StandardScaler\n",
    "from sklearn.pipeline import Pipeline\n",
    "std_scaler = StandardScaler()\n",
    "std_scaler.fit(X_train)\n",
    "x_scaled = std_scaler.transform(X_train)"
   ]
  },
  {
   "cell_type": "code",
   "execution_count": 26,
   "metadata": {
    "ExecuteTime": {
     "end_time": "2023-11-07T15:24:58.906072Z",
     "start_time": "2023-11-07T15:24:52.617952Z"
    }
   },
   "outputs": [
    {
     "name": "stdout",
     "output_type": "stream",
     "text": [
      "K=1, 평균 정확도: 0.809365\n",
      "K=2, 평균 정확도: 0.747937\n",
      "K=3, 평균 정확도: 0.759048\n",
      "K=4, 평균 정확도: 0.731111\n",
      "K=5, 평균 정확도: 0.719365\n",
      "K=6, 평균 정확도: 0.747619\n",
      "K=7, 평균 정확도: 0.764444\n",
      "K=8, 평균 정확도: 0.708413\n",
      "K=9, 평균 정확도: 0.775556\n",
      "K=10, 평균 정확도: 0.764127\n",
      "K=11, 평균 정확도: 0.747302\n",
      "K=12, 평균 정확도: 0.775556\n",
      "K=13, 평균 정확도: 0.758571\n",
      "K=14, 평균 정확도: 0.764444\n",
      "K=15, 평균 정확도: 0.770000\n",
      "K=16, 평균 정확도: 0.753175\n",
      "K=17, 평균 정확도: 0.747302\n",
      "K=18, 평균 정확도: 0.742063\n",
      "K=19, 평균 정확도: 0.736190\n",
      "K=20, 평균 정확도: 0.725238\n",
      "K=21, 평균 정확도: 0.725079\n",
      "K=22, 평균 정확도: 0.708413\n",
      "K=23, 평균 정확도: 0.736190\n",
      "K=24, 평균 정확도: 0.725079\n",
      "K=25, 평균 정확도: 0.719524\n",
      "K=26, 평균 정확도: 0.713810\n",
      "K=27, 평균 정확도: 0.725079\n",
      "K=28, 평균 정확도: 0.725238\n",
      "K=29, 평균 정확도: 0.730794\n",
      "K=30, 평균 정확도: 0.725238\n",
      "K=31, 평균 정확도: 0.719683\n",
      "K=32, 평균 정확도: 0.719841\n",
      "K=33, 평균 정확도: 0.730952\n",
      "K=34, 평균 정확도: 0.725397\n",
      "K=35, 평균 정확도: 0.730952\n",
      "K=36, 평균 정확도: 0.719841\n",
      "K=37, 평균 정확도: 0.725397\n",
      "K=38, 평균 정확도: 0.719841\n",
      "K=39, 평균 정확도: 0.713968\n",
      "K=40, 평균 정확도: 0.719841\n",
      "K=41, 평균 정확도: 0.714127\n",
      "K=42, 평균 정확도: 0.714286\n",
      "K=43, 평균 정확도: 0.719841\n",
      "K=44, 평균 정확도: 0.720000\n",
      "K=45, 평균 정확도: 0.731270\n",
      "K=46, 평균 정확도: 0.731270\n",
      "K=47, 평균 정확도: 0.731270\n",
      "K=48, 평균 정확도: 0.736825\n",
      "K=49, 평균 정확도: 0.731111\n",
      "K=50, 평균 정확도: 0.742381\n",
      "K=51, 평균 정확도: 0.731270\n",
      "K=52, 평균 정확도: 0.719841\n",
      "K=53, 평균 정확도: 0.719841\n",
      "K=54, 평균 정확도: 0.714127\n",
      "K=55, 평균 정확도: 0.725397\n",
      "K=56, 평균 정확도: 0.714127\n",
      "K=57, 평균 정확도: 0.719841\n",
      "K=58, 평균 정확도: 0.703016\n",
      "K=59, 평균 정확도: 0.714286\n",
      "K=60, 평균 정확도: 0.708571\n",
      "K=61, 평균 정확도: 0.708730\n",
      "K=62, 평균 정확도: 0.708730\n",
      "K=63, 평균 정확도: 0.714444\n",
      "K=64, 평균 정확도: 0.714444\n",
      "K=65, 평균 정확도: 0.714444\n",
      "K=66, 평균 정확도: 0.708730\n",
      "K=67, 평균 정확도: 0.708730\n",
      "K=68, 평균 정확도: 0.708730\n",
      "K=69, 평균 정확도: 0.708730\n",
      "K=70, 평균 정확도: 0.703175\n",
      "K=71, 평균 정확도: 0.703175\n",
      "K=72, 평균 정확도: 0.714444\n",
      "K=73, 평균 정확도: 0.708889\n",
      "K=74, 평균 정확도: 0.703175\n",
      "K=75, 평균 정확도: 0.697460\n",
      "K=76, 평균 정확도: 0.697302\n",
      "K=77, 평균 정확도: 0.703016\n",
      "K=78, 평균 정확도: 0.686190\n",
      "K=79, 평균 정확도: 0.691746\n",
      "K=80, 평균 정확도: 0.692063\n",
      "K=81, 평균 정확도: 0.691746\n",
      "K=82, 평균 정확도: 0.680476\n",
      "K=83, 평균 정확도: 0.680635\n",
      "K=84, 평균 정확도: 0.691905\n",
      "K=85, 평균 정확도: 0.680476\n",
      "K=86, 평균 정확도: 0.680476\n",
      "K=87, 평균 정확도: 0.686032\n",
      "K=88, 평균 정확도: 0.680476\n",
      "K=89, 평균 정확도: 0.680317\n",
      "K=90, 평균 정확도: 0.680317\n",
      "K=91, 평균 정확도: 0.680317\n",
      "K=92, 평균 정확도: 0.680317\n",
      "K=93, 평균 정확도: 0.680317\n",
      "K=94, 평균 정확도: 0.674603\n",
      "K=95, 평균 정확도: 0.680159\n",
      "K=96, 평균 정확도: 0.685873\n",
      "K=97, 평균 정확도: 0.680159\n",
      "K=98, 평균 정확도: 0.680159\n",
      "K=99, 평균 정확도: 0.685873\n",
      "K=100, 평균 정확도: 0.685873\n",
      "K=101, 평균 정확도: 0.685873\n",
      "K=102, 평균 정확도: 0.685873\n",
      "K=103, 평균 정확도: 0.685873\n",
      "K=104, 평균 정확도: 0.685873\n",
      "K=105, 평균 정확도: 0.685873\n",
      "K=106, 평균 정확도: 0.680317\n",
      "K=107, 평균 정확도: 0.674603\n",
      "K=108, 평균 정확도: 0.663333\n",
      "K=109, 평균 정확도: 0.663333\n",
      "K=110, 평균 정확도: 0.663333\n",
      "K=111, 평균 정확도: 0.657778\n",
      "K=112, 평균 정확도: 0.657778\n",
      "K=113, 평균 정확도: 0.663333\n"
     ]
    }
   ],
   "source": [
    "from sklearn.model_selection import cross_val_score\n",
    "X, y = data.data, data.target\n",
    "knn = KNeighborsClassifier(weights='uniform', metric = \"manhattan\")\n",
    "\n",
    "# K 값 후보 리스트\n",
    "k_values = list(range(1, 114))\n",
    "acc = []\n",
    "# 교차 검증 수행\n",
    "for k in k_values:\n",
    "    knn.n_neighbors = k  # KNN 모델의 이웃 수(k) 설정\n",
    "    scores = cross_val_score(knn, data.data, data.target, cv=5)  # 5-Fold Cross Validation\n",
    "    mean_accuracy = scores.mean()\n",
    "    acc.append(mean_accuracy)\n",
    "    print(f\"K={k}, 평균 정확도: {mean_accuracy:f}\")\n"
   ]
  },
  {
   "cell_type": "code",
   "execution_count": 27,
   "metadata": {
    "ExecuteTime": {
     "end_time": "2023-11-07T15:25:06.652737Z",
     "start_time": "2023-11-07T15:24:58.910586Z"
    }
   },
   "outputs": [
    {
     "name": "stdout",
     "output_type": "stream",
     "text": [
      "K=1, 평균 정확도: 0.950493\n",
      "K=2, 평균 정확도: 0.943842\n",
      "K=3, 평균 정확도: 0.950739\n",
      "K=4, 평균 정확도: 0.950493\n",
      "K=5, 평균 정확도: 0.957882\n",
      "K=6, 평균 정확도: 0.950985\n",
      "K=7, 평균 정확도: 0.950739\n",
      "K=8, 평균 정확도: 0.943842\n",
      "K=9, 평균 정확도: 0.943842\n",
      "K=10, 평균 정확도: 0.936946\n",
      "K=11, 평균 정확도: 0.950739\n",
      "K=12, 평균 정확도: 0.943596\n",
      "K=13, 평균 정확도: 0.943842\n",
      "K=14, 평균 정확도: 0.957635\n",
      "K=15, 평균 정확도: 0.957882\n",
      "K=16, 평균 정확도: 0.950739\n",
      "K=17, 평균 정확도: 0.957882\n",
      "K=18, 평균 정확도: 0.957882\n",
      "K=19, 평균 정확도: 0.957882\n",
      "K=20, 평균 정확도: 0.957882\n",
      "K=21, 평균 정확도: 0.965025\n",
      "K=22, 평균 정확도: 0.957882\n",
      "K=23, 평균 정확도: 0.965025\n",
      "K=24, 평균 정확도: 0.957882\n",
      "K=25, 평균 정확도: 0.957882\n",
      "K=26, 평균 정확도: 0.957882\n",
      "K=27, 평균 정확도: 0.957882\n",
      "K=28, 평균 정확도: 0.957882\n",
      "K=29, 평균 정확도: 0.957882\n",
      "K=30, 평균 정확도: 0.950739\n",
      "K=31, 평균 정확도: 0.950985\n",
      "K=32, 평균 정확도: 0.950739\n",
      "K=33, 평균 정확도: 0.950739\n",
      "K=34, 평균 정확도: 0.950739\n",
      "K=35, 평균 정확도: 0.943842\n",
      "K=36, 평균 정확도: 0.957635\n",
      "K=37, 평균 정확도: 0.957882\n",
      "K=38, 평균 정확도: 0.957635\n",
      "K=39, 평균 정확도: 0.957882\n",
      "K=40, 평균 정확도: 0.964778\n",
      "K=41, 평균 정확도: 0.957882\n",
      "K=42, 평균 정확도: 0.964778\n",
      "K=43, 평균 정확도: 0.957882\n",
      "K=44, 평균 정확도: 0.964778\n",
      "K=45, 평균 정확도: 0.957882\n",
      "K=46, 평균 정확도: 0.964778\n",
      "K=47, 평균 정확도: 0.964778\n",
      "K=48, 평균 정확도: 0.964778\n",
      "K=49, 평균 정확도: 0.964778\n",
      "K=50, 평균 정확도: 0.957882\n",
      "K=51, 평균 정확도: 0.957882\n",
      "K=52, 평균 정확도: 0.950739\n",
      "K=53, 평균 정확도: 0.957882\n",
      "K=54, 평균 정확도: 0.950739\n",
      "K=55, 평균 정확도: 0.943842\n",
      "K=56, 평균 정확도: 0.943842\n",
      "K=57, 평균 정확도: 0.950985\n",
      "K=58, 평균 정확도: 0.957882\n",
      "K=59, 평균 정확도: 0.950985\n",
      "K=60, 평균 정확도: 0.936700\n",
      "K=61, 평균 정확도: 0.936700\n",
      "K=62, 평균 정확도: 0.950739\n",
      "K=63, 평균 정확도: 0.950739\n",
      "K=64, 평균 정확도: 0.951232\n",
      "K=65, 평균 정확도: 0.958128\n",
      "K=66, 평균 정확도: 0.958128\n",
      "K=67, 평균 정확도: 0.958128\n",
      "K=68, 평균 정확도: 0.958128\n",
      "K=69, 평균 정확도: 0.950985\n",
      "K=70, 평균 정확도: 0.950739\n",
      "K=71, 평균 정확도: 0.929557\n",
      "K=72, 평균 정확도: 0.922660\n",
      "K=73, 평균 정확도: 0.908621\n",
      "K=74, 평균 정확도: 0.887192\n",
      "K=75, 평균 정확도: 0.866010\n",
      "K=76, 평균 정확도: 0.845074\n",
      "K=77, 평균 정확도: 0.817488\n",
      "K=78, 평균 정확도: 0.803202\n",
      "K=79, 평균 정확도: 0.761330\n",
      "K=80, 평균 정확도: 0.726355\n",
      "K=81, 평균 정확도: 0.698276\n",
      "K=82, 평균 정확도: 0.684483\n",
      "K=83, 평균 정확도: 0.655911\n",
      "K=84, 평균 정확도: 0.634483\n",
      "K=85, 평균 정확도: 0.605911\n",
      "K=86, 평균 정확도: 0.591626\n",
      "K=87, 평균 정확도: 0.570690\n",
      "K=88, 평균 정확도: 0.542365\n",
      "K=89, 평균 정확도: 0.506897\n",
      "K=90, 평균 정확도: 0.499754\n",
      "K=91, 평균 정확도: 0.492857\n",
      "K=92, 평균 정확도: 0.464778\n",
      "K=93, 평균 정확도: 0.436207\n",
      "K=94, 평균 정확도: 0.429310\n",
      "K=95, 평균 정확도: 0.401232\n",
      "K=96, 평균 정확도: 0.401232\n",
      "K=97, 평균 정확도: 0.401232\n",
      "K=98, 평균 정확도: 0.401232\n",
      "K=99, 평균 정확도: 0.401232\n",
      "K=100, 평균 정확도: 0.401232\n",
      "K=101, 평균 정확도: 0.401232\n",
      "K=102, 평균 정확도: 0.401232\n",
      "K=103, 평균 정확도: 0.401232\n",
      "K=104, 평균 정확도: 0.401232\n",
      "K=105, 평균 정확도: 0.401232\n",
      "K=106, 평균 정확도: 0.401232\n",
      "K=107, 평균 정확도: 0.401232\n",
      "K=108, 평균 정확도: 0.401232\n",
      "K=109, 평균 정확도: 0.401232\n",
      "K=110, 평균 정확도: 0.401232\n",
      "K=111, 평균 정확도: 0.401232\n",
      "K=112, 평균 정확도: 0.401232\n",
      "K=113, 평균 정확도: 0.401232\n"
     ]
    }
   ],
   "source": [
    "acc_scaled = []\n",
    "models = []\n",
    "for k in range(1, 114):\n",
    "\n",
    "    std_scaler = StandardScaler()\n",
    "    knn = KNeighborsClassifier(weights='uniform', n_neighbors=k)\n",
    "    Knn_pipe = Pipeline([\n",
    "          (\"std_scaler\", std_scaler),\n",
    "          (\"knn\", knn),\n",
    "      ])\n",
    "\n",
    "    scores_scaled = cross_val_score(Knn_pipe, X_train, y_train, cv=5)\n",
    "    mean_scaled_accuracy = scores_scaled.mean()\n",
    "    acc_scaled.append(mean_scaled_accuracy)\n",
    "    models.append(Knn_pipe)\n",
    "    print(f\"K={k}, 평균 정확도: {mean_scaled_accuracy:f}\")"
   ]
  },
  {
   "cell_type": "code",
   "execution_count": 28,
   "metadata": {
    "ExecuteTime": {
     "end_time": "2023-11-07T15:25:06.947236Z",
     "start_time": "2023-11-07T15:25:06.656747Z"
    }
   },
   "outputs": [
    {
     "data": {
      "text/plain": [
       "Text(0, 0.5, 'acc')"
      ]
     },
     "execution_count": 28,
     "metadata": {},
     "output_type": "execute_result"
    },
    {
     "data": {
      "image/png": "[encoded data removed]",
      "text/plain": [
       "<Figure size 864x432 with 1 Axes>"
      ]
     },
     "metadata": {
      "needs_background": "light"
     },
     "output_type": "display_data"
    }
   ],
   "source": [
    "plt.figure(figsize=(12,6))\n",
    "sns.lineplot(x = range(1,114), y = acc_scaled)\n",
    "plt.xlabel(\"k\",fontsize = 20)\n",
    "plt.ylabel(\"acc\", fontsize = 20)"
   ]
  },
  {
   "cell_type": "code",
   "execution_count": 29,
   "metadata": {
    "ExecuteTime": {
     "end_time": "2023-11-07T15:25:07.336177Z",
     "start_time": "2023-11-07T15:25:06.952720Z"
    }
   },
   "outputs": [
    {
     "data": {
      "text/plain": [
       "Text(0, 0.5, 'acc')"
      ]
     },
     "execution_count": 29,
     "metadata": {},
     "output_type": "execute_result"
    },
    {
     "data": {
      "image/png": "[encoded data removed]",
      "text/plain": [
       "<Figure size 864x432 with 1 Axes>"
      ]
     },
     "metadata": {
      "needs_background": "light"
     },
     "output_type": "display_data"
    }
   ],
   "source": [
    "plt.figure(figsize=(12,6))\n",
    "sns.lineplot(x = range(1,114), y = acc, label = \"no scaled\")\n",
    "sns.lineplot(x = range(1,114), y = acc_scaled, label = \"std scaled\")\n",
    "plt.title(\"scaled vs no scaled\", fontsize = 30)\n",
    "plt.xlabel(\"k\",fontsize = 20)\n",
    "plt.ylabel(\"acc\", fontsize = 20)"
   ]
  },
  {
   "cell_type": "code",
   "execution_count": 30,
   "metadata": {
    "ExecuteTime": {
     "end_time": "2023-11-07T15:25:07.351900Z",
     "start_time": "2023-11-07T15:25:07.340090Z"
    }
   },
   "outputs": [],
   "source": [
    "best_k = np.argmax(np.array(acc_scaled))"
   ]
  },
  {
   "cell_type": "code",
   "execution_count": 31,
   "metadata": {
    "ExecuteTime": {
     "end_time": "2023-11-07T15:25:07.383120Z",
     "start_time": "2023-11-07T15:25:07.355930Z"
    }
   },
   "outputs": [
    {
     "name": "stdout",
     "output_type": "stream",
     "text": [
      "best K : 20\n"
     ]
    }
   ],
   "source": [
    "print(f\"best K : {best_k}\")"
   ]
  },
  {
   "cell_type": "code",
   "execution_count": 32,
   "metadata": {
    "ExecuteTime": {
     "end_time": "2023-11-07T15:25:07.414860Z",
     "start_time": "2023-11-07T15:25:07.387116Z"
    }
   },
   "outputs": [
    {
     "data": {
      "text/plain": [
       "Pipeline(steps=[('std_scaler', StandardScaler()),\n",
       "                ('knn', KNeighborsClassifier(n_neighbors=21))])"
      ]
     },
     "execution_count": 32,
     "metadata": {},
     "output_type": "execute_result"
    }
   ],
   "source": [
    "models[best_k].fit(X_train,y_train)"
   ]
  },
  {
   "cell_type": "code",
   "execution_count": 33,
   "metadata": {
    "ExecuteTime": {
     "end_time": "2023-11-07T15:25:07.444715Z",
     "start_time": "2023-11-07T15:25:07.417905Z"
    }
   },
   "outputs": [
    {
     "data": {
      "text/plain": [
       "0.9444444444444444"
      ]
     },
     "execution_count": 33,
     "metadata": {},
     "output_type": "execute_result"
    }
   ],
   "source": [
    "models[best_k].score(X_test,y_test)"
   ]
  }
 ],
 "metadata": {
  "colab": {
   "provenance": []
  },
  "kernelspec": {
   "display_name": "Python 3 (ipykernel)",
   "language": "python",
   "name": "python3"
  },
  "language_info": {
   "codemirror_mode": {
    "name": "ipython",
    "version": 3
   },
   "file_extension": ".py",
   "mimetype": "text/x-python",
   "name": "python",
   "nbconvert_exporter": "python",
   "pygments_lexer": "ipython3",
   "version": "3.9.12"
  },
  "toc": {
   "base_numbering": 1,
   "nav_menu": {},
   "number_sections": true,
   "sideBar": true,
   "skip_h1_title": false,
   "title_cell": "Table of Contents",
   "title_sidebar": "Contents",
   "toc_cell": false,
   "toc_position": {},
   "toc_section_display": true,
   "toc_window_display": false
  }
 },
 "nbformat": 4,
 "nbformat_minor": 1
}
