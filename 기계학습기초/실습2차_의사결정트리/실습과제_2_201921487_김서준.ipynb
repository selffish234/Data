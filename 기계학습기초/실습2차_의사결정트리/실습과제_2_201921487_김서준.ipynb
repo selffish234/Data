{
  "nbformat": 4,
  "nbformat_minor": 0,
  "metadata": {
    "colab": {
      "provenance": []
    },
    "kernelspec": {
      "name": "python3",
      "display_name": "Python 3"
    },
    "language_info": {
      "name": "python"
    }
  },
  "cells": [
    {
      "cell_type": "markdown",
      "source": [
        "# Assignment\n",
        "\n",
        "-  DT를 학습시켜 DT graph를 시각화하고 test set에 대한 정확도를 출력하시오\n",
        "- 그리고 가장 중요한 feature를 2가지를 선택해서 다시 DT classifier를 학습시키시오.\n",
        "-  이후  decision boundary를 시각화 하시오.\n"
      ],
      "metadata": {
        "id": "48UPwUfH37-p"
      }
    },
    {
      "cell_type": "code",
      "source": [
        "from sklearn.tree import DecisionTreeClassifier\n",
        "from sklearn.metrics import accuracy_score\n",
        "from sklearn.datasets import load_wine\n",
        "from sklearn.model_selection import train_test_split"
      ],
      "metadata": {
        "id": "j82fnZWHDxUz"
      },
      "execution_count": 70,
      "outputs": []
    },
    {
      "cell_type": "code",
      "source": [
        "wine = load_wine(as_frame=True)"
      ],
      "metadata": {
        "id": "0T5HJq0nDwZw"
      },
      "execution_count": 71,
      "outputs": []
    },
    {
      "cell_type": "code",
      "source": [
        "from sklearn.datasets import load_wine\n",
        "from sklearn.model_selection import train_test_split\n",
        "wine = load_wine(as_frame=True)\n",
        "df = wine.data\n",
        "df['label'] = wine.target"
      ],
      "metadata": {
        "id": "WCeFDVZ736zy"
      },
      "execution_count": 72,
      "outputs": []
    },
    {
      "cell_type": "code",
      "source": [
        "X = df[['alcohol', 'malic_acid']]\n",
        "y = wine.target"
      ],
      "metadata": {
        "id": "UQaYsE07B9w5"
      },
      "execution_count": 73,
      "outputs": []
    },
    {
      "cell_type": "code",
      "source": [
        "wine.feature_names"
      ],
      "metadata": {
        "colab": {
          "base_uri": "https://localhost:8080/"
        },
        "id": "SS48ApFrEfaB",
        "outputId": "7d068ff8-064b-4a64-ab6a-e793dc5d7d06"
      },
      "execution_count": 74,
      "outputs": [
        {
          "output_type": "execute_result",
          "data": {
            "text/plain": [
              "['alcohol',\n",
              " 'malic_acid',\n",
              " 'ash',\n",
              " 'alcalinity_of_ash',\n",
              " 'magnesium',\n",
              " 'total_phenols',\n",
              " 'flavanoids',\n",
              " 'nonflavanoid_phenols',\n",
              " 'proanthocyanins',\n",
              " 'color_intensity',\n",
              " 'hue',\n",
              " 'od280/od315_of_diluted_wines',\n",
              " 'proline']"
            ]
          },
          "metadata": {},
          "execution_count": 74
        }
      ]
    },
    {
      "cell_type": "code",
      "source": [
        "tree_clf2 = DecisionTreeClassifier(criterion='gini', max_depth=2, random_state=11)\n",
        "tree_clf2.fit(X, y)"
      ],
      "metadata": {
        "colab": {
          "base_uri": "https://localhost:8080/",
          "height": 75
        },
        "id": "Sx1fIshwCPmk",
        "outputId": "67890eed-3d0c-45b1-f656-c60792732811"
      },
      "execution_count": 75,
      "outputs": [
        {
          "output_type": "execute_result",
          "data": {
            "text/plain": [
              "DecisionTreeClassifier(max_depth=2, random_state=11)"
            ],
            "text/html": [
              "<style>#sk-container-id-9 {color: black;background-color: white;}#sk-container-id-9 pre{padding: 0;}#sk-container-id-9 div.sk-toggleable {background-color: white;}#sk-container-id-9 label.sk-toggleable__label {cursor: pointer;display: block;width: 100%;margin-bottom: 0;padding: 0.3em;box-sizing: border-box;text-align: center;}#sk-container-id-9 label.sk-toggleable__label-arrow:before {content: \"▸\";float: left;margin-right: 0.25em;color: #696969;}#sk-container-id-9 label.sk-toggleable__label-arrow:hover:before {color: black;}#sk-container-id-9 div.sk-estimator:hover label.sk-toggleable__label-arrow:before {color: black;}#sk-container-id-9 div.sk-toggleable__content {max-height: 0;max-width: 0;overflow: hidden;text-align: left;background-color: #f0f8ff;}#sk-container-id-9 div.sk-toggleable__content pre {margin: 0.2em;color: black;border-radius: 0.25em;background-color: #f0f8ff;}#sk-container-id-9 input.sk-toggleable__control:checked~div.sk-toggleable__content {max-height: 200px;max-width: 100%;overflow: auto;}#sk-container-id-9 input.sk-toggleable__control:checked~label.sk-toggleable__label-arrow:before {content: \"▾\";}#sk-container-id-9 div.sk-estimator input.sk-toggleable__control:checked~label.sk-toggleable__label {background-color: #d4ebff;}#sk-container-id-9 div.sk-label input.sk-toggleable__control:checked~label.sk-toggleable__label {background-color: #d4ebff;}#sk-container-id-9 input.sk-hidden--visually {border: 0;clip: rect(1px 1px 1px 1px);clip: rect(1px, 1px, 1px, 1px);height: 1px;margin: -1px;overflow: hidden;padding: 0;position: absolute;width: 1px;}#sk-container-id-9 div.sk-estimator {font-family: monospace;background-color: #f0f8ff;border: 1px dotted black;border-radius: 0.25em;box-sizing: border-box;margin-bottom: 0.5em;}#sk-container-id-9 div.sk-estimator:hover {background-color: #d4ebff;}#sk-container-id-9 div.sk-parallel-item::after {content: \"\";width: 100%;border-bottom: 1px solid gray;flex-grow: 1;}#sk-container-id-9 div.sk-label:hover label.sk-toggleable__label {background-color: #d4ebff;}#sk-container-id-9 div.sk-serial::before {content: \"\";position: absolute;border-left: 1px solid gray;box-sizing: border-box;top: 0;bottom: 0;left: 50%;z-index: 0;}#sk-container-id-9 div.sk-serial {display: flex;flex-direction: column;align-items: center;background-color: white;padding-right: 0.2em;padding-left: 0.2em;position: relative;}#sk-container-id-9 div.sk-item {position: relative;z-index: 1;}#sk-container-id-9 div.sk-parallel {display: flex;align-items: stretch;justify-content: center;background-color: white;position: relative;}#sk-container-id-9 div.sk-item::before, #sk-container-id-9 div.sk-parallel-item::before {content: \"\";position: absolute;border-left: 1px solid gray;box-sizing: border-box;top: 0;bottom: 0;left: 50%;z-index: -1;}#sk-container-id-9 div.sk-parallel-item {display: flex;flex-direction: column;z-index: 1;position: relative;background-color: white;}#sk-container-id-9 div.sk-parallel-item:first-child::after {align-self: flex-end;width: 50%;}#sk-container-id-9 div.sk-parallel-item:last-child::after {align-self: flex-start;width: 50%;}#sk-container-id-9 div.sk-parallel-item:only-child::after {width: 0;}#sk-container-id-9 div.sk-dashed-wrapped {border: 1px dashed gray;margin: 0 0.4em 0.5em 0.4em;box-sizing: border-box;padding-bottom: 0.4em;background-color: white;}#sk-container-id-9 div.sk-label label {font-family: monospace;font-weight: bold;display: inline-block;line-height: 1.2em;}#sk-container-id-9 div.sk-label-container {text-align: center;}#sk-container-id-9 div.sk-container {/* jupyter's `normalize.less` sets `[hidden] { display: none; }` but bootstrap.min.css set `[hidden] { display: none !important; }` so we also need the `!important` here to be able to override the default hidden behavior on the sphinx rendered scikit-learn.org. See: https://github.com/scikit-learn/scikit-learn/issues/21755 */display: inline-block !important;position: relative;}#sk-container-id-9 div.sk-text-repr-fallback {display: none;}</style><div id=\"sk-container-id-9\" class=\"sk-top-container\"><div class=\"sk-text-repr-fallback\"><pre>DecisionTreeClassifier(max_depth=2, random_state=11)</pre><b>In a Jupyter environment, please rerun this cell to show the HTML representation or trust the notebook. <br />On GitHub, the HTML representation is unable to render, please try loading this page with nbviewer.org.</b></div><div class=\"sk-container\" hidden><div class=\"sk-item\"><div class=\"sk-estimator sk-toggleable\"><input class=\"sk-toggleable__control sk-hidden--visually\" id=\"sk-estimator-id-9\" type=\"checkbox\" checked><label for=\"sk-estimator-id-9\" class=\"sk-toggleable__label sk-toggleable__label-arrow\">DecisionTreeClassifier</label><div class=\"sk-toggleable__content\"><pre>DecisionTreeClassifier(max_depth=2, random_state=11)</pre></div></div></div></div></div>"
            ]
          },
          "metadata": {},
          "execution_count": 75
        }
      ]
    },
    {
      "cell_type": "code",
      "source": [
        "from sklearn.tree import export_graphviz\n",
        "from graphviz import Source\n",
        "\n",
        "export_data = export_graphviz(\n",
        "    tree_clf2,\n",
        "    out_file=None,\n",
        "    feature_names=wine.feature_names[0:2],\n",
        "    class_names=wine.target_names,\n",
        "    filled=True,\n",
        "    rounded=True,\n",
        "    special_characters=True\n",
        ")\n",
        "graph = Source(export_data)\n",
        "graph"
      ],
      "metadata": {
        "colab": {
          "base_uri": "https://localhost:8080/",
          "height": 439
        },
        "id": "hxC1Yw6qCqFy",
        "outputId": "c0323805-bd7e-498a-941f-3a2d4f876904"
      },
      "execution_count": 76,
      "outputs": [
        {
          "output_type": "execute_result",
          "data": {
            "image/svg+xml": "<?xml version=\"1.0\" encoding=\"UTF-8\" standalone=\"no\"?>\n<!DOCTYPE svg PUBLIC \"-//W3C//DTD SVG 1.1//EN\"\n \"http://www.w3.org/Graphics/SVG/1.1/DTD/svg11.dtd\">\n<!-- Generated by graphviz version 2.43.0 (0)\n -->\n<!-- Title: Tree Pages: 1 -->\n<svg width=\"531pt\" height=\"314pt\"\n viewBox=\"0.00 0.00 531.00 314.00\" xmlns=\"http://www.w3.org/2000/svg\" xmlns:xlink=\"http://www.w3.org/1999/xlink\">\n<g id=\"graph0\" class=\"graph\" transform=\"scale(1 1) rotate(0) translate(4 310)\">\n<title>Tree</title>\n<polygon fill=\"white\" stroke=\"transparent\" points=\"-4,4 -4,-310 527,-310 527,4 -4,4\"/>\n<!-- 0 -->\n<g id=\"node1\" class=\"node\">\n<title>0</title>\n<path fill=\"#ebfcf2\" stroke=\"black\" d=\"M313.5,-306C313.5,-306 205.5,-306 205.5,-306 199.5,-306 193.5,-300 193.5,-294 193.5,-294 193.5,-235 193.5,-235 193.5,-229 199.5,-223 205.5,-223 205.5,-223 313.5,-223 313.5,-223 319.5,-223 325.5,-229 325.5,-235 325.5,-235 325.5,-294 325.5,-294 325.5,-300 319.5,-306 313.5,-306\"/>\n<text text-anchor=\"start\" x=\"213.5\" y=\"-290.8\" font-family=\"Helvetica,sans-Serif\" font-size=\"14.00\">alcohol ≤ 12.78</text>\n<text text-anchor=\"start\" x=\"224\" y=\"-275.8\" font-family=\"Helvetica,sans-Serif\" font-size=\"14.00\">gini = 0.658</text>\n<text text-anchor=\"start\" x=\"214.5\" y=\"-260.8\" font-family=\"Helvetica,sans-Serif\" font-size=\"14.00\">samples = 178</text>\n<text text-anchor=\"start\" x=\"201.5\" y=\"-245.8\" font-family=\"Helvetica,sans-Serif\" font-size=\"14.00\">value = [59, 71, 48]</text>\n<text text-anchor=\"start\" x=\"213\" y=\"-230.8\" font-family=\"Helvetica,sans-Serif\" font-size=\"14.00\">class = class_1</text>\n</g>\n<!-- 1 -->\n<g id=\"node2\" class=\"node\">\n<title>1</title>\n<path fill=\"#5cea97\" stroke=\"black\" d=\"M237,-187C237,-187 136,-187 136,-187 130,-187 124,-181 124,-175 124,-175 124,-116 124,-116 124,-110 130,-104 136,-104 136,-104 237,-104 237,-104 243,-104 249,-110 249,-116 249,-116 249,-175 249,-175 249,-181 243,-187 237,-187\"/>\n<text text-anchor=\"start\" x=\"133.5\" y=\"-171.8\" font-family=\"Helvetica,sans-Serif\" font-size=\"14.00\">malic_acid ≤ 2.96</text>\n<text text-anchor=\"start\" x=\"151\" y=\"-156.8\" font-family=\"Helvetica,sans-Serif\" font-size=\"14.00\">gini = 0.256</text>\n<text text-anchor=\"start\" x=\"145.5\" y=\"-141.8\" font-family=\"Helvetica,sans-Serif\" font-size=\"14.00\">samples = 73</text>\n<text text-anchor=\"start\" x=\"132\" y=\"-126.8\" font-family=\"Helvetica,sans-Serif\" font-size=\"14.00\">value = [0, 62, 11]</text>\n<text text-anchor=\"start\" x=\"140\" y=\"-111.8\" font-family=\"Helvetica,sans-Serif\" font-size=\"14.00\">class = class_1</text>\n</g>\n<!-- 0&#45;&gt;1 -->\n<g id=\"edge1\" class=\"edge\">\n<title>0&#45;&gt;1</title>\n<path fill=\"none\" stroke=\"black\" d=\"M234.17,-222.91C228.68,-214.1 222.81,-204.7 217.14,-195.61\"/>\n<polygon fill=\"black\" stroke=\"black\" points=\"220.05,-193.65 211.78,-187.02 214.11,-197.36 220.05,-193.65\"/>\n<text text-anchor=\"middle\" x=\"206.14\" y=\"-207.68\" font-family=\"Helvetica,sans-Serif\" font-size=\"14.00\">True</text>\n</g>\n<!-- 4 -->\n<g id=\"node5\" class=\"node\">\n<title>4</title>\n<path fill=\"#f7d6bf\" stroke=\"black\" d=\"M385.5,-187C385.5,-187 279.5,-187 279.5,-187 273.5,-187 267.5,-181 267.5,-175 267.5,-175 267.5,-116 267.5,-116 267.5,-110 273.5,-104 279.5,-104 279.5,-104 385.5,-104 385.5,-104 391.5,-104 397.5,-110 397.5,-116 397.5,-116 397.5,-175 397.5,-175 397.5,-181 391.5,-187 385.5,-187\"/>\n<text text-anchor=\"start\" x=\"275.5\" y=\"-171.8\" font-family=\"Helvetica,sans-Serif\" font-size=\"14.00\">malic_acid ≤ 2.235</text>\n<text text-anchor=\"start\" x=\"297\" y=\"-156.8\" font-family=\"Helvetica,sans-Serif\" font-size=\"14.00\">gini = 0.553</text>\n<text text-anchor=\"start\" x=\"287.5\" y=\"-141.8\" font-family=\"Helvetica,sans-Serif\" font-size=\"14.00\">samples = 105</text>\n<text text-anchor=\"start\" x=\"278\" y=\"-126.8\" font-family=\"Helvetica,sans-Serif\" font-size=\"14.00\">value = [59, 9, 37]</text>\n<text text-anchor=\"start\" x=\"286\" y=\"-111.8\" font-family=\"Helvetica,sans-Serif\" font-size=\"14.00\">class = class_0</text>\n</g>\n<!-- 0&#45;&gt;4 -->\n<g id=\"edge4\" class=\"edge\">\n<title>0&#45;&gt;4</title>\n<path fill=\"none\" stroke=\"black\" d=\"M284.83,-222.91C290.32,-214.1 296.19,-204.7 301.86,-195.61\"/>\n<polygon fill=\"black\" stroke=\"black\" points=\"304.89,-197.36 307.22,-187.02 298.95,-193.65 304.89,-197.36\"/>\n<text text-anchor=\"middle\" x=\"312.86\" y=\"-207.68\" font-family=\"Helvetica,sans-Serif\" font-size=\"14.00\">False</text>\n</g>\n<!-- 2 -->\n<g id=\"node3\" class=\"node\">\n<title>2</title>\n<path fill=\"#48e78a\" stroke=\"black\" d=\"M105,-68C105,-68 12,-68 12,-68 6,-68 0,-62 0,-56 0,-56 0,-12 0,-12 0,-6 6,0 12,0 12,0 105,0 105,0 111,0 117,-6 117,-12 117,-12 117,-56 117,-56 117,-62 111,-68 105,-68\"/>\n<text text-anchor=\"start\" x=\"23\" y=\"-52.8\" font-family=\"Helvetica,sans-Serif\" font-size=\"14.00\">gini = 0.128</text>\n<text text-anchor=\"start\" x=\"17.5\" y=\"-37.8\" font-family=\"Helvetica,sans-Serif\" font-size=\"14.00\">samples = 58</text>\n<text text-anchor=\"start\" x=\"8\" y=\"-22.8\" font-family=\"Helvetica,sans-Serif\" font-size=\"14.00\">value = [0, 54, 4]</text>\n<text text-anchor=\"start\" x=\"12\" y=\"-7.8\" font-family=\"Helvetica,sans-Serif\" font-size=\"14.00\">class = class_1</text>\n</g>\n<!-- 1&#45;&gt;2 -->\n<g id=\"edge2\" class=\"edge\">\n<title>1&#45;&gt;2</title>\n<path fill=\"none\" stroke=\"black\" d=\"M138.84,-103.73C127.86,-94.33 116.19,-84.35 105.24,-74.99\"/>\n<polygon fill=\"black\" stroke=\"black\" points=\"107.3,-72.14 97.43,-68.3 102.75,-77.46 107.3,-72.14\"/>\n</g>\n<!-- 3 -->\n<g id=\"node4\" class=\"node\">\n<title>3</title>\n<path fill=\"#e6fcef\" stroke=\"black\" d=\"M233.5,-68C233.5,-68 147.5,-68 147.5,-68 141.5,-68 135.5,-62 135.5,-56 135.5,-56 135.5,-12 135.5,-12 135.5,-6 141.5,0 147.5,0 147.5,0 233.5,0 233.5,0 239.5,0 245.5,-6 245.5,-12 245.5,-12 245.5,-56 245.5,-56 245.5,-62 239.5,-68 233.5,-68\"/>\n<text text-anchor=\"start\" x=\"155\" y=\"-52.8\" font-family=\"Helvetica,sans-Serif\" font-size=\"14.00\">gini = 0.498</text>\n<text text-anchor=\"start\" x=\"149.5\" y=\"-37.8\" font-family=\"Helvetica,sans-Serif\" font-size=\"14.00\">samples = 15</text>\n<text text-anchor=\"start\" x=\"143.5\" y=\"-22.8\" font-family=\"Helvetica,sans-Serif\" font-size=\"14.00\">value = [0, 8, 7]</text>\n<text text-anchor=\"start\" x=\"144\" y=\"-7.8\" font-family=\"Helvetica,sans-Serif\" font-size=\"14.00\">class = class_1</text>\n</g>\n<!-- 1&#45;&gt;3 -->\n<g id=\"edge3\" class=\"edge\">\n<title>1&#45;&gt;3</title>\n<path fill=\"none\" stroke=\"black\" d=\"M187.99,-103.73C188.29,-95.52 188.61,-86.86 188.91,-78.56\"/>\n<polygon fill=\"black\" stroke=\"black\" points=\"192.42,-78.42 189.28,-68.3 185.42,-78.17 192.42,-78.42\"/>\n</g>\n<!-- 5 -->\n<g id=\"node6\" class=\"node\">\n<title>5</title>\n<path fill=\"#ea9b61\" stroke=\"black\" d=\"M376,-68C376,-68 283,-68 283,-68 277,-68 271,-62 271,-56 271,-56 271,-12 271,-12 271,-6 277,0 283,0 283,0 376,0 376,0 382,0 388,-6 388,-12 388,-12 388,-56 388,-56 388,-62 382,-68 376,-68\"/>\n<text text-anchor=\"start\" x=\"294\" y=\"-52.8\" font-family=\"Helvetica,sans-Serif\" font-size=\"14.00\">gini = 0.311</text>\n<text text-anchor=\"start\" x=\"288.5\" y=\"-37.8\" font-family=\"Helvetica,sans-Serif\" font-size=\"14.00\">samples = 61</text>\n<text text-anchor=\"start\" x=\"279\" y=\"-22.8\" font-family=\"Helvetica,sans-Serif\" font-size=\"14.00\">value = [50, 7, 4]</text>\n<text text-anchor=\"start\" x=\"283\" y=\"-7.8\" font-family=\"Helvetica,sans-Serif\" font-size=\"14.00\">class = class_0</text>\n</g>\n<!-- 4&#45;&gt;5 -->\n<g id=\"edge5\" class=\"edge\">\n<title>4&#45;&gt;5</title>\n<path fill=\"none\" stroke=\"black\" d=\"M331.38,-103.73C331.16,-95.52 330.92,-86.86 330.69,-78.56\"/>\n<polygon fill=\"black\" stroke=\"black\" points=\"334.18,-78.2 330.41,-68.3 327.19,-78.39 334.18,-78.2\"/>\n</g>\n<!-- 6 -->\n<g id=\"node7\" class=\"node\">\n<title>6</title>\n<path fill=\"#a977ed\" stroke=\"black\" d=\"M511,-68C511,-68 418,-68 418,-68 412,-68 406,-62 406,-56 406,-56 406,-12 406,-12 406,-6 412,0 418,0 418,0 511,0 511,0 517,0 523,-6 523,-12 523,-12 523,-56 523,-56 523,-62 517,-68 511,-68\"/>\n<text text-anchor=\"start\" x=\"429\" y=\"-52.8\" font-family=\"Helvetica,sans-Serif\" font-size=\"14.00\">gini = 0.394</text>\n<text text-anchor=\"start\" x=\"423.5\" y=\"-37.8\" font-family=\"Helvetica,sans-Serif\" font-size=\"14.00\">samples = 44</text>\n<text text-anchor=\"start\" x=\"414\" y=\"-22.8\" font-family=\"Helvetica,sans-Serif\" font-size=\"14.00\">value = [9, 2, 33]</text>\n<text text-anchor=\"start\" x=\"418\" y=\"-7.8\" font-family=\"Helvetica,sans-Serif\" font-size=\"14.00\">class = class_2</text>\n</g>\n<!-- 4&#45;&gt;6 -->\n<g id=\"edge6\" class=\"edge\">\n<title>4&#45;&gt;6</title>\n<path fill=\"none\" stroke=\"black\" d=\"M381.65,-103.73C393.09,-94.24 405.24,-84.16 416.62,-74.72\"/>\n<polygon fill=\"black\" stroke=\"black\" points=\"418.9,-77.38 424.36,-68.3 414.43,-71.99 418.9,-77.38\"/>\n</g>\n</g>\n</svg>\n",
            "text/plain": [
              "<graphviz.sources.Source at 0x7ae17f446800>"
            ]
          },
          "metadata": {},
          "execution_count": 76
        }
      ]
    },
    {
      "cell_type": "code",
      "source": [
        "y_pred = tree_clf2.predict(X)\n",
        "accuracy_score = accuracy_score(y, y_pred)\n",
        "print(f\"테스트 세트 정확도: {accuracy_score:.2f}\")"
      ],
      "metadata": {
        "colab": {
          "base_uri": "https://localhost:8080/"
        },
        "id": "oWgYj9IiDFal",
        "outputId": "8e7286c9-403b-4818-bd96-3354cddf62ad"
      },
      "execution_count": 77,
      "outputs": [
        {
          "output_type": "stream",
          "name": "stdout",
          "text": [
            "테스트 세트 정확도: 0.81\n"
          ]
        }
      ]
    },
    {
      "cell_type": "code",
      "source": [
        "tree_clf2.feature_importances_"
      ],
      "metadata": {
        "colab": {
          "base_uri": "https://localhost:8080/"
        },
        "id": "Ko1TN6qCGM29",
        "outputId": "e559c729-bb1c-4c6c-d790-d4af4333b206"
      },
      "execution_count": 78,
      "outputs": [
        {
          "output_type": "execute_result",
          "data": {
            "text/plain": [
              "array([0.61301976, 0.38698024])"
            ]
          },
          "metadata": {},
          "execution_count": 78
        }
      ]
    },
    {
      "cell_type": "markdown",
      "source": [
        "# graph(tree) Viz"
      ],
      "metadata": {
        "id": "cY_Gic7j4Bwr"
      }
    },
    {
      "cell_type": "code",
      "source": [
        "wine = load_wine()\n",
        "X_train, X_test, y_train, y_test = train_test_split(wine.data, wine.target, test_size= 0.2, random_state = 11)"
      ],
      "metadata": {
        "id": "NCtixPkpHV9p"
      },
      "execution_count": 83,
      "outputs": []
    },
    {
      "cell_type": "code",
      "source": [
        "import numpy as np\n",
        "import matplotlib.pyplot as plt"
      ],
      "metadata": {
        "id": "6FC0CESBp4iN"
      },
      "execution_count": 84,
      "outputs": []
    },
    {
      "cell_type": "code",
      "source": [
        "tree_clf = DecisionTreeClassifier(criterion='gini', max_depth=2,random_state=11)\n",
        "tree_clf.fit(X_train, y_train)"
      ],
      "metadata": {
        "id": "e7a2wnfc4DwI",
        "colab": {
          "base_uri": "https://localhost:8080/",
          "height": 75
        },
        "outputId": "00902641-7a04-49db-c703-1bc0dff49731"
      },
      "execution_count": 85,
      "outputs": [
        {
          "output_type": "execute_result",
          "data": {
            "text/plain": [
              "DecisionTreeClassifier(max_depth=2, random_state=11)"
            ],
            "text/html": [
              "<style>#sk-container-id-11 {color: black;background-color: white;}#sk-container-id-11 pre{padding: 0;}#sk-container-id-11 div.sk-toggleable {background-color: white;}#sk-container-id-11 label.sk-toggleable__label {cursor: pointer;display: block;width: 100%;margin-bottom: 0;padding: 0.3em;box-sizing: border-box;text-align: center;}#sk-container-id-11 label.sk-toggleable__label-arrow:before {content: \"▸\";float: left;margin-right: 0.25em;color: #696969;}#sk-container-id-11 label.sk-toggleable__label-arrow:hover:before {color: black;}#sk-container-id-11 div.sk-estimator:hover label.sk-toggleable__label-arrow:before {color: black;}#sk-container-id-11 div.sk-toggleable__content {max-height: 0;max-width: 0;overflow: hidden;text-align: left;background-color: #f0f8ff;}#sk-container-id-11 div.sk-toggleable__content pre {margin: 0.2em;color: black;border-radius: 0.25em;background-color: #f0f8ff;}#sk-container-id-11 input.sk-toggleable__control:checked~div.sk-toggleable__content {max-height: 200px;max-width: 100%;overflow: auto;}#sk-container-id-11 input.sk-toggleable__control:checked~label.sk-toggleable__label-arrow:before {content: \"▾\";}#sk-container-id-11 div.sk-estimator input.sk-toggleable__control:checked~label.sk-toggleable__label {background-color: #d4ebff;}#sk-container-id-11 div.sk-label input.sk-toggleable__control:checked~label.sk-toggleable__label {background-color: #d4ebff;}#sk-container-id-11 input.sk-hidden--visually {border: 0;clip: rect(1px 1px 1px 1px);clip: rect(1px, 1px, 1px, 1px);height: 1px;margin: -1px;overflow: hidden;padding: 0;position: absolute;width: 1px;}#sk-container-id-11 div.sk-estimator {font-family: monospace;background-color: #f0f8ff;border: 1px dotted black;border-radius: 0.25em;box-sizing: border-box;margin-bottom: 0.5em;}#sk-container-id-11 div.sk-estimator:hover {background-color: #d4ebff;}#sk-container-id-11 div.sk-parallel-item::after {content: \"\";width: 100%;border-bottom: 1px solid gray;flex-grow: 1;}#sk-container-id-11 div.sk-label:hover label.sk-toggleable__label {background-color: #d4ebff;}#sk-container-id-11 div.sk-serial::before {content: \"\";position: absolute;border-left: 1px solid gray;box-sizing: border-box;top: 0;bottom: 0;left: 50%;z-index: 0;}#sk-container-id-11 div.sk-serial {display: flex;flex-direction: column;align-items: center;background-color: white;padding-right: 0.2em;padding-left: 0.2em;position: relative;}#sk-container-id-11 div.sk-item {position: relative;z-index: 1;}#sk-container-id-11 div.sk-parallel {display: flex;align-items: stretch;justify-content: center;background-color: white;position: relative;}#sk-container-id-11 div.sk-item::before, #sk-container-id-11 div.sk-parallel-item::before {content: \"\";position: absolute;border-left: 1px solid gray;box-sizing: border-box;top: 0;bottom: 0;left: 50%;z-index: -1;}#sk-container-id-11 div.sk-parallel-item {display: flex;flex-direction: column;z-index: 1;position: relative;background-color: white;}#sk-container-id-11 div.sk-parallel-item:first-child::after {align-self: flex-end;width: 50%;}#sk-container-id-11 div.sk-parallel-item:last-child::after {align-self: flex-start;width: 50%;}#sk-container-id-11 div.sk-parallel-item:only-child::after {width: 0;}#sk-container-id-11 div.sk-dashed-wrapped {border: 1px dashed gray;margin: 0 0.4em 0.5em 0.4em;box-sizing: border-box;padding-bottom: 0.4em;background-color: white;}#sk-container-id-11 div.sk-label label {font-family: monospace;font-weight: bold;display: inline-block;line-height: 1.2em;}#sk-container-id-11 div.sk-label-container {text-align: center;}#sk-container-id-11 div.sk-container {/* jupyter's `normalize.less` sets `[hidden] { display: none; }` but bootstrap.min.css set `[hidden] { display: none !important; }` so we also need the `!important` here to be able to override the default hidden behavior on the sphinx rendered scikit-learn.org. See: https://github.com/scikit-learn/scikit-learn/issues/21755 */display: inline-block !important;position: relative;}#sk-container-id-11 div.sk-text-repr-fallback {display: none;}</style><div id=\"sk-container-id-11\" class=\"sk-top-container\"><div class=\"sk-text-repr-fallback\"><pre>DecisionTreeClassifier(max_depth=2, random_state=11)</pre><b>In a Jupyter environment, please rerun this cell to show the HTML representation or trust the notebook. <br />On GitHub, the HTML representation is unable to render, please try loading this page with nbviewer.org.</b></div><div class=\"sk-container\" hidden><div class=\"sk-item\"><div class=\"sk-estimator sk-toggleable\"><input class=\"sk-toggleable__control sk-hidden--visually\" id=\"sk-estimator-id-11\" type=\"checkbox\" checked><label for=\"sk-estimator-id-11\" class=\"sk-toggleable__label sk-toggleable__label-arrow\">DecisionTreeClassifier</label><div class=\"sk-toggleable__content\"><pre>DecisionTreeClassifier(max_depth=2, random_state=11)</pre></div></div></div></div></div>"
            ]
          },
          "metadata": {},
          "execution_count": 85
        }
      ]
    },
    {
      "cell_type": "code",
      "source": [
        "from sklearn.tree import export_graphviz\n",
        "from graphviz import Source\n",
        "\n",
        "export_data = export_graphviz(\n",
        "    tree_clf,\n",
        "    out_file=None,\n",
        "    feature_names=wine.feature_names,\n",
        "    class_names=wine.target_names,\n",
        "    filled=True,\n",
        "    rounded=True,\n",
        "    special_characters=True\n",
        ")"
      ],
      "metadata": {
        "id": "GeGGFkcZp8nU"
      },
      "execution_count": 86,
      "outputs": []
    },
    {
      "cell_type": "code",
      "source": [
        "graph = Source(export_data)\n",
        "graph"
      ],
      "metadata": {
        "colab": {
          "base_uri": "https://localhost:8080/",
          "height": 439
        },
        "id": "O7lP-jjyp_Ts",
        "outputId": "72e5034f-0aec-4553-ef64-01a8a556abc4"
      },
      "execution_count": 87,
      "outputs": [
        {
          "output_type": "execute_result",
          "data": {
            "image/svg+xml": "<?xml version=\"1.0\" encoding=\"UTF-8\" standalone=\"no\"?>\n<!DOCTYPE svg PUBLIC \"-//W3C//DTD SVG 1.1//EN\"\n \"http://www.w3.org/Graphics/SVG/1.1/DTD/svg11.dtd\">\n<!-- Generated by graphviz version 2.43.0 (0)\n -->\n<!-- Title: Tree Pages: 1 -->\n<svg width=\"527pt\" height=\"314pt\"\n viewBox=\"0.00 0.00 527.00 314.00\" xmlns=\"http://www.w3.org/2000/svg\" xmlns:xlink=\"http://www.w3.org/1999/xlink\">\n<g id=\"graph0\" class=\"graph\" transform=\"scale(1 1) rotate(0) translate(4 310)\">\n<title>Tree</title>\n<polygon fill=\"white\" stroke=\"transparent\" points=\"-4,4 -4,-310 523,-310 523,4 -4,4\"/>\n<!-- 0 -->\n<g id=\"node1\" class=\"node\">\n<title>0</title>\n<path fill=\"#e9fcf1\" stroke=\"black\" d=\"M317.5,-306C317.5,-306 197.5,-306 197.5,-306 191.5,-306 185.5,-300 185.5,-294 185.5,-294 185.5,-235 185.5,-235 185.5,-229 191.5,-223 197.5,-223 197.5,-223 317.5,-223 317.5,-223 323.5,-223 329.5,-229 329.5,-235 329.5,-235 329.5,-294 329.5,-294 329.5,-300 323.5,-306 317.5,-306\"/>\n<text text-anchor=\"start\" x=\"193.5\" y=\"-290.8\" font-family=\"Helvetica,sans-Serif\" font-size=\"14.00\">color_intensity ≤ 3.82</text>\n<text text-anchor=\"start\" x=\"222\" y=\"-275.8\" font-family=\"Helvetica,sans-Serif\" font-size=\"14.00\">gini = 0.661</text>\n<text text-anchor=\"start\" x=\"212.5\" y=\"-260.8\" font-family=\"Helvetica,sans-Serif\" font-size=\"14.00\">samples = 142</text>\n<text text-anchor=\"start\" x=\"199.5\" y=\"-245.8\" font-family=\"Helvetica,sans-Serif\" font-size=\"14.00\">value = [45, 56, 41]</text>\n<text text-anchor=\"start\" x=\"211\" y=\"-230.8\" font-family=\"Helvetica,sans-Serif\" font-size=\"14.00\">class = class_1</text>\n</g>\n<!-- 1 -->\n<g id=\"node2\" class=\"node\">\n<title>1</title>\n<path fill=\"#45e789\" stroke=\"black\" d=\"M235,-187C235,-187 142,-187 142,-187 136,-187 130,-181 130,-175 130,-175 130,-116 130,-116 130,-110 136,-104 142,-104 142,-104 235,-104 235,-104 241,-104 247,-110 247,-116 247,-116 247,-175 247,-175 247,-181 241,-187 235,-187\"/>\n<text text-anchor=\"start\" x=\"143.5\" y=\"-171.8\" font-family=\"Helvetica,sans-Serif\" font-size=\"14.00\">proline ≤ 790.0</text>\n<text text-anchor=\"start\" x=\"153\" y=\"-156.8\" font-family=\"Helvetica,sans-Serif\" font-size=\"14.00\">gini = 0.111</text>\n<text text-anchor=\"start\" x=\"147.5\" y=\"-141.8\" font-family=\"Helvetica,sans-Serif\" font-size=\"14.00\">samples = 51</text>\n<text text-anchor=\"start\" x=\"138\" y=\"-126.8\" font-family=\"Helvetica,sans-Serif\" font-size=\"14.00\">value = [3, 48, 0]</text>\n<text text-anchor=\"start\" x=\"142\" y=\"-111.8\" font-family=\"Helvetica,sans-Serif\" font-size=\"14.00\">class = class_1</text>\n</g>\n<!-- 0&#45;&gt;1 -->\n<g id=\"edge1\" class=\"edge\">\n<title>0&#45;&gt;1</title>\n<path fill=\"none\" stroke=\"black\" d=\"M233.56,-222.91C228.42,-214.2 222.94,-204.9 217.63,-195.89\"/>\n<polygon fill=\"black\" stroke=\"black\" points=\"220.49,-193.86 212.4,-187.02 214.46,-197.41 220.49,-193.86\"/>\n<text text-anchor=\"middle\" x=\"206.15\" y=\"-207.53\" font-family=\"Helvetica,sans-Serif\" font-size=\"14.00\">True</text>\n</g>\n<!-- 4 -->\n<g id=\"node5\" class=\"node\">\n<title>4</title>\n<path fill=\"#fefcfb\" stroke=\"black\" d=\"M378,-187C378,-187 277,-187 277,-187 271,-187 265,-181 265,-175 265,-175 265,-116 265,-116 265,-110 271,-104 277,-104 277,-104 378,-104 378,-104 384,-104 390,-110 390,-116 390,-116 390,-175 390,-175 390,-181 384,-187 378,-187\"/>\n<text text-anchor=\"start\" x=\"276\" y=\"-171.8\" font-family=\"Helvetica,sans-Serif\" font-size=\"14.00\">flavanoids ≤ 1.58</text>\n<text text-anchor=\"start\" x=\"292\" y=\"-156.8\" font-family=\"Helvetica,sans-Serif\" font-size=\"14.00\">gini = 0.576</text>\n<text text-anchor=\"start\" x=\"286.5\" y=\"-141.8\" font-family=\"Helvetica,sans-Serif\" font-size=\"14.00\">samples = 91</text>\n<text text-anchor=\"start\" x=\"273\" y=\"-126.8\" font-family=\"Helvetica,sans-Serif\" font-size=\"14.00\">value = [42, 8, 41]</text>\n<text text-anchor=\"start\" x=\"281\" y=\"-111.8\" font-family=\"Helvetica,sans-Serif\" font-size=\"14.00\">class = class_0</text>\n</g>\n<!-- 0&#45;&gt;4 -->\n<g id=\"edge4\" class=\"edge\">\n<title>0&#45;&gt;4</title>\n<path fill=\"none\" stroke=\"black\" d=\"M281.79,-222.91C287.05,-214.1 292.68,-204.7 298.12,-195.61\"/>\n<polygon fill=\"black\" stroke=\"black\" points=\"301.13,-197.4 303.26,-187.02 295.12,-193.81 301.13,-197.4\"/>\n<text text-anchor=\"middle\" x=\"309.35\" y=\"-207.57\" font-family=\"Helvetica,sans-Serif\" font-size=\"14.00\">False</text>\n</g>\n<!-- 2 -->\n<g id=\"node3\" class=\"node\">\n<title>2</title>\n<path fill=\"#39e581\" stroke=\"black\" d=\"M105,-68C105,-68 12,-68 12,-68 6,-68 0,-62 0,-56 0,-56 0,-12 0,-12 0,-6 6,0 12,0 12,0 105,0 105,0 111,0 117,-6 117,-12 117,-12 117,-56 117,-56 117,-62 111,-68 105,-68\"/>\n<text text-anchor=\"start\" x=\"30.5\" y=\"-52.8\" font-family=\"Helvetica,sans-Serif\" font-size=\"14.00\">gini = 0.0</text>\n<text text-anchor=\"start\" x=\"17.5\" y=\"-37.8\" font-family=\"Helvetica,sans-Serif\" font-size=\"14.00\">samples = 44</text>\n<text text-anchor=\"start\" x=\"8\" y=\"-22.8\" font-family=\"Helvetica,sans-Serif\" font-size=\"14.00\">value = [0, 44, 0]</text>\n<text text-anchor=\"start\" x=\"12\" y=\"-7.8\" font-family=\"Helvetica,sans-Serif\" font-size=\"14.00\">class = class_1</text>\n</g>\n<!-- 1&#45;&gt;2 -->\n<g id=\"edge2\" class=\"edge\">\n<title>1&#45;&gt;2</title>\n<path fill=\"none\" stroke=\"black\" d=\"M140.09,-103.73C128.94,-94.33 117.09,-84.35 105.97,-74.99\"/>\n<polygon fill=\"black\" stroke=\"black\" points=\"107.94,-72.06 98.03,-68.3 103.43,-77.42 107.94,-72.06\"/>\n</g>\n<!-- 3 -->\n<g id=\"node4\" class=\"node\">\n<title>3</title>\n<path fill=\"#cef8e0\" stroke=\"black\" d=\"M233.5,-68C233.5,-68 147.5,-68 147.5,-68 141.5,-68 135.5,-62 135.5,-56 135.5,-56 135.5,-12 135.5,-12 135.5,-6 141.5,0 147.5,0 147.5,0 233.5,0 233.5,0 239.5,0 245.5,-6 245.5,-12 245.5,-12 245.5,-56 245.5,-56 245.5,-62 239.5,-68 233.5,-68\"/>\n<text text-anchor=\"start\" x=\"158.5\" y=\"-52.8\" font-family=\"Helvetica,sans-Serif\" font-size=\"14.00\">gini = 0.49</text>\n<text text-anchor=\"start\" x=\"153\" y=\"-37.8\" font-family=\"Helvetica,sans-Serif\" font-size=\"14.00\">samples = 7</text>\n<text text-anchor=\"start\" x=\"143.5\" y=\"-22.8\" font-family=\"Helvetica,sans-Serif\" font-size=\"14.00\">value = [3, 4, 0]</text>\n<text text-anchor=\"start\" x=\"144\" y=\"-7.8\" font-family=\"Helvetica,sans-Serif\" font-size=\"14.00\">class = class_1</text>\n</g>\n<!-- 1&#45;&gt;3 -->\n<g id=\"edge3\" class=\"edge\">\n<title>1&#45;&gt;3</title>\n<path fill=\"none\" stroke=\"black\" d=\"M189.24,-103.73C189.39,-95.52 189.55,-86.86 189.7,-78.56\"/>\n<polygon fill=\"black\" stroke=\"black\" points=\"193.21,-78.36 189.89,-68.3 186.21,-78.23 193.21,-78.36\"/>\n</g>\n<!-- 5 -->\n<g id=\"node6\" class=\"node\">\n<title>5</title>\n<path fill=\"#8139e5\" stroke=\"black\" d=\"M372,-68C372,-68 279,-68 279,-68 273,-68 267,-62 267,-56 267,-56 267,-12 267,-12 267,-6 273,0 279,0 279,0 372,0 372,0 378,0 384,-6 384,-12 384,-12 384,-56 384,-56 384,-62 378,-68 372,-68\"/>\n<text text-anchor=\"start\" x=\"297.5\" y=\"-52.8\" font-family=\"Helvetica,sans-Serif\" font-size=\"14.00\">gini = 0.0</text>\n<text text-anchor=\"start\" x=\"284.5\" y=\"-37.8\" font-family=\"Helvetica,sans-Serif\" font-size=\"14.00\">samples = 41</text>\n<text text-anchor=\"start\" x=\"275\" y=\"-22.8\" font-family=\"Helvetica,sans-Serif\" font-size=\"14.00\">value = [0, 0, 41]</text>\n<text text-anchor=\"start\" x=\"279\" y=\"-7.8\" font-family=\"Helvetica,sans-Serif\" font-size=\"14.00\">class = class_2</text>\n</g>\n<!-- 4&#45;&gt;5 -->\n<g id=\"edge5\" class=\"edge\">\n<title>4&#45;&gt;5</title>\n<path fill=\"none\" stroke=\"black\" d=\"M326.76,-103.73C326.61,-95.52 326.45,-86.86 326.3,-78.56\"/>\n<polygon fill=\"black\" stroke=\"black\" points=\"329.79,-78.23 326.11,-68.3 322.79,-78.36 329.79,-78.23\"/>\n</g>\n<!-- 6 -->\n<g id=\"node7\" class=\"node\">\n<title>6</title>\n<path fill=\"#ea995f\" stroke=\"black\" d=\"M507,-68C507,-68 414,-68 414,-68 408,-68 402,-62 402,-56 402,-56 402,-12 402,-12 402,-6 408,0 414,0 414,0 507,0 507,0 513,0 519,-6 519,-12 519,-12 519,-56 519,-56 519,-62 513,-68 507,-68\"/>\n<text text-anchor=\"start\" x=\"425\" y=\"-52.8\" font-family=\"Helvetica,sans-Serif\" font-size=\"14.00\">gini = 0.269</text>\n<text text-anchor=\"start\" x=\"419.5\" y=\"-37.8\" font-family=\"Helvetica,sans-Serif\" font-size=\"14.00\">samples = 50</text>\n<text text-anchor=\"start\" x=\"410\" y=\"-22.8\" font-family=\"Helvetica,sans-Serif\" font-size=\"14.00\">value = [42, 8, 0]</text>\n<text text-anchor=\"start\" x=\"414\" y=\"-7.8\" font-family=\"Helvetica,sans-Serif\" font-size=\"14.00\">class = class_0</text>\n</g>\n<!-- 4&#45;&gt;6 -->\n<g id=\"edge6\" class=\"edge\">\n<title>4&#45;&gt;6</title>\n<path fill=\"none\" stroke=\"black\" d=\"M377.02,-103.73C388.55,-94.24 400.8,-84.16 412.26,-74.72\"/>\n<polygon fill=\"black\" stroke=\"black\" points=\"414.56,-77.36 420.05,-68.3 410.11,-71.95 414.56,-77.36\"/>\n</g>\n</g>\n</svg>\n",
            "text/plain": [
              "<graphviz.sources.Source at 0x7ae1467a2800>"
            ]
          },
          "metadata": {},
          "execution_count": 87
        }
      ]
    },
    {
      "cell_type": "markdown",
      "source": [
        "#정확도 출력 (Accuracy)"
      ],
      "metadata": {
        "id": "DlztFNM14EVc"
      }
    },
    {
      "cell_type": "code",
      "source": [
        "from sklearn.tree import DecisionTreeClassifier\n",
        "from sklearn.metrics import accuracy_score\n",
        "y_pred = tree_clf.predict(X_test)\n",
        "accuracy_score = accuracy_score(y_test, y_pred)\n",
        "print(f\"테스트 세트 정확도: {accuracy_score:.2f}\")"
      ],
      "metadata": {
        "colab": {
          "base_uri": "https://localhost:8080/"
        },
        "id": "ApA2FKAaGX0y",
        "outputId": "c33e3da7-b148-4f12-8887-964a5a741772"
      },
      "execution_count": 88,
      "outputs": [
        {
          "output_type": "stream",
          "name": "stdout",
          "text": [
            "테스트 세트 정확도: 0.89\n"
          ]
        }
      ]
    },
    {
      "cell_type": "markdown",
      "source": [
        "# 가장 중요도가 높은 2가지 feature를 고르시오.\n",
        " - 각 feature들의 중요도를 시각화하여 근거를 제시하시오."
      ],
      "metadata": {
        "id": "yCCuZmxL4Ll1"
      }
    },
    {
      "cell_type": "code",
      "source": [
        "tree_clf.feature_importances_"
      ],
      "metadata": {
        "colab": {
          "base_uri": "https://localhost:8080/"
        },
        "id": "digDa40zulLs",
        "outputId": "2a261a93-db6d-451f-d20e-7988900bbc34"
      },
      "execution_count": 89,
      "outputs": [
        {
          "output_type": "execute_result",
          "data": {
            "text/plain": [
              "array([0.        , 0.        , 0.        , 0.        , 0.        ,\n",
              "       0.        , 0.5068279 , 0.        , 0.        , 0.46434123,\n",
              "       0.        , 0.        , 0.02883087])"
            ]
          },
          "metadata": {},
          "execution_count": 89
        }
      ]
    },
    {
      "cell_type": "code",
      "source": [
        "plt.figure(figsize=(8, 6))\n",
        "plt.bar(range(len(tree_clf.feature_importances_)), tree_clf.feature_importances_)\n",
        "plt.xlabel(\"Feature Index\")\n",
        "plt.ylabel(\"Feature Importance\")\n",
        "plt.title(\"Feature Importances\")\n",
        "plt.xticks(range(len(tree_clf.feature_importances_)), range(len(tree_clf.feature_importances_)))\n",
        "plt.show()"
      ],
      "metadata": {
        "colab": {
          "base_uri": "https://localhost:8080/",
          "height": 564
        },
        "id": "ehsWmyAzu5pF",
        "outputId": "7a340acb-5ee5-4f71-f560-1376352f6dae"
      },
      "execution_count": 91,
      "outputs": [
        {
          "output_type": "display_data",
          "data": {
            "text/plain": [
              "<Figure size 800x600 with 1 Axes>"
            ],
            "image/png": "[encoded data removed]"
          },
          "metadata": {}
        }
      ]
    },
    {
      "cell_type": "code",
      "source": [
        "feature_importances_ = tree_clf.feature_importances_\n",
        "high_2_features = np.argsort(feature_importances_)[-2:]\n",
        "print(high_2_features)"
      ],
      "metadata": {
        "id": "DATiW4LV4WaN",
        "colab": {
          "base_uri": "https://localhost:8080/"
        },
        "outputId": "0a281978-d7d3-4510-bf10-6591f8c0b488"
      },
      "execution_count": 92,
      "outputs": [
        {
          "output_type": "stream",
          "name": "stdout",
          "text": [
            "[9 6]\n"
          ]
        }
      ]
    },
    {
      "cell_type": "code",
      "source": [
        "important_feature_names = [wine.feature_names[i] for i in high_2_features]\n",
        "\n",
        "important_feature_names"
      ],
      "metadata": {
        "colab": {
          "base_uri": "https://localhost:8080/"
        },
        "id": "FKR_gwDtqKw9",
        "outputId": "fcf95b0c-6cf8-4a36-f623-25f1d8ca0272"
      },
      "execution_count": 94,
      "outputs": [
        {
          "output_type": "execute_result",
          "data": {
            "text/plain": [
              "['color_intensity', 'flavanoids']"
            ]
          },
          "metadata": {},
          "execution_count": 94
        }
      ]
    },
    {
      "cell_type": "markdown",
      "source": [
        "# 위에서 고른 2가지 feature만을 가지고 DT를 다시 학습하시오.\n",
        "\n",
        " - 학습된 DT를 가지고 test set에 대한 정확도를 출력하시오."
      ],
      "metadata": {
        "id": "5wpYz3ID4XaZ"
      }
    },
    {
      "cell_type": "code",
      "source": [
        "X_train_selected = X_train[:, high_2_features]\n",
        "X_test_selected = X_test[:, high_2_features]\n",
        "\n",
        "dt_model_selected = DecisionTreeClassifier(criterion='gini', max_depth=2,random_state=11)\n",
        "dt_model_selected.fit(X_train_selected, y_train)\n",
        "\n",
        "y_pred_selected = dt_model_selected.predict(X_test_selected)"
      ],
      "metadata": {
        "id": "55ZhOuOt4QqB"
      },
      "execution_count": 95,
      "outputs": []
    },
    {
      "cell_type": "code",
      "source": [
        "# 상위 2개의 특성을 사용하여 Decision Tree 모델 생성 및 학습\n",
        "dt_model_selected = DecisionTreeClassifier(criterion='gini', max_depth=2, random_state=11)\n",
        "dt_model_selected.fit(X_train_selected, y_train)\n",
        "\n",
        "# 테스트 세트에 대한 예측\n",
        "y_pred_selected = dt_model_selected.predict(X_test_selected)\n"
      ],
      "metadata": {
        "id": "SOnL3xOSt2jG"
      },
      "execution_count": 96,
      "outputs": []
    },
    {
      "cell_type": "code",
      "source": [
        "export_data = export_graphviz(\n",
        "    dt_model_selected,  # 새로운 Decision Tree 모델\n",
        "    out_file=None,\n",
        "    feature_names=important_feature_names,  # 상위 2개 특성의 이름\n",
        "    class_names=wine.target_names,  # 클래스 이름\n",
        "    filled=True,\n",
        "    rounded=True,\n",
        "    special_characters=True\n",
        ")"
      ],
      "metadata": {
        "id": "aazH3-o8riDF"
      },
      "execution_count": 97,
      "outputs": []
    },
    {
      "cell_type": "code",
      "source": [
        "graph = Source(export_data)\n",
        "graph"
      ],
      "metadata": {
        "colab": {
          "base_uri": "https://localhost:8080/",
          "height": 439
        },
        "id": "Xn5xPlq1rvnd",
        "outputId": "acd10c15-711b-42a7-e6b4-031c9d44b562"
      },
      "execution_count": 98,
      "outputs": [
        {
          "output_type": "execute_result",
          "data": {
            "image/svg+xml": "<?xml version=\"1.0\" encoding=\"UTF-8\" standalone=\"no\"?>\n<!DOCTYPE svg PUBLIC \"-//W3C//DTD SVG 1.1//EN\"\n \"http://www.w3.org/Graphics/SVG/1.1/DTD/svg11.dtd\">\n<!-- Generated by graphviz version 2.43.0 (0)\n -->\n<!-- Title: Tree Pages: 1 -->\n<svg width=\"534pt\" height=\"314pt\"\n viewBox=\"0.00 0.00 534.00 314.00\" xmlns=\"http://www.w3.org/2000/svg\" xmlns:xlink=\"http://www.w3.org/1999/xlink\">\n<g id=\"graph0\" class=\"graph\" transform=\"scale(1 1) rotate(0) translate(4 310)\">\n<title>Tree</title>\n<polygon fill=\"white\" stroke=\"transparent\" points=\"-4,4 -4,-310 530,-310 530,4 -4,4\"/>\n<!-- 0 -->\n<g id=\"node1\" class=\"node\">\n<title>0</title>\n<path fill=\"#e9fcf1\" stroke=\"black\" d=\"M320.5,-306C320.5,-306 200.5,-306 200.5,-306 194.5,-306 188.5,-300 188.5,-294 188.5,-294 188.5,-235 188.5,-235 188.5,-229 194.5,-223 200.5,-223 200.5,-223 320.5,-223 320.5,-223 326.5,-223 332.5,-229 332.5,-235 332.5,-235 332.5,-294 332.5,-294 332.5,-300 326.5,-306 320.5,-306\"/>\n<text text-anchor=\"start\" x=\"196.5\" y=\"-290.8\" font-family=\"Helvetica,sans-Serif\" font-size=\"14.00\">color_intensity ≤ 3.82</text>\n<text text-anchor=\"start\" x=\"225\" y=\"-275.8\" font-family=\"Helvetica,sans-Serif\" font-size=\"14.00\">gini = 0.661</text>\n<text text-anchor=\"start\" x=\"215.5\" y=\"-260.8\" font-family=\"Helvetica,sans-Serif\" font-size=\"14.00\">samples = 142</text>\n<text text-anchor=\"start\" x=\"202.5\" y=\"-245.8\" font-family=\"Helvetica,sans-Serif\" font-size=\"14.00\">value = [45, 56, 41]</text>\n<text text-anchor=\"start\" x=\"214\" y=\"-230.8\" font-family=\"Helvetica,sans-Serif\" font-size=\"14.00\">class = class_1</text>\n</g>\n<!-- 1 -->\n<g id=\"node2\" class=\"node\">\n<title>1</title>\n<path fill=\"#45e789\" stroke=\"black\" d=\"M244.5,-187C244.5,-187 124.5,-187 124.5,-187 118.5,-187 112.5,-181 112.5,-175 112.5,-175 112.5,-116 112.5,-116 112.5,-110 118.5,-104 124.5,-104 124.5,-104 244.5,-104 244.5,-104 250.5,-104 256.5,-110 256.5,-116 256.5,-116 256.5,-175 256.5,-175 256.5,-181 250.5,-187 244.5,-187\"/>\n<text text-anchor=\"start\" x=\"120.5\" y=\"-171.8\" font-family=\"Helvetica,sans-Serif\" font-size=\"14.00\">color_intensity ≤ 3.46</text>\n<text text-anchor=\"start\" x=\"149\" y=\"-156.8\" font-family=\"Helvetica,sans-Serif\" font-size=\"14.00\">gini = 0.111</text>\n<text text-anchor=\"start\" x=\"143.5\" y=\"-141.8\" font-family=\"Helvetica,sans-Serif\" font-size=\"14.00\">samples = 51</text>\n<text text-anchor=\"start\" x=\"134\" y=\"-126.8\" font-family=\"Helvetica,sans-Serif\" font-size=\"14.00\">value = [3, 48, 0]</text>\n<text text-anchor=\"start\" x=\"138\" y=\"-111.8\" font-family=\"Helvetica,sans-Serif\" font-size=\"14.00\">class = class_1</text>\n</g>\n<!-- 0&#45;&gt;1 -->\n<g id=\"edge1\" class=\"edge\">\n<title>0&#45;&gt;1</title>\n<path fill=\"none\" stroke=\"black\" d=\"M234.13,-222.91C228.41,-214.1 222.31,-204.7 216.4,-195.61\"/>\n<polygon fill=\"black\" stroke=\"black\" points=\"219.2,-193.5 210.82,-187.02 213.33,-197.31 219.2,-193.5\"/>\n<text text-anchor=\"middle\" x=\"205.63\" y=\"-207.78\" font-family=\"Helvetica,sans-Serif\" font-size=\"14.00\">True</text>\n</g>\n<!-- 4 -->\n<g id=\"node5\" class=\"node\">\n<title>4</title>\n<path fill=\"#fefcfb\" stroke=\"black\" d=\"M388,-187C388,-187 287,-187 287,-187 281,-187 275,-181 275,-175 275,-175 275,-116 275,-116 275,-110 281,-104 287,-104 287,-104 388,-104 388,-104 394,-104 400,-110 400,-116 400,-116 400,-175 400,-175 400,-181 394,-187 388,-187\"/>\n<text text-anchor=\"start\" x=\"286\" y=\"-171.8\" font-family=\"Helvetica,sans-Serif\" font-size=\"14.00\">flavanoids ≤ 1.58</text>\n<text text-anchor=\"start\" x=\"302\" y=\"-156.8\" font-family=\"Helvetica,sans-Serif\" font-size=\"14.00\">gini = 0.576</text>\n<text text-anchor=\"start\" x=\"296.5\" y=\"-141.8\" font-family=\"Helvetica,sans-Serif\" font-size=\"14.00\">samples = 91</text>\n<text text-anchor=\"start\" x=\"283\" y=\"-126.8\" font-family=\"Helvetica,sans-Serif\" font-size=\"14.00\">value = [42, 8, 41]</text>\n<text text-anchor=\"start\" x=\"291\" y=\"-111.8\" font-family=\"Helvetica,sans-Serif\" font-size=\"14.00\">class = class_0</text>\n</g>\n<!-- 0&#45;&gt;4 -->\n<g id=\"edge4\" class=\"edge\">\n<title>0&#45;&gt;4</title>\n<path fill=\"none\" stroke=\"black\" d=\"M287.21,-222.91C293.01,-214.1 299.2,-204.7 305.18,-195.61\"/>\n<polygon fill=\"black\" stroke=\"black\" points=\"308.26,-197.3 310.83,-187.02 302.41,-193.45 308.26,-197.3\"/>\n<text text-anchor=\"middle\" x=\"315.88\" y=\"-207.81\" font-family=\"Helvetica,sans-Serif\" font-size=\"14.00\">False</text>\n</g>\n<!-- 2 -->\n<g id=\"node3\" class=\"node\">\n<title>2</title>\n<path fill=\"#39e581\" stroke=\"black\" d=\"M105,-68C105,-68 12,-68 12,-68 6,-68 0,-62 0,-56 0,-56 0,-12 0,-12 0,-6 6,0 12,0 12,0 105,0 105,0 111,0 117,-6 117,-12 117,-12 117,-56 117,-56 117,-62 111,-68 105,-68\"/>\n<text text-anchor=\"start\" x=\"30.5\" y=\"-52.8\" font-family=\"Helvetica,sans-Serif\" font-size=\"14.00\">gini = 0.0</text>\n<text text-anchor=\"start\" x=\"17.5\" y=\"-37.8\" font-family=\"Helvetica,sans-Serif\" font-size=\"14.00\">samples = 44</text>\n<text text-anchor=\"start\" x=\"8\" y=\"-22.8\" font-family=\"Helvetica,sans-Serif\" font-size=\"14.00\">value = [0, 44, 0]</text>\n<text text-anchor=\"start\" x=\"12\" y=\"-7.8\" font-family=\"Helvetica,sans-Serif\" font-size=\"14.00\">class = class_1</text>\n</g>\n<!-- 1&#45;&gt;2 -->\n<g id=\"edge2\" class=\"edge\">\n<title>1&#45;&gt;2</title>\n<path fill=\"none\" stroke=\"black\" d=\"M137.58,-103.73C126.77,-94.33 115.29,-84.35 104.51,-74.99\"/>\n<polygon fill=\"black\" stroke=\"black\" points=\"106.66,-72.22 96.82,-68.3 102.07,-77.5 106.66,-72.22\"/>\n</g>\n<!-- 3 -->\n<g id=\"node4\" class=\"node\">\n<title>3</title>\n<path fill=\"#cef8e0\" stroke=\"black\" d=\"M233.5,-68C233.5,-68 147.5,-68 147.5,-68 141.5,-68 135.5,-62 135.5,-56 135.5,-56 135.5,-12 135.5,-12 135.5,-6 141.5,0 147.5,0 147.5,0 233.5,0 233.5,0 239.5,0 245.5,-6 245.5,-12 245.5,-12 245.5,-56 245.5,-56 245.5,-62 239.5,-68 233.5,-68\"/>\n<text text-anchor=\"start\" x=\"158.5\" y=\"-52.8\" font-family=\"Helvetica,sans-Serif\" font-size=\"14.00\">gini = 0.49</text>\n<text text-anchor=\"start\" x=\"153\" y=\"-37.8\" font-family=\"Helvetica,sans-Serif\" font-size=\"14.00\">samples = 7</text>\n<text text-anchor=\"start\" x=\"143.5\" y=\"-22.8\" font-family=\"Helvetica,sans-Serif\" font-size=\"14.00\">value = [3, 4, 0]</text>\n<text text-anchor=\"start\" x=\"144\" y=\"-7.8\" font-family=\"Helvetica,sans-Serif\" font-size=\"14.00\">class = class_1</text>\n</g>\n<!-- 1&#45;&gt;3 -->\n<g id=\"edge3\" class=\"edge\">\n<title>1&#45;&gt;3</title>\n<path fill=\"none\" stroke=\"black\" d=\"M186.73,-103.73C187.18,-95.52 187.66,-86.86 188.11,-78.56\"/>\n<polygon fill=\"black\" stroke=\"black\" points=\"191.62,-78.48 188.68,-68.3 184.63,-78.09 191.62,-78.48\"/>\n</g>\n<!-- 5 -->\n<g id=\"node6\" class=\"node\">\n<title>5</title>\n<path fill=\"#8139e5\" stroke=\"black\" d=\"M379,-68C379,-68 286,-68 286,-68 280,-68 274,-62 274,-56 274,-56 274,-12 274,-12 274,-6 280,0 286,0 286,0 379,0 379,0 385,0 391,-6 391,-12 391,-12 391,-56 391,-56 391,-62 385,-68 379,-68\"/>\n<text text-anchor=\"start\" x=\"304.5\" y=\"-52.8\" font-family=\"Helvetica,sans-Serif\" font-size=\"14.00\">gini = 0.0</text>\n<text text-anchor=\"start\" x=\"291.5\" y=\"-37.8\" font-family=\"Helvetica,sans-Serif\" font-size=\"14.00\">samples = 41</text>\n<text text-anchor=\"start\" x=\"282\" y=\"-22.8\" font-family=\"Helvetica,sans-Serif\" font-size=\"14.00\">value = [0, 0, 41]</text>\n<text text-anchor=\"start\" x=\"286\" y=\"-7.8\" font-family=\"Helvetica,sans-Serif\" font-size=\"14.00\">class = class_2</text>\n</g>\n<!-- 4&#45;&gt;5 -->\n<g id=\"edge5\" class=\"edge\">\n<title>4&#45;&gt;5</title>\n<path fill=\"none\" stroke=\"black\" d=\"M335.64,-103.73C335.26,-95.52 334.87,-86.86 334.49,-78.56\"/>\n<polygon fill=\"black\" stroke=\"black\" points=\"337.97,-78.13 334.02,-68.3 330.98,-78.45 337.97,-78.13\"/>\n</g>\n<!-- 6 -->\n<g id=\"node7\" class=\"node\">\n<title>6</title>\n<path fill=\"#ea995f\" stroke=\"black\" d=\"M514,-68C514,-68 421,-68 421,-68 415,-68 409,-62 409,-56 409,-56 409,-12 409,-12 409,-6 415,0 421,0 421,0 514,0 514,0 520,0 526,-6 526,-12 526,-12 526,-56 526,-56 526,-62 520,-68 514,-68\"/>\n<text text-anchor=\"start\" x=\"432\" y=\"-52.8\" font-family=\"Helvetica,sans-Serif\" font-size=\"14.00\">gini = 0.269</text>\n<text text-anchor=\"start\" x=\"426.5\" y=\"-37.8\" font-family=\"Helvetica,sans-Serif\" font-size=\"14.00\">samples = 50</text>\n<text text-anchor=\"start\" x=\"417\" y=\"-22.8\" font-family=\"Helvetica,sans-Serif\" font-size=\"14.00\">value = [42, 8, 0]</text>\n<text text-anchor=\"start\" x=\"421\" y=\"-7.8\" font-family=\"Helvetica,sans-Serif\" font-size=\"14.00\">class = class_0</text>\n</g>\n<!-- 4&#45;&gt;6 -->\n<g id=\"edge6\" class=\"edge\">\n<title>4&#45;&gt;6</title>\n<path fill=\"none\" stroke=\"black\" d=\"M385.91,-103.73C397.06,-94.33 408.91,-84.35 420.03,-74.99\"/>\n<polygon fill=\"black\" stroke=\"black\" points=\"422.57,-77.42 427.97,-68.3 418.06,-72.06 422.57,-77.42\"/>\n</g>\n</g>\n</svg>\n",
            "text/plain": [
              "<graphviz.sources.Source at 0x7ae1442eb910>"
            ]
          },
          "metadata": {},
          "execution_count": 98
        }
      ]
    },
    {
      "cell_type": "code",
      "source": [
        "from sklearn.tree import DecisionTreeClassifier\n",
        "from sklearn.metrics import accuracy_score\n",
        "\n",
        "# 정확도 계산 및 출력\n",
        "accuracy = accuracy_score(y_test, y_pred_selected)\n",
        "print(f\"테스트 세트 정확도: {accuracy:.2f}\")"
      ],
      "metadata": {
        "colab": {
          "base_uri": "https://localhost:8080/"
        },
        "id": "RU-GAFphsnKy",
        "outputId": "b8349257-ea0a-498d-9b10-a701bb38e520"
      },
      "execution_count": 99,
      "outputs": [
        {
          "output_type": "stream",
          "name": "stdout",
          "text": [
            "테스트 세트 정확도: 0.89\n"
          ]
        }
      ]
    },
    {
      "cell_type": "markdown",
      "source": [
        "# 해당 classifier의 Decision Boundary를 그리시오"
      ],
      "metadata": {
        "id": "IJuJblVZ44yX"
      }
    },
    {
      "cell_type": "code",
      "source": [
        "from mlxtend.plotting import plot_decision_regions\n",
        "\n",
        "# 훈련 데이터와 라벨을 합침\n",
        "X_combined = np.vstack((X_train_selected, X_test_selected))\n",
        "y_combined = np.hstack((y_train, y_test))\n",
        "\n",
        "# Decision Boundary 시각화\n",
        "plt.figure(figsize=(10, 6))\n",
        "plot_decision_regions(X_combined, y_combined, clf=dt_model_selected, legend=2)\n",
        "plt.xlabel(important_feature_names[0])\n",
        "plt.ylabel(important_feature_names[1])\n",
        "plt.title(\"Decision Boundary\")\n",
        "plt.show()\n"
      ],
      "metadata": {
        "colab": {
          "base_uri": "https://localhost:8080/",
          "height": 564
        },
        "id": "knwqllDRwn4o",
        "outputId": "4dea472e-7c0b-40be-d809-f2443507ee9a"
      },
      "execution_count": 101,
      "outputs": [
        {
          "output_type": "display_data",
          "data": {
            "text/plain": [
              "<Figure size 1000x600 with 1 Axes>"
            ],
            "image/png": "[encoded data removed]"
          },
          "metadata": {}
        }
      ]
    }
  ]
}