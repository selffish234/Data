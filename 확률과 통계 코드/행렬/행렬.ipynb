{
 "cells": [
  {
   "cell_type": "code",
   "execution_count": 1,
   "id": "1451c7fd",
   "metadata": {
    "ExecuteTime": {
     "end_time": "2023-09-15T01:50:44.187916Z",
     "start_time": "2023-09-15T01:50:43.820298Z"
    }
   },
   "outputs": [],
   "source": [
    "import numpy as np\n",
    "from scipy import linalg, sparse"
   ]
  },
  {
   "cell_type": "code",
   "execution_count": 2,
   "id": "590fce51",
   "metadata": {
    "ExecuteTime": {
     "end_time": "2023-09-15T01:53:24.060510Z",
     "start_time": "2023-09-15T01:53:24.047720Z"
    }
   },
   "outputs": [],
   "source": [
    "A = np.matrix(np.random.random((2,2))) # 임의의 2*2 행렬\n",
    "b = np.random.random((2, 2)) # 2*2의 numpy array를 생성\n",
    "B = np.asmatrix(b) # 2차원의 배열을 행렬로 변환\n",
    "C = np.mat(np.random.random((10, 5))) # 임의의 10*5 행렬\n",
    "D = np.mat([[3, 4],[5, 6]]) # 2차원의 자료를 나타낸 리스트를 행렬로 표현"
   ]
  },
  {
   "cell_type": "code",
   "execution_count": 4,
   "id": "5ba3dec3",
   "metadata": {
    "ExecuteTime": {
     "end_time": "2023-09-15T01:54:09.560266Z",
     "start_time": "2023-09-15T01:54:09.545959Z"
    }
   },
   "outputs": [
    {
     "name": "stdout",
     "output_type": "stream",
     "text": [
      "[[0.27763836 0.09803519]\n",
      " [0.57689263 0.25586722]]\n"
     ]
    }
   ],
   "source": [
    "print(A)"
   ]
  },
  {
   "cell_type": "code",
   "execution_count": 5,
   "id": "c80c57dd",
   "metadata": {
    "ExecuteTime": {
     "end_time": "2023-09-15T01:54:12.629362Z",
     "start_time": "2023-09-15T01:54:12.610974Z"
    }
   },
   "outputs": [
    {
     "name": "stdout",
     "output_type": "stream",
     "text": [
      "[[0.34727836 0.2677232 ]\n",
      " [0.15304803 0.07083985]]\n"
     ]
    }
   ],
   "source": [
    "print(B)"
   ]
  },
  {
   "cell_type": "code",
   "execution_count": 6,
   "id": "fadd3f32",
   "metadata": {
    "ExecuteTime": {
     "end_time": "2023-09-15T01:54:17.198753Z",
     "start_time": "2023-09-15T01:54:17.186158Z"
    }
   },
   "outputs": [
    {
     "name": "stdout",
     "output_type": "stream",
     "text": [
      "[[0.78539039 0.06496752 0.15909012 0.22133321 0.10082181]\n",
      " [0.70259761 0.3514021  0.98044455 0.32666257 0.09785622]\n",
      " [0.39796225 0.30534467 0.13812191 0.8749169  0.61620216]\n",
      " [0.95331429 0.09438137 0.36336528 0.92102543 0.92081628]\n",
      " [0.63196487 0.01617935 0.66318828 0.34896708 0.51736926]\n",
      " [0.76187074 0.82715664 0.31977392 0.99093441 0.98963602]\n",
      " [0.95733897 0.83545844 0.0507548  0.68381576 0.72895532]\n",
      " [0.49806038 0.69702272 0.12894031 0.02278899 0.86453239]\n",
      " [0.34447373 0.47077906 0.12580416 0.02891603 0.26095571]\n",
      " [0.52913184 0.6017668  0.33616509 0.27705632 0.51482639]]\n"
     ]
    }
   ],
   "source": [
    "print(C)"
   ]
  },
  {
   "cell_type": "code",
   "execution_count": 7,
   "id": "7ffec402",
   "metadata": {
    "ExecuteTime": {
     "end_time": "2023-09-15T01:54:19.588899Z",
     "start_time": "2023-09-15T01:54:19.573558Z"
    }
   },
   "outputs": [
    {
     "name": "stdout",
     "output_type": "stream",
     "text": [
      "[[3 4]\n",
      " [5 6]]\n"
     ]
    }
   ],
   "source": [
    "print(D)"
   ]
  },
  {
   "cell_type": "code",
   "execution_count": 10,
   "id": "0523b653",
   "metadata": {
    "ExecuteTime": {
     "end_time": "2023-09-15T01:57:30.687322Z",
     "start_time": "2023-09-15T01:57:30.637455Z"
    }
   },
   "outputs": [
    {
     "data": {
      "text/plain": [
       "matrix([[ 17.66699819,  -6.76908714],\n",
       "        [-39.83300787,  19.17024175]])"
      ]
     },
     "execution_count": 10,
     "metadata": {},
     "output_type": "execute_result"
    }
   ],
   "source": [
    "A.I # A의 역행렬"
   ]
  },
  {
   "cell_type": "code",
   "execution_count": 11,
   "id": "a63175cc",
   "metadata": {
    "ExecuteTime": {
     "end_time": "2023-09-15T01:57:44.641190Z",
     "start_time": "2023-09-15T01:57:44.626812Z"
    }
   },
   "outputs": [
    {
     "data": {
      "text/plain": [
       "0.014482778384430552"
      ]
     },
     "execution_count": 11,
     "metadata": {},
     "output_type": "execute_result"
    }
   ],
   "source": [
    "linalg.det(A) #A의 행렬식 det(A)"
   ]
  },
  {
   "cell_type": "code",
   "execution_count": 13,
   "id": "82eb8208",
   "metadata": {
    "ExecuteTime": {
     "end_time": "2023-09-15T02:02:42.722112Z",
     "start_time": "2023-09-15T02:02:42.711955Z"
    }
   },
   "outputs": [
    {
     "data": {
      "text/plain": [
       "matrix([[0.27763836, 0.57689263],\n",
       "        [0.09803519, 0.25586722]])"
      ]
     },
     "execution_count": 13,
     "metadata": {},
     "output_type": "execute_result"
    }
   ],
   "source": [
    "A.T # A의 전치행렬"
   ]
  },
  {
   "cell_type": "code",
   "execution_count": 14,
   "id": "8b8c5303",
   "metadata": {
    "ExecuteTime": {
     "end_time": "2023-09-15T02:02:44.881786Z",
     "start_time": "2023-09-15T02:02:44.866565Z"
    }
   },
   "outputs": [
    {
     "data": {
      "text/plain": [
       "matrix([[3.27763836, 4.09803519],\n",
       "        [5.57689263, 6.25586722]])"
      ]
     },
     "execution_count": 14,
     "metadata": {},
     "output_type": "execute_result"
    }
   ],
   "source": [
    "np.add(A,D) # A와 D의 합"
   ]
  },
  {
   "cell_type": "code",
   "execution_count": 15,
   "id": "7601ec3c",
   "metadata": {
    "ExecuteTime": {
     "end_time": "2023-09-15T02:02:46.463923Z",
     "start_time": "2023-09-15T02:02:46.449795Z"
    }
   },
   "outputs": [
    {
     "data": {
      "text/plain": [
       "matrix([[-2.72236164, -3.90196481],\n",
       "        [-4.42310737, -5.74413278]])"
      ]
     },
     "execution_count": 15,
     "metadata": {},
     "output_type": "execute_result"
    }
   ],
   "source": [
    "np.subtract(A, D) # A와 D의 차"
   ]
  },
  {
   "cell_type": "code",
   "execution_count": 16,
   "id": "9a66f234",
   "metadata": {
    "ExecuteTime": {
     "end_time": "2023-09-15T02:02:48.554135Z",
     "start_time": "2023-09-15T02:02:48.536403Z"
    }
   },
   "outputs": [
    {
     "data": {
      "text/plain": [
       "matrix([[0.09254612, 0.0245088 ],\n",
       "        [0.11537853, 0.04264454]])"
      ]
     },
     "execution_count": 16,
     "metadata": {},
     "output_type": "execute_result"
    }
   ],
   "source": [
    "np.divide(A, D) # A 나누기 D"
   ]
  }
 ],
 "metadata": {
  "kernelspec": {
   "display_name": "Python 3 (ipykernel)",
   "language": "python",
   "name": "python3"
  },
  "language_info": {
   "codemirror_mode": {
    "name": "ipython",
    "version": 3
   },
   "file_extension": ".py",
   "mimetype": "text/x-python",
   "name": "python",
   "nbconvert_exporter": "python",
   "pygments_lexer": "ipython3",
   "version": "3.9.12"
  },
  "toc": {
   "base_numbering": 1,
   "nav_menu": {},
   "number_sections": true,
   "sideBar": true,
   "skip_h1_title": false,
   "title_cell": "Table of Contents",
   "title_sidebar": "Contents",
   "toc_cell": false,
   "toc_position": {},
   "toc_section_display": true,
   "toc_window_display": false
  }
 },
 "nbformat": 4,
 "nbformat_minor": 5
}
