{
 "cells": [
  {
   "cell_type": "code",
   "execution_count": 6,
   "id": "cd509aa2",
   "metadata": {
    "ExecuteTime": {
     "end_time": "2023-09-20T11:22:31.093747Z",
     "start_time": "2023-09-20T11:22:31.087148Z"
    }
   },
   "outputs": [],
   "source": [
    "import numpy as np\n",
    "a = np.mat(\n",
    "[\n",
    "    [1, 0],\n",
    "    [-3, 2],\n",
    "    [8, 4]\n",
    "])\n",
    "\n",
    "b = np.mat(\n",
    "[\n",
    "    [4, 4],\n",
    "    [1, -5],\n",
    "    [7, 9]\n",
    "])\n",
    "\n",
    "c = np.mat(\n",
    "[\n",
    "    [5, 1, -2],\n",
    "    [3, 1, 5],\n",
    "    [4, -7, 8]\n",
    "])\n",
    "\n",
    "d = np.mat(\n",
    "[\n",
    "    [1, 0, 6],\n",
    "    [3, -1, 4],\n",
    "    [0, 5, -3]\n",
    "])"
   ]
  },
  {
   "cell_type": "code",
   "execution_count": 20,
   "id": "db375ec4",
   "metadata": {
    "ExecuteTime": {
     "end_time": "2023-09-20T11:40:20.505743Z",
     "start_time": "2023-09-20T11:40:20.489067Z"
    }
   },
   "outputs": [],
   "source": [
    "import numpy as np\n",
    "a = np.mat(\n",
    "[\n",
    "    [-5, 0],\n",
    "    [1, 2]\n",
    "])\n",
    "\n",
    "b = np.mat(\n",
    "[\n",
    "    [0, 4, 2],\n",
    "    [7, 1, 5],\n",
    "    [-2, -7, 9]\n",
    "])\n",
    "\n",
    "c = np.mat(\n",
    "[\n",
    "    [6, 3],\n",
    "    [5, -4],\n",
    "    [-2, 9]\n",
    "])\n",
    "\n",
    "d = np.mat(\n",
    "[\n",
    "    [-1, 2],\n",
    "    [5, -2],\n",
    "    [0, 3]\n",
    "])"
   ]
  },
  {
   "cell_type": "code",
   "execution_count": 35,
   "id": "eb5760b5",
   "metadata": {
    "ExecuteTime": {
     "end_time": "2023-09-20T11:55:46.093830Z",
     "start_time": "2023-09-20T11:55:46.081700Z"
    },
    "scrolled": true
   },
   "outputs": [
    {
     "data": {
      "text/plain": [
       "matrix([[  9, -18],\n",
       "        [-45,  18],\n",
       "        [  0, -27]])"
      ]
     },
     "execution_count": 35,
     "metadata": {},
     "output_type": "execute_result"
    }
   ],
   "source": [
    "-9*d"
   ]
  },
  {
   "cell_type": "code",
   "execution_count": 3,
   "id": "1edf0ec6",
   "metadata": {
    "ExecuteTime": {
     "end_time": "2023-09-22T04:48:01.041240Z",
     "start_time": "2023-09-22T04:48:01.013100Z"
    }
   },
   "outputs": [],
   "source": [
    "import numpy as np\n",
    "a = np.mat(\n",
    "[\n",
    "    [1, 1],\n",
    "    [1, 1]\n",
    "])\n",
    "\n",
    "b = np.mat(\n",
    "[\n",
    "    [5, 5],\n",
    "    [1, 0]\n",
    "])\n",
    "\n",
    "\n",
    "c = np.mat(\n",
    "[\n",
    "    [-4, 3],\n",
    "    [5, 0],\n",
    "    [-1, 8]\n",
    "])\n",
    "\n",
    "d = np.mat(\n",
    "[\n",
    "    [0, 6, -4],\n",
    "    [6, 2, 7],\n",
    "    [-4, 7, 5]\n",
    "])\n",
    "\n",
    "e = np.mat(\n",
    "[\n",
    "    [1, -7, 4],\n",
    "    [6, 5, 0],\n",
    "    [3, -1, 5]\n",
    "])\n",
    "\n",
    "f = np.mat(\n",
    "[\n",
    "    [-8, 4, 1, -5],\n",
    "    [-2, 0, 0, 0],\n",
    "    [7, 3, -5, 9]\n",
    "])\n",
    "\n",
    "g = np.mat(\n",
    "[\n",
    "    [1, 5, -1, -5],\n",
    "    [0, 8, 4, -3],\n",
    "    [2, -6, 7, 7],\n",
    "    [9, -2, 5, -9]\n",
    "])\n",
    "h = np.mat(\n",
    "[\n",
    "    [4, -7, 3, 9],\n",
    "    [-7, 5, 8, -2],\n",
    "    [3, 8, -2, 0],\n",
    "    [9, -2, 0, -9]\n",
    "])"
   ]
  },
  {
   "cell_type": "code",
   "execution_count": 7,
   "id": "5b19749a",
   "metadata": {
    "ExecuteTime": {
     "end_time": "2023-09-22T04:52:43.033892Z",
     "start_time": "2023-09-22T04:52:43.013697Z"
    }
   },
   "outputs": [
    {
     "name": "stdout",
     "output_type": "stream",
     "text": [
      "a: [[1 1]\n",
      " [1 1]]\n",
      "b: [[5 1]\n",
      " [5 0]]\n",
      "c: [[-4  5 -1]\n",
      " [ 3  0  8]]\n",
      "d: [[ 0  6 -4]\n",
      " [ 6  2  7]\n",
      " [-4  7  5]]\n",
      "e: [[ 1  6  3]\n",
      " [-7  5 -1]\n",
      " [ 4  0  5]]\n",
      "f: [[-8 -2  7]\n",
      " [ 4  0  3]\n",
      " [ 1  0 -5]\n",
      " [-5  0  9]]\n",
      "g: [[ 1  0  2  9]\n",
      " [ 5  8 -6 -2]\n",
      " [-1  4  7  5]\n",
      " [-5 -3  7 -9]]\n",
      "h: [[ 4 -7  3  9]\n",
      " [-7  5  8 -2]\n",
      " [ 3  8 -2  0]\n",
      " [ 9 -2  0 -9]]\n"
     ]
    }
   ],
   "source": [
    "print(\"a:\", a.T)\n",
    "print(\"b:\", b.T)\n",
    "print(\"c:\", c.T)\n",
    "print(\"d:\", d.T)\n",
    "print(\"e:\", e.T)\n",
    "print(\"f:\", f.T)\n",
    "print(\"g:\", g.T)\n",
    "print(\"h:\", h.T)"
   ]
  },
  {
   "cell_type": "code",
   "execution_count": 12,
   "id": "423663e5",
   "metadata": {
    "ExecuteTime": {
     "end_time": "2023-09-22T05:06:09.240972Z",
     "start_time": "2023-09-22T05:06:09.228314Z"
    }
   },
   "outputs": [],
   "source": [
    "import numpy as np\n",
    "a = np.mat(\n",
    "[\n",
    "    [1, 3],\n",
    "    [5, 1],\n",
    "    [8, 0]\n",
    "])\n",
    "\n",
    "b = np.mat(\n",
    "[\n",
    "    [7, 1],\n",
    "    [4, 5]\n",
    "])\n",
    "\n",
    "c = np.mat(\n",
    "[\n",
    "    [4, 5, 3],\n",
    "    [8, 0, 1],\n",
    "    [2, 7, 2]\n",
    "])\n",
    "\n",
    "d = np.mat(\n",
    "[\n",
    "    [0, 1, 2],\n",
    "    [0, 3, 4]\n",
    "])"
   ]
  },
  {
   "cell_type": "code",
   "execution_count": 30,
   "id": "e862f98d",
   "metadata": {
    "ExecuteTime": {
     "end_time": "2023-09-22T05:17:55.160342Z",
     "start_time": "2023-09-22T05:17:55.147008Z"
    }
   },
   "outputs": [
    {
     "data": {
      "text/plain": [
       "matrix([[19, 16],\n",
       "        [39, 10],\n",
       "        [56,  8]])"
      ]
     },
     "execution_count": 30,
     "metadata": {},
     "output_type": "execute_result"
    }
   ],
   "source": [
    "a*b"
   ]
  },
  {
   "cell_type": "code",
   "execution_count": 13,
   "id": "5abeb8db",
   "metadata": {
    "ExecuteTime": {
     "end_time": "2023-09-22T05:06:11.666464Z",
     "start_time": "2023-09-22T05:06:11.650968Z"
    }
   },
   "outputs": [],
   "source": [
    "c1 = np.mat(\n",
    "[\n",
    "    [1, 0, 0],\n",
    "    [0, 1, 0],\n",
    "    [0, 0, 1]\n",
    "])\n"
   ]
  },
  {
   "cell_type": "code",
   "execution_count": 15,
   "id": "ff6dc3fc",
   "metadata": {
    "ExecuteTime": {
     "end_time": "2023-09-22T05:07:13.217310Z",
     "start_time": "2023-09-22T05:07:13.199119Z"
    }
   },
   "outputs": [],
   "source": [
    "c2 = np.mat(\n",
    "[\n",
    "    [0, 0, 0],\n",
    "    [0, 0, 0],\n",
    "    [0, 0, 0]\n",
    "])\n"
   ]
  },
  {
   "cell_type": "code",
   "execution_count": 18,
   "id": "777d76b4",
   "metadata": {
    "ExecuteTime": {
     "end_time": "2023-09-22T05:09:54.973367Z",
     "start_time": "2023-09-22T05:09:54.957049Z"
    },
    "scrolled": true
   },
   "outputs": [
    {
     "data": {
      "text/plain": [
       "matrix([[ True,  True,  True],\n",
       "        [ True,  True,  True],\n",
       "        [ True,  True,  True]])"
      ]
     },
     "execution_count": 18,
     "metadata": {},
     "output_type": "execute_result"
    }
   ],
   "source": [
    "c1+c == c+c1"
   ]
  },
  {
   "cell_type": "code",
   "execution_count": 5,
   "id": "0690b87c",
   "metadata": {
    "ExecuteTime": {
     "end_time": "2023-09-22T11:12:55.187141Z",
     "start_time": "2023-09-22T11:12:55.176496Z"
    }
   },
   "outputs": [],
   "source": [
    "import numpy as np\n",
    "import numpy.linalg as LA\n",
    "np.random.seed(0)\n",
    "a = np.mat(\n",
    "[\n",
    "    [8, 3],\n",
    "    [-2, -2]\n",
    "])\n",
    "\n",
    "b = np.mat(\n",
    "[\n",
    "    [3, 4],\n",
    "    [6, 8]\n",
    "])\n",
    "\n",
    "c = np.mat(\n",
    "[\n",
    "    [6, -1],\n",
    "    [2, 3]\n",
    "])\n",
    "\n",
    "d = np.mat(\n",
    "[\n",
    "    [3, -5, 1],\n",
    "    [3, 2, -1],\n",
    "    [-1, -1, 1]\n",
    "])"
   ]
  },
  {
   "cell_type": "code",
   "execution_count": 34,
   "id": "9e7bf63d",
   "metadata": {
    "ExecuteTime": {
     "end_time": "2023-09-22T05:23:41.637805Z",
     "start_time": "2023-09-22T05:23:41.605620Z"
    }
   },
   "outputs": [
    {
     "data": {
      "text/plain": [
       "-9.999999999999998"
      ]
     },
     "execution_count": 34,
     "metadata": {},
     "output_type": "execute_result"
    }
   ],
   "source": [
    "LA.det(a)"
   ]
  },
  {
   "cell_type": "code",
   "execution_count": 35,
   "id": "8508290d",
   "metadata": {
    "ExecuteTime": {
     "end_time": "2023-09-22T05:24:57.409058Z",
     "start_time": "2023-09-22T05:24:57.389865Z"
    }
   },
   "outputs": [
    {
     "data": {
      "text/plain": [
       "0.0"
      ]
     },
     "execution_count": 35,
     "metadata": {},
     "output_type": "execute_result"
    }
   ],
   "source": [
    "LA.det(b)"
   ]
  },
  {
   "cell_type": "code",
   "execution_count": 36,
   "id": "81682732",
   "metadata": {
    "ExecuteTime": {
     "end_time": "2023-09-22T05:24:59.121218Z",
     "start_time": "2023-09-22T05:24:59.104721Z"
    }
   },
   "outputs": [
    {
     "data": {
      "text/plain": [
       "20.000000000000007"
      ]
     },
     "execution_count": 36,
     "metadata": {},
     "output_type": "execute_result"
    }
   ],
   "source": [
    "LA.det(c)"
   ]
  },
  {
   "cell_type": "code",
   "execution_count": 8,
   "id": "d3cf52c9",
   "metadata": {
    "ExecuteTime": {
     "end_time": "2023-09-22T11:18:04.429498Z",
     "start_time": "2023-09-22T11:18:04.421417Z"
    }
   },
   "outputs": [],
   "source": [
    "\n",
    "inv_d = LA.inv(d)"
   ]
  },
  {
   "cell_type": "code",
   "execution_count": null,
   "id": "4b8c68e3",
   "metadata": {},
   "outputs": [],
   "source": [
    "x = d * b\n",
    "\n",
    "print(x)\n",
    "print(np.shape(x))"
   ]
  },
  {
   "cell_type": "code",
   "execution_count": 11,
   "id": "da5751f9",
   "metadata": {
    "ExecuteTime": {
     "end_time": "2023-09-22T11:22:55.400033Z",
     "start_time": "2023-09-22T11:22:55.384690Z"
    }
   },
   "outputs": [],
   "source": [
    "import numpy as np\n",
    "import numpy.linalg as LA\n",
    "A = np.mat(\n",
    "[\n",
    "    [3, -5, 1],\n",
    "    [3, 2, -1],\n",
    "    [-1, -1, 1]\n",
    "])\n",
    "B = np.mat(\n",
    "[\n",
    "    [-3],\n",
    "    [0],\n",
    "    [1]\n",
    "])"
   ]
  },
  {
   "cell_type": "code",
   "execution_count": 39,
   "id": "c4410390",
   "metadata": {
    "ExecuteTime": {
     "end_time": "2023-09-22T11:41:29.734527Z",
     "start_time": "2023-09-22T11:41:29.726219Z"
    }
   },
   "outputs": [],
   "source": [
    "import numpy as np\n",
    "import numpy.linalg as LA\n",
    "A = np.mat(\n",
    "[\n",
    "    [5, -1, 1],\n",
    "    [1, 1, 3],\n",
    "    [-2, 2, 4]\n",
    "])\n",
    "B = np.mat(\n",
    "[\n",
    "    [-6],\n",
    "    [0],\n",
    "    [2]\n",
    "])"
   ]
  },
  {
   "cell_type": "code",
   "execution_count": 61,
   "id": "fc0a5570",
   "metadata": {
    "ExecuteTime": {
     "end_time": "2023-09-22T11:48:26.315928Z",
     "start_time": "2023-09-22T11:48:26.300382Z"
    }
   },
   "outputs": [
    {
     "name": "stderr",
     "output_type": "stream",
     "text": [
      "C:\\Users\\grupi\\anaconda3\\lib\\site-packages\\numpy\\matrixlib\\defmatrix.py:145: VisibleDeprecationWarning: Creating an ndarray from ragged nested sequences (which is a list-or-tuple of lists-or-tuples-or ndarrays with different lengths or shapes) is deprecated. If you meant to do this, you must specify 'dtype=object' when creating the ndarray.\n",
      "  arr = N.array(data, dtype=dtype, copy=copy)\n"
     ]
    }
   ],
   "source": [
    "import numpy as np\n",
    "import numpy.linalg as LA\n",
    "A = np.mat(\n",
    "[\n",
    "    [ 2, 3],\n",
    "    [2, 6, 8],\n",
    "    [1, 5, 6]\n",
    "])\n",
    "B = np.mat(\n",
    "[\n",
    "    [7],\n",
    "    [10],\n",
    "    [1]\n",
    "])"
   ]
  },
  {
   "cell_type": "code",
   "execution_count": 58,
   "id": "54291499",
   "metadata": {
    "ExecuteTime": {
     "end_time": "2023-09-22T11:48:10.326325Z",
     "start_time": "2023-09-22T11:48:09.651522Z"
    }
   },
   "outputs": [
    {
     "ename": "UFuncTypeError",
     "evalue": "Cannot cast ufunc 'inv' input from dtype('O') to dtype('float64') with casting rule 'same_kind'",
     "output_type": "error",
     "traceback": [
      "\u001b[1;31m---------------------------------------------------------------------------\u001b[0m",
      "\u001b[1;31mUFuncTypeError\u001b[0m                            Traceback (most recent call last)",
      "Input \u001b[1;32mIn [58]\u001b[0m, in \u001b[0;36m<cell line: 1>\u001b[1;34m()\u001b[0m\n\u001b[1;32m----> 1\u001b[0m A_inv \u001b[38;5;241m=\u001b[39m \u001b[43mLA\u001b[49m\u001b[38;5;241;43m.\u001b[39;49m\u001b[43minv\u001b[49m\u001b[43m(\u001b[49m\u001b[43mA\u001b[49m\u001b[43m)\u001b[49m\n\u001b[0;32m      3\u001b[0m \u001b[38;5;28mprint\u001b[39m(A_inv)\n",
      "File \u001b[1;32m<__array_function__ internals>:5\u001b[0m, in \u001b[0;36minv\u001b[1;34m(*args, **kwargs)\u001b[0m\n",
      "File \u001b[1;32m~\\anaconda3\\lib\\site-packages\\numpy\\linalg\\linalg.py:545\u001b[0m, in \u001b[0;36minv\u001b[1;34m(a)\u001b[0m\n\u001b[0;32m    543\u001b[0m signature \u001b[38;5;241m=\u001b[39m \u001b[38;5;124m'\u001b[39m\u001b[38;5;124mD->D\u001b[39m\u001b[38;5;124m'\u001b[39m \u001b[38;5;28;01mif\u001b[39;00m isComplexType(t) \u001b[38;5;28;01melse\u001b[39;00m \u001b[38;5;124m'\u001b[39m\u001b[38;5;124md->d\u001b[39m\u001b[38;5;124m'\u001b[39m\n\u001b[0;32m    544\u001b[0m extobj \u001b[38;5;241m=\u001b[39m get_linalg_error_extobj(_raise_linalgerror_singular)\n\u001b[1;32m--> 545\u001b[0m ainv \u001b[38;5;241m=\u001b[39m \u001b[43m_umath_linalg\u001b[49m\u001b[38;5;241;43m.\u001b[39;49m\u001b[43minv\u001b[49m\u001b[43m(\u001b[49m\u001b[43ma\u001b[49m\u001b[43m,\u001b[49m\u001b[43m \u001b[49m\u001b[43msignature\u001b[49m\u001b[38;5;241;43m=\u001b[39;49m\u001b[43msignature\u001b[49m\u001b[43m,\u001b[49m\u001b[43m \u001b[49m\u001b[43mextobj\u001b[49m\u001b[38;5;241;43m=\u001b[39;49m\u001b[43mextobj\u001b[49m\u001b[43m)\u001b[49m\n\u001b[0;32m    546\u001b[0m \u001b[38;5;28;01mreturn\u001b[39;00m wrap(ainv\u001b[38;5;241m.\u001b[39mastype(result_t, copy\u001b[38;5;241m=\u001b[39m\u001b[38;5;28;01mFalse\u001b[39;00m))\n",
      "\u001b[1;31mUFuncTypeError\u001b[0m: Cannot cast ufunc 'inv' input from dtype('O') to dtype('float64') with casting rule 'same_kind'"
     ]
    }
   ],
   "source": [
    "A_inv = LA.inv(A)\n",
    "\n",
    "print(A_inv)"
   ]
  },
  {
   "cell_type": "code",
   "execution_count": 60,
   "id": "1d8923ce",
   "metadata": {
    "ExecuteTime": {
     "end_time": "2023-09-22T11:48:16.829137Z",
     "start_time": "2023-09-22T11:48:16.820441Z"
    }
   },
   "outputs": [
    {
     "name": "stdout",
     "output_type": "stream",
     "text": [
      "[[ 2.5]\n",
      " [ 4.5]\n",
      " [-4. ]]\n"
     ]
    }
   ],
   "source": [
    "x = A_inv * b\n",
    "print(x)"
   ]
  },
  {
   "cell_type": "code",
   "execution_count": 49,
   "id": "ba311eac",
   "metadata": {
    "ExecuteTime": {
     "end_time": "2023-09-22T11:45:09.329078Z",
     "start_time": "2023-09-22T11:45:09.305905Z"
    }
   },
   "outputs": [
    {
     "data": {
      "text/plain": [
       "-3.0020000000000002"
      ]
     },
     "execution_count": 49,
     "metadata": {},
     "output_type": "execute_result"
    }
   ],
   "source": [
    "3*0.166+2*(-2.833)+2.166"
   ]
  },
  {
   "cell_type": "code",
   "execution_count": 38,
   "id": "b24bf862",
   "metadata": {
    "ExecuteTime": {
     "end_time": "2023-09-22T11:37:25.117015Z",
     "start_time": "2023-09-22T11:37:25.106171Z"
    }
   },
   "outputs": [
    {
     "data": {
      "text/plain": [
       "1.67e-16"
      ]
     },
     "execution_count": 38,
     "metadata": {},
     "output_type": "execute_result"
    }
   ],
   "source": [
    "round(1.66533454e-16,18)"
   ]
  }
 ],
 "metadata": {
  "kernelspec": {
   "display_name": "Python 3 (ipykernel)",
   "language": "python",
   "name": "python3"
  },
  "language_info": {
   "codemirror_mode": {
    "name": "ipython",
    "version": 3
   },
   "file_extension": ".py",
   "mimetype": "text/x-python",
   "name": "python",
   "nbconvert_exporter": "python",
   "pygments_lexer": "ipython3",
   "version": "3.9.12"
  },
  "toc": {
   "base_numbering": 1,
   "nav_menu": {},
   "number_sections": true,
   "sideBar": true,
   "skip_h1_title": false,
   "title_cell": "Table of Contents",
   "title_sidebar": "Contents",
   "toc_cell": false,
   "toc_position": {},
   "toc_section_display": true,
   "toc_window_display": false
  }
 },
 "nbformat": 4,
 "nbformat_minor": 5
}
